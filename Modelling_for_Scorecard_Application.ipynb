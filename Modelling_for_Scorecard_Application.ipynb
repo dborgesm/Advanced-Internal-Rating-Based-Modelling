{
  "nbformat": 4,
  "nbformat_minor": 0,
  "metadata": {
    "colab": {
      "name": "Modelling for Scorecard Application.ipynb",
      "provenance": [],
      "collapsed_sections": [],
      "include_colab_link": true
    },
    "kernelspec": {
      "name": "python3",
      "display_name": "Python 3"
    }
  },
  "cells": [
    {
      "cell_type": "markdown",
      "metadata": {
        "id": "view-in-github",
        "colab_type": "text"
      },
      "source": [
        "<a href=\"https://colab.research.google.com/github/dborgesm/Banking-Analytics/blob/master/Modelling_for_Scorecard_Application.ipynb\" target=\"_parent\"><img src=\"https://colab.research.google.com/assets/colab-badge.svg\" alt=\"Open In Colab\"/></a>"
      ]
    },
    {
      "cell_type": "markdown",
      "metadata": {
        "id": "1sPuO4qt1mm2",
        "colab_type": "text"
      },
      "source": [
        "# Modelling\n",
        "\n",
        "Logistic Regression was used and to verify the model performance the AUC-ROC curve was plotted. "
      ]
    },
    {
      "cell_type": "code",
      "metadata": {
        "id": "_uKQ4vdupfO_",
        "colab_type": "code",
        "colab": {}
      },
      "source": [
        "#Installing packages\n",
        "import pandas as pd\n",
        "import numpy as np\n",
        "import seaborn as sns\n",
        "import matplotlib.pyplot as plt\n",
        "%matplotlib inline\n"
      ],
      "execution_count": 0,
      "outputs": []
    },
    {
      "cell_type": "code",
      "metadata": {
        "id": "yci5pHWErspv",
        "colab_type": "code",
        "colab": {}
      },
      "source": [
        "!pip install scorecardpy"
      ],
      "execution_count": 0,
      "outputs": []
    },
    {
      "cell_type": "code",
      "metadata": {
        "id": "ql9fungFrvAe",
        "colab_type": "code",
        "colab": {}
      },
      "source": [
        "import scorecardpy as sc"
      ],
      "execution_count": 0,
      "outputs": []
    },
    {
      "cell_type": "markdown",
      "metadata": {
        "id": "bQJbvDYgcouI",
        "colab_type": "text"
      },
      "source": [
        "Loading the train and testing data from last script and also the clean data set from data preprocessing\n"
      ]
    },
    {
      "cell_type": "code",
      "metadata": {
        "id": "2yfIxt9Lpm5B",
        "colab_type": "code",
        "outputId": "69c92482-4cf4-4947-824d-458f5886abf4",
        "colab": {
          "base_uri": "https://localhost:8080/",
          "height": 85
        }
      },
      "source": [
        "!gdown https://drive.google.com/uc?id=1MEfgUPP_chwwGCoLScjY0mqv0RArNfxQ\n"
      ],
      "execution_count": 0,
      "outputs": [
        {
          "output_type": "stream",
          "text": [
            "Downloading...\n",
            "From: https://drive.google.com/uc?id=1MEfgUPP_chwwGCoLScjY0mqv0RArNfxQ\n",
            "To: /content/train_woe.csv\n",
            "190MB [00:01, 175MB/s]\n"
          ],
          "name": "stdout"
        }
      ]
    },
    {
      "cell_type": "code",
      "metadata": {
        "id": "xSZIOkhjupWM",
        "colab_type": "code",
        "outputId": "b4eeb844-ec9c-499a-83d4-9a235f699a9d",
        "colab": {
          "base_uri": "https://localhost:8080/",
          "height": 85
        }
      },
      "source": [
        "!gdown https://drive.google.com/uc?id=1XRQRUVl235ayeIg1i0Y17h-cIPQ1htFk\n"
      ],
      "execution_count": 0,
      "outputs": [
        {
          "output_type": "stream",
          "text": [
            "Downloading...\n",
            "From: https://drive.google.com/uc?id=1XRQRUVl235ayeIg1i0Y17h-cIPQ1htFk\n",
            "To: /content/test_woe.csv\n",
            "82.3MB [00:00, 95.0MB/s]\n"
          ],
          "name": "stdout"
        }
      ]
    },
    {
      "cell_type": "code",
      "metadata": {
        "id": "jjF-jooGpkzE",
        "colab_type": "code",
        "outputId": "8ce60b0b-4a5f-48a5-af5f-6f5bfd0054bb",
        "colab": {
          "base_uri": "https://localhost:8080/",
          "height": 85
        }
      },
      "source": [
        "!gdown https://drive.google.com/uc?id=19tu2dEmP9aDPcclvrYh5gAdDRf0ux_0W"
      ],
      "execution_count": 0,
      "outputs": [
        {
          "output_type": "stream",
          "text": [
            "Downloading...\n",
            "From: https://drive.google.com/uc?id=19tu2dEmP9aDPcclvrYh5gAdDRf0ux_0W\n",
            "To: /content/as_data.csv\n",
            "445MB [00:08, 50.9MB/s]\n"
          ],
          "name": "stdout"
        }
      ]
    },
    {
      "cell_type": "code",
      "metadata": {
        "id": "RTg88bNUuyT2",
        "colab_type": "code",
        "colab": {}
      },
      "source": [
        "train_woe = pd.read_csv(\"/content/train_woe.csv\")\n",
        "test_woe = pd.read_csv(\"/content/test_woe.csv\")\n",
        "data = pd.read_csv(\"/content/as_data.csv\")"
      ],
      "execution_count": 0,
      "outputs": []
    },
    {
      "cell_type": "code",
      "metadata": {
        "id": "IXSo2KoUqMje",
        "colab_type": "code",
        "colab": {}
      },
      "source": [
        "# I will eliminate the columns from the \"data\" data set so i can creat my test and training data with no woe applied, also this data set will contain all the indeterminate cases, not only the charge off. \n",
        "drop_col = ['open_act_il',\n",
        "        'percent_bc_gt_75', 'mo_sin_rcnt_tl',\n",
        "        'inq_last_6mths', 'dti',\n",
        "        'tot_hi_cred_lim', 'mo_sin_rcnt_rev_tl_op',\n",
        "        'annual_inc', 'inq_last_12m',\n",
        "        'mths_since_recent_bc', 'initial_list_status',\n",
        "        'home_ownership', 'num_actv_rev_tl',\n",
        "        'total_cu_tl', 'mths_since_recent_inq',\n",
        "        'mort_acc', 'mo_sin_old_rev_tl_op',\n",
        "        'purpose', 'inq_fi',\n",
        "        'mo_sin_old_il_acct', 'mths_since_last_major_derog',\n",
        "        'zip_code', 'open_il_12m',\n",
        "        'num_accts_ever_120_pd', 'num_rev_accts',\n",
        "        'addr_region', 'pct_tl_nvr_dlq',\n",
        "        'total_il_high_credit_limit', 'num_il_tl',\n",
        "        'emp_length', 'tot_coll_amt',\n",
        "        'term', 'delinq_2yrs', 'pub_rec_bankruptcies',\n",
        "        'num_tl_90g_dpd_24m', 'pub_rec']"
      ],
      "execution_count": 0,
      "outputs": []
    },
    {
      "cell_type": "code",
      "metadata": {
        "id": "zqkH55aXqvIe",
        "colab_type": "code",
        "outputId": "336a8906-f172-429f-ac28-827284de0c15",
        "colab": {
          "base_uri": "https://localhost:8080/",
          "height": 51
        }
      },
      "source": [
        "# Eliminating unused variables\n",
        "data.drop(drop_col, axis=1, inplace=True)\n",
        "\n",
        "# Same train-test split as before\n",
        "train_nowoe, test_nowoe = sc.split_df(data,\n",
        "                          y = 'default',\n",
        "                          ratio = 0.7, seed = 251082976).values()\n",
        "\n",
        "#eliminating the indeterminates in the training data\n",
        "indeterminate = train_nowoe[train_nowoe.loan_status == \"Late (31-120 days)\"].index\n",
        "train_nowoe.drop(indeterminate, inplace=True)\n",
        "train_nowoe.drop([\"loan_status\"], axis=1, inplace=True)\n",
        "test_nowoe.drop([\"loan_status\"], axis=1, inplace=True)\n",
        "# Give breaks for WoE\n",
        "breaks_adj = {\n",
        "    'all_util': [4,40,60],\n",
        "    'bc_open_to_buy': [4000,10000,18000,29000],\n",
        "    'int_rate': [12,15,17],\n",
        "    'mths_since_rcnt_il': [1.0,7.0,15.0],\n",
        "    'il_util': [1,60,80],\n",
        "    'acc_open_past_24mths': [2.0,4.0,7.0],\n",
        "    'max_bal_bc': [500.0,6500.0]\n",
        "}\n",
        "# Apply breaks.\n",
        "bins_adj = sc.woebin(train_nowoe, y=\"default\",\n",
        "                     breaks_list=breaks_adj)"
      ],
      "execution_count": 0,
      "outputs": [
        {
          "output_type": "stream",
          "text": [
            "[INFO] creating woe binning ...\n",
            "Binning on 1343093 rows and 8 columns in 00:00:37\n"
          ],
          "name": "stdout"
        }
      ]
    },
    {
      "cell_type": "markdown",
      "metadata": {
        "id": "TKWztuclSc2Y",
        "colab_type": "text"
      },
      "source": [
        "I will try 3 models, because some of the variables have IV less than 0.1 the lowest value is 0.7 and 0.8\n"
      ]
    },
    {
      "cell_type": "markdown",
      "metadata": {
        "id": "0DdSgrHi7hjE",
        "colab_type": "text"
      },
      "source": [
        "Model 2: il util and acc_open_past_24mths are not included"
      ]
    },
    {
      "cell_type": "code",
      "metadata": {
        "id": "4OphUGwN_qti",
        "colab_type": "code",
        "colab": {}
      },
      "source": [
        "train_woe1 =  train_woe.drop([\"acc_open_past_24mths_woe\", \"il_util_woe\"], axis=1)\n",
        "test_woe1 = test_woe.drop([\"acc_open_past_24mths_woe\", \"il_util_woe\"], axis=1)"
      ],
      "execution_count": 0,
      "outputs": []
    },
    {
      "cell_type": "code",
      "metadata": {
        "id": "DnLTyHiz7gzi",
        "colab_type": "code",
        "outputId": "bc58f5cc-637f-4ce3-b225-4ba154d12fc5",
        "colab": {
          "base_uri": "https://localhost:8080/",
          "height": 51
        }
      },
      "source": [
        "train_nowoe1 =  train_nowoe.drop([\"acc_open_past_24mths\", \"il_util\"], axis=1)\n",
        "test_nowoe1 = test_nowoe.drop([\"acc_open_past_24mths\", \"il_util\"], axis=1)\n",
        "# Give breaks for WoE\n",
        "breaks_adj1 = {\n",
        "    'all_util': [4,40,60],\n",
        "    'bc_open_to_buy': [4000,10000,18000,29000],\n",
        "    'int_rate': [12,15,17],\n",
        "    'mths_since_rcnt_il': [1.0,7.0,15.0],\n",
        "    'max_bal_bc': [500.0,6500.0]\n",
        "}\n",
        "# Apply breaks.\n",
        "bins_adj1 = sc.woebin(train_nowoe1, y=\"default\",\n",
        "                     breaks_list=breaks_adj1)"
      ],
      "execution_count": 0,
      "outputs": [
        {
          "output_type": "stream",
          "text": [
            "[INFO] creating woe binning ...\n",
            "Binning on 1343093 rows and 6 columns in 00:00:28\n"
          ],
          "name": "stdout"
        }
      ]
    },
    {
      "cell_type": "markdown",
      "metadata": {
        "id": "ZKF5rAa8CxW0",
        "colab_type": "text"
      },
      "source": [
        "Model 3 where only the variables with a IV greater or equal than 0.1\n"
      ]
    },
    {
      "cell_type": "code",
      "metadata": {
        "id": "1oC-CbTLCtcJ",
        "colab_type": "code",
        "outputId": "e8e3c0d2-9f85-4151-d4b1-c6334e9e40d3",
        "colab": {
          "base_uri": "https://localhost:8080/",
          "height": 51
        }
      },
      "source": [
        "train_woe2 =  train_woe.drop([\"acc_open_past_24mths_woe\", \"il_util_woe\", \"max_bal_bc_woe\", \"bc_open_to_buy_woe\"], axis=1)\n",
        "test_woe2 = test_woe.drop([\"acc_open_past_24mths_woe\", \"il_util_woe\", \"max_bal_bc_woe\", \"bc_open_to_buy_woe\"], axis=1)\n",
        "\n",
        "train_nowoe2 =  train_nowoe.drop([\"acc_open_past_24mths\", \"il_util\", \"max_bal_bc\", \"bc_open_to_buy\"], axis=1)\n",
        "test_nowoe2 = test_nowoe.drop([\"acc_open_past_24mths\", \"il_util\", \"max_bal_bc\", \"bc_open_to_buy\"], axis=1)\n",
        "# Give breaks for WoE\n",
        "breaks_adj2 = {\n",
        "    'all_util': [4,40,60],\n",
        "    'int_rate': [12,15,17],\n",
        "    'mths_since_rcnt_il': [1.0,7.0,15.0],\n",
        "}\n",
        "# Apply breaks.\n",
        "bins_adj2 = sc.woebin(train_nowoe1, y=\"default\",\n",
        "                     breaks_list=breaks_adj2)"
      ],
      "execution_count": 0,
      "outputs": [
        {
          "output_type": "stream",
          "text": [
            "[INFO] creating woe binning ...\n",
            "Binning on 1343093 rows and 6 columns in 00:00:32\n"
          ],
          "name": "stdout"
        }
      ]
    },
    {
      "cell_type": "markdown",
      "metadata": {
        "id": "zayLZr_6v9hy",
        "colab_type": "text"
      },
      "source": [
        "## Generating a logistic regression object"
      ]
    },
    {
      "cell_type": "code",
      "metadata": {
        "id": "tmHxiINVv80V",
        "colab_type": "code",
        "colab": {}
      },
      "source": [
        "from sklearn.linear_model import LogisticRegression\n",
        "\n",
        "cl_logreg1 = LogisticRegression(penalty='l1', # Lasso penalization\n",
        "                                     tol=0.0001, # Tolerance for parameters\n",
        "                                     C=1.0, # Penalty constant, see below\n",
        "                                     fit_intercept=True, # Use constant?\n",
        "                                     class_weight='balanced', # Weights, see below\n",
        "                                     random_state=251082976, # Random seed\n",
        "                                     max_iter=10000, # Maximum iterations\n",
        "                                     verbose=1, # Show process. 1 is yes.\n",
        "                                     solver = 'saga',\n",
        "                                     warm_start=False # Train anew or start from previous weights. For repeated training. \n",
        "                                    )\n",
        "cl_logreg2 = LogisticRegression(penalty='l1', # Lasso penalization\n",
        "                                     tol=0.0001, # Tolerance for parameters\n",
        "                                     C=1.0, # Penalty constant, see below\n",
        "                                     fit_intercept=True, # Use constant?\n",
        "                                     class_weight='balanced', # Weights, see below\n",
        "                                     random_state=251082976, # Random seed\n",
        "                                     max_iter=10000, # Maximum iterations\n",
        "                                     verbose=1, # Show process. 1 is yes.\n",
        "                                     solver = 'saga',\n",
        "                                     warm_start=False # Train anew or start from previous weights. For repeated training. \n",
        "                                    )\n",
        "\n",
        "cl_logreg3 = LogisticRegression(penalty='l1', # Lasso penalization\n",
        "                                     tol=0.0001, # Tolerance for parameters\n",
        "                                     C=1.0, # Penalty constant, see below\n",
        "                                     fit_intercept=True, # Use constant?\n",
        "                                     class_weight='balanced', # Weights, see below\n",
        "                                     random_state=251082976, # Random seed\n",
        "                                     max_iter=10000, # Maximum iterations\n",
        "                                     verbose=1, # Show process. 1 is yes.\n",
        "                                     solver = 'saga',\n",
        "                                     warm_start=False # Train anew or start from previous weights. For repeated training. \n",
        "                                    )"
      ],
      "execution_count": 0,
      "outputs": []
    },
    {
      "cell_type": "markdown",
      "metadata": {
        "id": "QDmULPDedbKx",
        "colab_type": "text"
      },
      "source": [
        "## Training!\n",
        "Applying the method ```fit``` to our data, giving it the training set and the target variable as inputs."
      ]
    },
    {
      "cell_type": "code",
      "metadata": {
        "id": "aGzK11UOdUDE",
        "colab_type": "code",
        "outputId": "4f5b0297-16f4-41f4-befb-0aabadf78894",
        "colab": {
          "base_uri": "https://localhost:8080/",
          "height": 68
        }
      },
      "source": [
        "model1 = cl_logreg1.fit(X = train_woe.iloc[:, 1:],\n",
        "                    y = train_woe['default']\n",
        "                   )"
      ],
      "execution_count": 0,
      "outputs": [
        {
          "output_type": "stream",
          "text": [
            "[Parallel(n_jobs=1)]: Using backend SequentialBackend with 1 concurrent workers.\n"
          ],
          "name": "stderr"
        },
        {
          "output_type": "stream",
          "text": [
            "convergence after 31 epochs took 29 seconds\n"
          ],
          "name": "stdout"
        },
        {
          "output_type": "stream",
          "text": [
            "[Parallel(n_jobs=1)]: Done   1 out of   1 | elapsed:   29.3s finished\n"
          ],
          "name": "stderr"
        }
      ]
    },
    {
      "cell_type": "code",
      "metadata": {
        "id": "PdbydTPe_CXI",
        "colab_type": "code",
        "outputId": "03426c6e-1e95-4011-c132-fbddeb5b28cc",
        "colab": {
          "base_uri": "https://localhost:8080/",
          "height": 68
        }
      },
      "source": [
        "model2 = cl_logreg2.fit(X = train_woe1.iloc[:, 1:], \n",
        "                    y = train_woe1['default'] \n",
        "                   )"
      ],
      "execution_count": 0,
      "outputs": [
        {
          "output_type": "stream",
          "text": [
            "[Parallel(n_jobs=1)]: Using backend SequentialBackend with 1 concurrent workers.\n"
          ],
          "name": "stderr"
        },
        {
          "output_type": "stream",
          "text": [
            "convergence after 32 epochs took 28 seconds\n"
          ],
          "name": "stdout"
        },
        {
          "output_type": "stream",
          "text": [
            "[Parallel(n_jobs=1)]: Done   1 out of   1 | elapsed:   28.5s finished\n"
          ],
          "name": "stderr"
        }
      ]
    },
    {
      "cell_type": "code",
      "metadata": {
        "id": "HWmNRNKmDnAJ",
        "colab_type": "code",
        "outputId": "19047fca-bf01-4061-a85b-08385517f46f",
        "colab": {
          "base_uri": "https://localhost:8080/",
          "height": 68
        }
      },
      "source": [
        "model3 = cl_logreg3.fit(X = train_woe2.iloc[:, 1:], # All rows and from the second var to end\n",
        "                    y = train_woe2['default'] # The target\n",
        "                   )"
      ],
      "execution_count": 0,
      "outputs": [
        {
          "output_type": "stream",
          "text": [
            "[Parallel(n_jobs=1)]: Using backend SequentialBackend with 1 concurrent workers.\n"
          ],
          "name": "stderr"
        },
        {
          "output_type": "stream",
          "text": [
            "convergence after 37 epochs took 31 seconds\n"
          ],
          "name": "stdout"
        },
        {
          "output_type": "stream",
          "text": [
            "[Parallel(n_jobs=1)]: Done   1 out of   1 | elapsed:   31.4s finished\n"
          ],
          "name": "stderr"
        }
      ]
    },
    {
      "cell_type": "markdown",
      "metadata": {
        "id": "gkFgb20-xefg",
        "colab_type": "text"
      },
      "source": [
        "Let's check the parameters"
      ]
    },
    {
      "cell_type": "code",
      "metadata": {
        "id": "o7WHumUaAJvW",
        "colab_type": "code",
        "outputId": "2835f8ab-2301-40f6-bf13-c77aa9d762a4",
        "colab": {
          "base_uri": "https://localhost:8080/",
          "height": 34
        }
      },
      "source": [
        "#Parameters of the full model (all variables after appying WoE)\n",
        "coef_df1 = pd.concat([pd.DataFrame({'column': train_woe.columns[1:]}), \n",
        "                    pd.DataFrame(np.transpose(model1.coef_))],\n",
        "                    axis = 1\n",
        "                   )\n",
        "\n",
        "coef_df1\n",
        "model1.intercept_"
      ],
      "execution_count": 0,
      "outputs": [
        {
          "output_type": "execute_result",
          "data": {
            "text/plain": [
              "array([-0.00215631])"
            ]
          },
          "metadata": {
            "tags": []
          },
          "execution_count": 185
        }
      ]
    },
    {
      "cell_type": "code",
      "metadata": {
        "id": "UWZMSrws53Lh",
        "colab_type": "code",
        "outputId": "2b4e6bd1-3be9-49f2-f4e3-ac9f7604184f",
        "colab": {
          "base_uri": "https://localhost:8080/",
          "height": 34
        }
      },
      "source": [
        "# Parameters of the second model \n",
        "coef_df2 = pd.concat([pd.DataFrame({'column': train_woe1.columns[1:]}), \n",
        "                    pd.DataFrame(np.transpose(model2.coef_))],\n",
        "                    axis = 1\n",
        "                   )\n",
        "\n",
        "coef_df2\n",
        "model2.intercept_"
      ],
      "execution_count": 0,
      "outputs": [
        {
          "output_type": "execute_result",
          "data": {
            "text/plain": [
              "array([-0.0017227])"
            ]
          },
          "metadata": {
            "tags": []
          },
          "execution_count": 186
        }
      ]
    },
    {
      "cell_type": "code",
      "metadata": {
        "colab_type": "code",
        "outputId": "0c1111e1-6bb2-4da9-91a4-23ac6acc8ab3",
        "id": "5PXRzRdHD_H5",
        "colab": {
          "base_uri": "https://localhost:8080/",
          "height": 159
        }
      },
      "source": [
        "# Parameters of the third model\n",
        "coef_df3 = pd.concat([pd.DataFrame({'column': train_woe2.columns[1:]}), \n",
        "                    pd.DataFrame(np.transpose(model3.coef_))],\n",
        "                    axis = 1\n",
        "                   )\n",
        "\n",
        "display(coef_df3)\n",
        "display(model3.intercept_)"
      ],
      "execution_count": 0,
      "outputs": [
        {
          "output_type": "display_data",
          "data": {
            "text/html": [
              "<div>\n",
              "<style scoped>\n",
              "    .dataframe tbody tr th:only-of-type {\n",
              "        vertical-align: middle;\n",
              "    }\n",
              "\n",
              "    .dataframe tbody tr th {\n",
              "        vertical-align: top;\n",
              "    }\n",
              "\n",
              "    .dataframe thead th {\n",
              "        text-align: right;\n",
              "    }\n",
              "</style>\n",
              "<table border=\"1\" class=\"dataframe\">\n",
              "  <thead>\n",
              "    <tr style=\"text-align: right;\">\n",
              "      <th></th>\n",
              "      <th>column</th>\n",
              "      <th>0</th>\n",
              "    </tr>\n",
              "  </thead>\n",
              "  <tbody>\n",
              "    <tr>\n",
              "      <th>0</th>\n",
              "      <td>mths_since_rcnt_il_woe</td>\n",
              "      <td>0.472666</td>\n",
              "    </tr>\n",
              "    <tr>\n",
              "      <th>1</th>\n",
              "      <td>all_util_woe</td>\n",
              "      <td>0.426562</td>\n",
              "    </tr>\n",
              "    <tr>\n",
              "      <th>2</th>\n",
              "      <td>int_rate_woe</td>\n",
              "      <td>0.941109</td>\n",
              "    </tr>\n",
              "  </tbody>\n",
              "</table>\n",
              "</div>"
            ],
            "text/plain": [
              "                   column         0\n",
              "0  mths_since_rcnt_il_woe  0.472666\n",
              "1            all_util_woe  0.426562\n",
              "2            int_rate_woe  0.941109"
            ]
          },
          "metadata": {
            "tags": []
          }
        },
        {
          "output_type": "display_data",
          "data": {
            "text/plain": [
              "array([-0.00178921])"
            ]
          },
          "metadata": {
            "tags": []
          }
        }
      ]
    },
    {
      "cell_type": "markdown",
      "metadata": {
        "id": "JReEmAEox6Gy",
        "colab_type": "text"
      },
      "source": [
        "Let's use cross validation to verify the performance of each model"
      ]
    },
    {
      "cell_type": "code",
      "metadata": {
        "id": "bOI9KsE_w3Zt",
        "colab_type": "code",
        "colab": {}
      },
      "source": [
        "from sklearn.model_selection import cross_val_score"
      ],
      "execution_count": 0,
      "outputs": []
    },
    {
      "cell_type": "code",
      "metadata": {
        "id": "voazhycQweUp",
        "colab_type": "code",
        "outputId": "70954a8b-06ed-4228-9cfc-1ddaaa250e3a",
        "colab": {
          "base_uri": "https://localhost:8080/",
          "height": 272
        }
      },
      "source": [
        "# Full model\n",
        "cv_logreg = cross_val_score(cl_logreg1, train_woe.iloc[:,1:], train_woe.default, \n",
        "                            cv = 5)"
      ],
      "execution_count": 0,
      "outputs": [
        {
          "output_type": "stream",
          "text": [
            "[Parallel(n_jobs=1)]: Using backend SequentialBackend with 1 concurrent workers.\n"
          ],
          "name": "stderr"
        },
        {
          "output_type": "stream",
          "text": [
            "convergence after 31 epochs took 24 seconds\n"
          ],
          "name": "stdout"
        },
        {
          "output_type": "stream",
          "text": [
            "[Parallel(n_jobs=1)]: Done   1 out of   1 | elapsed:   24.1s finished\n",
            "[Parallel(n_jobs=1)]: Using backend SequentialBackend with 1 concurrent workers.\n"
          ],
          "name": "stderr"
        },
        {
          "output_type": "stream",
          "text": [
            "convergence after 31 epochs took 23 seconds\n"
          ],
          "name": "stdout"
        },
        {
          "output_type": "stream",
          "text": [
            "[Parallel(n_jobs=1)]: Done   1 out of   1 | elapsed:   22.9s finished\n",
            "[Parallel(n_jobs=1)]: Using backend SequentialBackend with 1 concurrent workers.\n"
          ],
          "name": "stderr"
        },
        {
          "output_type": "stream",
          "text": [
            "convergence after 30 epochs took 22 seconds\n"
          ],
          "name": "stdout"
        },
        {
          "output_type": "stream",
          "text": [
            "[Parallel(n_jobs=1)]: Done   1 out of   1 | elapsed:   22.1s finished\n",
            "[Parallel(n_jobs=1)]: Using backend SequentialBackend with 1 concurrent workers.\n"
          ],
          "name": "stderr"
        },
        {
          "output_type": "stream",
          "text": [
            "convergence after 32 epochs took 23 seconds\n"
          ],
          "name": "stdout"
        },
        {
          "output_type": "stream",
          "text": [
            "[Parallel(n_jobs=1)]: Done   1 out of   1 | elapsed:   23.9s finished\n",
            "[Parallel(n_jobs=1)]: Using backend SequentialBackend with 1 concurrent workers.\n"
          ],
          "name": "stderr"
        },
        {
          "output_type": "stream",
          "text": [
            "convergence after 31 epochs took 23 seconds\n"
          ],
          "name": "stdout"
        },
        {
          "output_type": "stream",
          "text": [
            "[Parallel(n_jobs=1)]: Done   1 out of   1 | elapsed:   23.8s finished\n"
          ],
          "name": "stderr"
        }
      ]
    },
    {
      "cell_type": "code",
      "metadata": {
        "id": "-Hm7lv5G6_9V",
        "colab_type": "code",
        "outputId": "0a59bf5a-3306-4de7-fe36-3792a9b67e01",
        "colab": {
          "base_uri": "https://localhost:8080/",
          "height": 34
        }
      },
      "source": [
        "cv_logreg.mean()"
      ],
      "execution_count": 0,
      "outputs": [
        {
          "output_type": "execute_result",
          "data": {
            "text/plain": [
              "0.6074434985393898"
            ]
          },
          "metadata": {
            "tags": []
          },
          "execution_count": 75
        }
      ]
    },
    {
      "cell_type": "code",
      "metadata": {
        "id": "bKoAIKX2CFG7",
        "colab_type": "code",
        "colab": {}
      },
      "source": [
        "# Model 2 \n",
        "cv_logreg1 = cross_val_score(cl_logreg2, train_woe1.iloc[:,1:], train_woe1.default, \n",
        "                            cv = 5)"
      ],
      "execution_count": 0,
      "outputs": []
    },
    {
      "cell_type": "code",
      "metadata": {
        "id": "B0jEhYOMxbAD",
        "colab_type": "code",
        "outputId": "3b752b96-9f6e-4b89-c9f5-cbe8fdfdd16a",
        "colab": {
          "base_uri": "https://localhost:8080/",
          "height": 34
        }
      },
      "source": [
        "cv_logreg1.mean()"
      ],
      "execution_count": 0,
      "outputs": [
        {
          "output_type": "execute_result",
          "data": {
            "text/plain": [
              "0.6137490597922799"
            ]
          },
          "metadata": {
            "tags": []
          },
          "execution_count": 79
        }
      ]
    },
    {
      "cell_type": "code",
      "metadata": {
        "id": "4ue9awzFEZN-",
        "colab_type": "code",
        "colab": {}
      },
      "source": [
        "# Model 3\n",
        "cv_logreg3 = cross_val_score(cl_logreg3, train_woe2.iloc[:,1:], train_woe2.default, \n",
        "                            cv = 5)"
      ],
      "execution_count": 0,
      "outputs": []
    },
    {
      "cell_type": "code",
      "metadata": {
        "id": "i6tIL3RpEgzA",
        "colab_type": "code",
        "outputId": "fe698ea0-a487-40a1-d312-a3d721ea34b0",
        "colab": {
          "base_uri": "https://localhost:8080/",
          "height": 34
        }
      },
      "source": [
        "cv_logreg3.mean()"
      ],
      "execution_count": 0,
      "outputs": [
        {
          "output_type": "execute_result",
          "data": {
            "text/plain": [
              "0.6091261300035847"
            ]
          },
          "metadata": {
            "tags": []
          },
          "execution_count": 88
        }
      ]
    },
    {
      "cell_type": "markdown",
      "metadata": {
        "id": "lYM2WP3-TbsO",
        "colab_type": "text"
      },
      "source": [
        "Looking at the performance I will choose the second model, having the full model with IV values less than 0.8 will bring noise to the model, also the mean score cross validation value is not that different. "
      ]
    },
    {
      "cell_type": "markdown",
      "metadata": {
        "id": "iibu7NMaUMRe",
        "colab_type": "text"
      },
      "source": [
        "Searching for the best parameters using GridSearch"
      ]
    },
    {
      "cell_type": "code",
      "metadata": {
        "colab_type": "code",
        "id": "BLNAAf0fN4ID",
        "colab": {}
      },
      "source": [
        "from sklearn.model_selection import  GridSearchCV"
      ],
      "execution_count": 0,
      "outputs": []
    },
    {
      "cell_type": "code",
      "metadata": {
        "id": "QDHT6vUZPF_m",
        "colab_type": "code",
        "colab": {}
      },
      "source": [
        "c_val = 1/np.linspace(0.01,10,25)\n",
        "params = dict(C=c_val)"
      ],
      "execution_count": 0,
      "outputs": []
    },
    {
      "cell_type": "code",
      "metadata": {
        "id": "ifDnDvFz3oZ6",
        "colab_type": "code",
        "colab": {}
      },
      "source": [
        "c_val = 1/np.linspace(0.01,10,25)\n",
        "params = dict(C=c_val)\n",
        "grid1 = GridSearchCV(estimator=cl_logreg1, param_grid = params, n_jobs=-1, cv=5)"
      ],
      "execution_count": 0,
      "outputs": []
    },
    {
      "cell_type": "code",
      "metadata": {
        "id": "-kGnvxKy5f4-",
        "colab_type": "code",
        "outputId": "e9aa62a2-3482-4163-9eb8-0a1ece2488c5",
        "colab": {
          "base_uri": "https://localhost:8080/",
          "height": 73
        }
      },
      "source": [
        "lasso_model1 = grid1.fit(X = train_woe1.iloc[:, 1:], # All rows and from the second var to end\n",
        "                    y = train_woe1['default'] # The target\n",
        "                   )"
      ],
      "execution_count": 0,
      "outputs": [
        {
          "output_type": "stream",
          "text": [
            "[Parallel(n_jobs=1)]: Using backend SequentialBackend with 1 concurrent workers.\n"
          ],
          "name": "stderr"
        },
        {
          "output_type": "stream",
          "text": [
            "convergence after 32 epochs took 28 seconds\n"
          ],
          "name": "stdout"
        },
        {
          "output_type": "stream",
          "text": [
            "[Parallel(n_jobs=1)]: Done   1 out of   1 | elapsed:   28.3s finished\n"
          ],
          "name": "stderr"
        }
      ]
    },
    {
      "cell_type": "code",
      "metadata": {
        "id": "6HoWis9j5zdh",
        "colab_type": "code",
        "outputId": "ffaf971a-8187-4084-92ea-4c60b3aa3160",
        "colab": {
          "base_uri": "https://localhost:8080/",
          "height": 54
        }
      },
      "source": [
        "display(lasso_model1.best_score_)\n",
        "display(lasso_model1.best_params_)"
      ],
      "execution_count": 0,
      "outputs": [
        {
          "output_type": "display_data",
          "data": {
            "text/plain": [
              "0.6137490106790818"
            ]
          },
          "metadata": {
            "tags": []
          }
        },
        {
          "output_type": "display_data",
          "data": {
            "text/plain": [
              "{'C': 100.0}"
            ]
          },
          "metadata": {
            "tags": []
          }
        }
      ]
    },
    {
      "cell_type": "markdown",
      "metadata": {
        "id": "4SpKRBkIXPog",
        "colab_type": "text"
      },
      "source": [
        "The best parameter resulted C = 100, let's add this inputs to the logistic regression\n"
      ]
    },
    {
      "cell_type": "code",
      "metadata": {
        "id": "RpgaI5SOXVCh",
        "colab_type": "code",
        "outputId": "9e6c3ea4-6f70-4eb2-ac50-8e0b5f6ac4ec",
        "colab": {
          "base_uri": "https://localhost:8080/",
          "height": 85
        }
      },
      "source": [
        "cl_logreg_final = LogisticRegression(penalty='l1', # Lasso penalization\n",
        "                                     tol=0.0001, # Tolerance for parameters\n",
        "                                     C=100.0, # Penalty constant, see below\n",
        "                                     fit_intercept=True, # Use constant?\n",
        "                                     class_weight='balanced', # Weights, see below\n",
        "                                     random_state=251082976, # Random seed\n",
        "                                     max_iter=10000, # Maximum iterations\n",
        "                                     verbose=1, # Show process. 1 is yes.\n",
        "                                     solver = 'saga',\n",
        "                                     warm_start=False # Train anew or start from previous weights. For repeated training. \n",
        "                                    )\n",
        "\n",
        "final_model = cl_logreg_final.fit(X = train_woe1.iloc[:, 1:], # All rows and from the second var to end\n",
        "                    y = train_woe1['default'] # The target\n",
        "                   )\n",
        "\n",
        "# Parameters of the second model \n",
        "coef_df_final = pd.concat([pd.DataFrame({'column': train_woe1.columns[1:]}), \n",
        "                    pd.DataFrame(np.transpose(model2.coef_))],\n",
        "                    axis = 1\n",
        "                   )\n",
        "\n",
        "coef_df_final\n",
        "final_model.intercept_"
      ],
      "execution_count": 0,
      "outputs": [
        {
          "output_type": "stream",
          "text": [
            "[Parallel(n_jobs=1)]: Using backend SequentialBackend with 1 concurrent workers.\n"
          ],
          "name": "stderr"
        },
        {
          "output_type": "stream",
          "text": [
            "convergence after 32 epochs took 28 seconds\n"
          ],
          "name": "stdout"
        },
        {
          "output_type": "stream",
          "text": [
            "[Parallel(n_jobs=1)]: Done   1 out of   1 | elapsed:   28.8s finished\n"
          ],
          "name": "stderr"
        },
        {
          "output_type": "execute_result",
          "data": {
            "text/plain": [
              "array([-0.00172296])"
            ]
          },
          "metadata": {
            "tags": []
          },
          "execution_count": 190
        }
      ]
    },
    {
      "cell_type": "code",
      "metadata": {
        "id": "NPed_37AYdys",
        "colab_type": "code",
        "outputId": "7824f064-bb4a-47fe-8616-dc7cc502d6a9",
        "colab": {
          "base_uri": "https://localhost:8080/",
          "height": 204
        }
      },
      "source": [
        "coef_df_final\n"
      ],
      "execution_count": 0,
      "outputs": [
        {
          "output_type": "execute_result",
          "data": {
            "text/html": [
              "<div>\n",
              "<style scoped>\n",
              "    .dataframe tbody tr th:only-of-type {\n",
              "        vertical-align: middle;\n",
              "    }\n",
              "\n",
              "    .dataframe tbody tr th {\n",
              "        vertical-align: top;\n",
              "    }\n",
              "\n",
              "    .dataframe thead th {\n",
              "        text-align: right;\n",
              "    }\n",
              "</style>\n",
              "<table border=\"1\" class=\"dataframe\">\n",
              "  <thead>\n",
              "    <tr style=\"text-align: right;\">\n",
              "      <th></th>\n",
              "      <th>column</th>\n",
              "      <th>0</th>\n",
              "    </tr>\n",
              "  </thead>\n",
              "  <tbody>\n",
              "    <tr>\n",
              "      <th>0</th>\n",
              "      <td>bc_open_to_buy_woe</td>\n",
              "      <td>0.349993</td>\n",
              "    </tr>\n",
              "    <tr>\n",
              "      <th>1</th>\n",
              "      <td>mths_since_rcnt_il_woe</td>\n",
              "      <td>0.435899</td>\n",
              "    </tr>\n",
              "    <tr>\n",
              "      <th>2</th>\n",
              "      <td>all_util_woe</td>\n",
              "      <td>0.204709</td>\n",
              "    </tr>\n",
              "    <tr>\n",
              "      <th>3</th>\n",
              "      <td>int_rate_woe</td>\n",
              "      <td>0.906979</td>\n",
              "    </tr>\n",
              "    <tr>\n",
              "      <th>4</th>\n",
              "      <td>max_bal_bc_woe</td>\n",
              "      <td>0.266724</td>\n",
              "    </tr>\n",
              "  </tbody>\n",
              "</table>\n",
              "</div>"
            ],
            "text/plain": [
              "                   column         0\n",
              "0      bc_open_to_buy_woe  0.349993\n",
              "1  mths_since_rcnt_il_woe  0.435899\n",
              "2            all_util_woe  0.204709\n",
              "3            int_rate_woe  0.906979\n",
              "4          max_bal_bc_woe  0.266724"
            ]
          },
          "metadata": {
            "tags": []
          },
          "execution_count": 192
        }
      ]
    },
    {
      "cell_type": "markdown",
      "metadata": {
        "id": "tyhGIFcfn1sO",
        "colab_type": "text"
      },
      "source": [
        "## Applying the model to the test set"
      ]
    },
    {
      "cell_type": "code",
      "metadata": {
        "id": "L8ckdDCGntCt",
        "colab_type": "code",
        "outputId": "687629a2-cfa6-4317-918c-ef01779d575e",
        "colab": {
          "base_uri": "https://localhost:8080/",
          "height": 102
        }
      },
      "source": [
        "pred_class_test = final_model.predict(test_woe1.iloc[:, 1:])\n",
        "probs_test = final_model.predict_proba(test_woe1.iloc[:, 1:])\n",
        "print(probs_test[0:5], pred_class_test[0:5])"
      ],
      "execution_count": 0,
      "outputs": [
        {
          "output_type": "stream",
          "text": [
            "[[0.70822563 0.29177437]\n",
            " [0.72836679 0.27163321]\n",
            " [0.55902512 0.44097488]\n",
            " [0.51623331 0.48376669]\n",
            " [0.73636048 0.26363952]] [0 0 0 0 0]\n"
          ],
          "name": "stdout"
        }
      ]
    },
    {
      "cell_type": "code",
      "metadata": {
        "id": "2rK9AMbxF4s6",
        "colab_type": "code",
        "outputId": "0e4bb94c-680c-48cc-eb27-a970b8362ea7",
        "colab": {
          "base_uri": "https://localhost:8080/",
          "height": 34
        }
      },
      "source": [
        "pred_class_test.mean()"
      ],
      "execution_count": 0,
      "outputs": [
        {
          "output_type": "execute_result",
          "data": {
            "text/plain": [
              "0.4268481371906146"
            ]
          },
          "metadata": {
            "tags": []
          },
          "execution_count": 193
        }
      ]
    },
    {
      "cell_type": "markdown",
      "metadata": {
        "id": "q3BPKP7Zope6",
        "colab_type": "text"
      },
      "source": [
        "Scikit-learn will give, by default, one probability per class.  The second column is the one that applies for class Default = 1.\n",
        "\n",
        "We will get the confusion matrix to check our accuracy. These are included in the subpackage ```sklearn.metrics```"
      ]
    },
    {
      "cell_type": "code",
      "metadata": {
        "id": "DvllRUyvoj8-",
        "colab_type": "code",
        "colab": {}
      },
      "source": [
        "from sklearn.metrics import roc_auc_score, confusion_matrix, roc_curve"
      ],
      "execution_count": 0,
      "outputs": []
    },
    {
      "cell_type": "code",
      "metadata": {
        "id": "lwh5W1OWGCbP",
        "colab_type": "code",
        "outputId": "19fb030c-c6be-4eef-da88-fc9083ceb842",
        "colab": {
          "base_uri": "https://localhost:8080/",
          "height": 51
        }
      },
      "source": [
        "confusion_matrix(y_true = test_woe1['default'], y_pred = pred_class_test)"
      ],
      "execution_count": 0,
      "outputs": [
        {
          "output_type": "execute_result",
          "data": {
            "text/plain": [
              "array([[307681, 196451],\n",
              "       [ 25338,  51561]])"
            ]
          },
          "metadata": {
            "tags": []
          },
          "execution_count": 196
        }
      ]
    },
    {
      "cell_type": "markdown",
      "metadata": {
        "id": "E5OzOUzTUZeH",
        "colab_type": "text"
      },
      "source": [
        "Measure Errors and AUC\n"
      ]
    },
    {
      "cell_type": "code",
      "metadata": {
        "id": "5Zn2yRlHN_Y4",
        "colab_type": "code",
        "colab": {}
      },
      "source": [
        "import seaborn as sns\n",
        "import matplotlib.pyplot as plt\n",
        "import numpy as np\n",
        "%matplotlib inline\n",
        "\n",
        "# Calculate confusion matrix\n",
        "confusion_matrix_sc = confusion_matrix(y_true = test_nowoe1['default'], \n",
        "                    y_pred = pred_class_test)\n",
        "\n",
        "# Turn matrix to percentages\n",
        "confusion_matrix_sc = confusion_matrix_sc.astype('float') / confusion_matrix_sc.sum(axis=1)[:, np.newaxis]\n",
        "\n",
        "# Turn to dataframe\n",
        "df_cm = pd.DataFrame(\n",
        "        confusion_matrix_sc, index=['good', 'bad'], columns=['good', 'bad'], \n",
        ")\n",
        "\n",
        "# Calculate the ROC curve points\n",
        "fpr, tpr, thresholds = roc_curve(test_nowoe1[\"default\"], probs_test[:,1])\n",
        "\n",
        "# Save the AUC in a variable to display it. Round it first\n",
        "auc = np.round(roc_auc_score(y_true = test_nowoe1['default'], \n",
        "                             y_score = probs_test[:,1]),\n",
        "              decimals = 3)\n",
        "\n",
        "fig, ax = plt.subplots(1,2,figsize=(22, 9) )\n",
        "\n",
        "# Make it nicer\n",
        "heatmap = sns.heatmap(df_cm, annot=True, fmt='.2f', vmin=0, vmax=0.6, ax=ax[0])\n",
        "\n",
        "heatmap.yaxis.set_ticklabels(heatmap.yaxis.get_ticklabels(), rotation=0, \n",
        "                             ha='right', fontsize=fontsize)\n",
        "heatmap.xaxis.set_ticklabels(heatmap.xaxis.get_ticklabels(), rotation=45,\n",
        "                             ha='right', fontsize=fontsize)\n",
        "\n",
        "# Add labels\n",
        "plt.title(\"Confusion matrix\")\n",
        "plt.ylabel('True label')\n",
        "plt.xlabel('Predicted label')\n",
        "\n",
        "\n",
        "plt.plot([0, 1], [0, 1],'r--')\n",
        "plt.plot(fpr,tpr,label=\"ROC, auc=\"+str(auc))\n",
        "plt.legend(loc=4)\n",
        "plt.title(\"ROC\")\n",
        "plt.show()"
      ],
      "execution_count": 0,
      "outputs": []
    },
    {
      "cell_type": "markdown",
      "metadata": {
        "id": "smaB3Mq3OKAk",
        "colab_type": "text"
      },
      "source": [
        "## Scorecards\n",
        "\n",
        " As optional arguments it receives a PDO, a base score of 700, and decimal base odds (so instead of 50:1, it receives 0.02).\n",
        " "
      ]
    },
    {
      "cell_type": "code",
      "metadata": {
        "id": "OCipEb4CO-RJ",
        "colab_type": "code",
        "colab": {}
      },
      "source": [
        "data_sc = sc.scorecard(bins_adj, final_model, \n",
        "             train_woe1.columns[1:], # The column names in the trained LR\n",
        "             points0=700, # Base points\n",
        "             odds0=.02, # Base odds\n",
        "             pdo=50) # PDO \n"
      ],
      "execution_count": 0,
      "outputs": []
    },
    {
      "cell_type": "code",
      "metadata": {
        "id": "2z72hOjuPD1p",
        "colab_type": "code",
        "colab": {}
      },
      "source": [
        "# Applying the credit score. Applies over the original data!\n",
        "train_score = sc.scorecard_ply(train_nowoe1, data_sc, \n",
        "                               print_step=0)\n",
        "test_score = sc.scorecard_ply(test_nowoe1, data_sc, \n",
        "                               print_step=0)"
      ],
      "execution_count": 0,
      "outputs": []
    },
    {
      "cell_type": "code",
      "metadata": {
        "id": "p8czwhgcZnbU",
        "colab_type": "code",
        "outputId": "ab3e42a5-05c3-4864-bf15-2d64caeb21cb",
        "colab": {
          "base_uri": "https://localhost:8080/",
          "height": 300
        }
      },
      "source": [
        "test_score.describe()"
      ],
      "execution_count": 0,
      "outputs": [
        {
          "output_type": "execute_result",
          "data": {
            "text/html": [
              "<div>\n",
              "<style scoped>\n",
              "    .dataframe tbody tr th:only-of-type {\n",
              "        vertical-align: middle;\n",
              "    }\n",
              "\n",
              "    .dataframe tbody tr th {\n",
              "        vertical-align: top;\n",
              "    }\n",
              "\n",
              "    .dataframe thead th {\n",
              "        text-align: right;\n",
              "    }\n",
              "</style>\n",
              "<table border=\"1\" class=\"dataframe\">\n",
              "  <thead>\n",
              "    <tr style=\"text-align: right;\">\n",
              "      <th></th>\n",
              "      <th>score</th>\n",
              "    </tr>\n",
              "  </thead>\n",
              "  <tbody>\n",
              "    <tr>\n",
              "      <th>count</th>\n",
              "      <td>581031.000000</td>\n",
              "    </tr>\n",
              "    <tr>\n",
              "      <th>mean</th>\n",
              "      <td>430.238949</td>\n",
              "    </tr>\n",
              "    <tr>\n",
              "      <th>std</th>\n",
              "      <td>49.161598</td>\n",
              "    </tr>\n",
              "    <tr>\n",
              "      <th>min</th>\n",
              "      <td>343.000000</td>\n",
              "    </tr>\n",
              "    <tr>\n",
              "      <th>25%</th>\n",
              "      <td>388.000000</td>\n",
              "    </tr>\n",
              "    <tr>\n",
              "      <th>50%</th>\n",
              "      <td>434.000000</td>\n",
              "    </tr>\n",
              "    <tr>\n",
              "      <th>75%</th>\n",
              "      <td>472.000000</td>\n",
              "    </tr>\n",
              "    <tr>\n",
              "      <th>max</th>\n",
              "      <td>521.000000</td>\n",
              "    </tr>\n",
              "  </tbody>\n",
              "</table>\n",
              "</div>"
            ],
            "text/plain": [
              "               score\n",
              "count  581031.000000\n",
              "mean      430.238949\n",
              "std        49.161598\n",
              "min       343.000000\n",
              "25%       388.000000\n",
              "50%       434.000000\n",
              "75%       472.000000\n",
              "max       521.000000"
            ]
          },
          "metadata": {
            "tags": []
          },
          "execution_count": 230
        }
      ]
    }
  ]
}