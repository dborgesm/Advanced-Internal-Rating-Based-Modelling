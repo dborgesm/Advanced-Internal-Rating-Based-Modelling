{
  "nbformat": 4,
  "nbformat_minor": 0,
  "metadata": {
    "colab": {
      "name": "Data Preprocessing for Credit Scoring Application.ipynb",
      "provenance": [],
      "collapsed_sections": [],
      "include_colab_link": true
    },
    "kernelspec": {
      "name": "python3",
      "display_name": "Python 3"
    }
  },
  "cells": [
    {
      "cell_type": "markdown",
      "metadata": {
        "id": "view-in-github",
        "colab_type": "text"
      },
      "source": [
        "<a href=\"https://colab.research.google.com/github/dborgesm/Banking-Analytics/blob/master/Data_Preprocessing_for_Credit_Scoring_Application.ipynb\" target=\"_parent\"><img src=\"https://colab.research.google.com/assets/colab-badge.svg\" alt=\"Open In Colab\"/></a>"
      ]
    },
    {
      "cell_type": "markdown",
      "metadata": {
        "id": "iFtp2hywQyfp",
        "colab_type": "text"
      },
      "source": [
        "# Data Preprocessing\n",
        "\n"
      ]
    },
    {
      "cell_type": "code",
      "metadata": {
        "colab_type": "code",
        "id": "IOeKRl4lQwEs",
        "colab": {}
      },
      "source": [
        "#Installing packages\n",
        "import pandas as pd\n",
        "import numpy as np\n",
        "import seaborn as sns\n",
        "import matplotlib.pyplot as plt\n",
        "%matplotlib inline"
      ],
      "execution_count": 0,
      "outputs": []
    },
    {
      "cell_type": "code",
      "metadata": {
        "id": "P8nyV0Rgv8kD",
        "colab_type": "code",
        "outputId": "9369d669-c374-4d0a-cc20-b8888d862a4d",
        "colab": {
          "base_uri": "https://localhost:8080/",
          "height": 84
        }
      },
      "source": [
        "!gdown https://drive.google.com/uc?id=1WPvaqsGs7dE6B9Ahrs_56nG8ZwGbi4FF"
      ],
      "execution_count": 0,
      "outputs": [
        {
          "output_type": "stream",
          "text": [
            "Downloading...\n",
            "From: https://drive.google.com/uc?id=1WPvaqsGs7dE6B9Ahrs_56nG8ZwGbi4FF\n",
            "To: /content/LCFinal.csv\n",
            "1.64GB [00:11, 142MB/s] \n"
          ],
          "name": "stdout"
        }
      ]
    },
    {
      "cell_type": "code",
      "metadata": {
        "id": "DCdUx4vewE4y",
        "colab_type": "code",
        "outputId": "8f122ee8-8319-478d-fcf3-e0d5b91713a1",
        "colab": {
          "base_uri": "https://localhost:8080/",
          "height": 70
        }
      },
      "source": [
        "lending_data = pd.read_csv('/content/LCFinal.csv')"
      ],
      "execution_count": 0,
      "outputs": [
        {
          "output_type": "stream",
          "text": [
            "/usr/local/lib/python3.6/dist-packages/IPython/core/interactiveshell.py:2718: DtypeWarning: Columns (1,17,47,56,115,126,127,128,131,132,133,136,142,143,144) have mixed types. Specify dtype option on import or set low_memory=False.\n",
            "  interactivity=interactivity, compiler=compiler, result=result)\n"
          ],
          "name": "stderr"
        }
      ]
    },
    {
      "cell_type": "markdown",
      "metadata": {
        "id": "lzzx87MpmzJO",
        "colab_type": "text"
      },
      "source": [
        "## **Missing Values**"
      ]
    },
    {
      "cell_type": "code",
      "metadata": {
        "id": "BNmmxCN1wQHJ",
        "colab_type": "code",
        "colab": {}
      },
      "source": [
        "df_null = pd.DataFrame({'Count': lending_data.isnull().sum(), 'Percent': 100*lending_data.isnull().sum()/len(lending_data)})"
      ],
      "execution_count": 0,
      "outputs": []
    },
    {
      "cell_type": "code",
      "metadata": {
        "id": "dtgkldVdwZO0",
        "colab_type": "code",
        "outputId": "3bc8498f-0c99-4ada-e580-4c56b1657f25",
        "colab": {
          "base_uri": "https://localhost:8080/",
          "height": 621
        }
      },
      "source": [
        "na_col = lending_data.isnull().sum()\n",
        "na_col = na_col[na_col >0.4*len(lending_data)]\n",
        "na_col\n",
        "col_val = []\n",
        "tr = len(lending_data)\n",
        "j=0\n",
        "for i in na_col:\n",
        "  if i/tr > 0.8:\n",
        "    col_val.append(\"r\")\n",
        "    j +=1\n",
        "  else:\n",
        "    col_val.append(\"b\")\n",
        "plt.figure(dpi=90)\n",
        "na_col.plot(kind='bar', color = tuple(col_val))\n",
        "plt.show\n",
        "plt.title(\"Variables with significant Null Values\")\n",
        "plt.legend([\"> 80% Null Values\"], bbox_to_anchor=(1.02, 1), loc='upper left', borderaxespad=0.)\n",
        "\n"
      ],
      "execution_count": 0,
      "outputs": [
        {
          "output_type": "execute_result",
          "data": {
            "text/plain": [
              "<matplotlib.legend.Legend at 0x7f2261fcb4a8>"
            ]
          },
          "metadata": {
            "tags": []
          },
          "execution_count": 5
        },
        {
          "output_type": "display_data",
          "data": {
            "image/png": "[encoded data removed]",
            "text/plain": [
              "<Figure size 540x360 with 1 Axes>"
            ]
          },
          "metadata": {
            "tags": []
          }
        }
      ]
    },
    {
      "cell_type": "markdown",
      "metadata": {
        "id": "VsWwEs2Pwcz4",
        "colab_type": "text"
      },
      "source": [
        "Dropping the columns with more than 80% of missing values and the unnecesary columns Unnamed: 0, id and url."
      ]
    },
    {
      "cell_type": "code",
      "metadata": {
        "id": "EbK0Yn-Fwfn6",
        "colab_type": "code",
        "colab": {}
      },
      "source": [
        "length = len(lending_data)\n",
        "lending_data2 = lending_data.copy()\n",
        "lending_data2.drop(lending_data.loc[:,lending_data.isnull().sum()/length >.8], inplace=True, axis=1)"
      ],
      "execution_count": 0,
      "outputs": []
    },
    {
      "cell_type": "markdown",
      "metadata": {
        "id": "3fbs6Z_Mx1e7",
        "colab_type": "text"
      },
      "source": [
        "Dropping the rows with many missing values (more than 100 missing values)"
      ]
    },
    {
      "cell_type": "code",
      "metadata": {
        "id": "fGnuiZrty-to",
        "colab_type": "code",
        "colab": {}
      },
      "source": [
        "na_rows = lending_data2[lending_data2.isnull().sum(axis=1)>100].index\n",
        "lending_data2.drop(na_rows, inplace=True)"
      ],
      "execution_count": 0,
      "outputs": []
    },
    {
      "cell_type": "markdown",
      "metadata": {
        "id": "PKcBO4o0zC6Q",
        "colab_type": "text"
      },
      "source": [
        "Dropping accounts where the issue_d is from Aug to December 2018 because they do not meet the 1 year requirement to be part in the application scoring model, however if they are defaulted the will be kept because they have already shown their behaviour"
      ]
    },
    {
      "cell_type": "code",
      "metadata": {
        "id": "6Vv0hBdxSU6u",
        "colab_type": "code",
        "colab": {}
      },
      "source": [
        "issued_less_than_15mths = lending_data2[((lending_data2.issue_d == \"Dec-2018\") | (lending_data2.issue_d == \"Nov-2018\") |(lending_data2.issue_d == \"Aug-2018\") |(lending_data2.issue_d == \"Sep-2018\") |(lending_data2.issue_d == \"Oct-2018\")) & (lending_data2.loan_status != \"Charged Off\")].index\n",
        "lending_data2.drop(issued_less_than_15mths, inplace=True)"
      ],
      "execution_count": 0,
      "outputs": []
    },
    {
      "cell_type": "markdown",
      "metadata": {
        "id": "qW9EHDbrSnmg",
        "colab_type": "text"
      },
      "source": [
        "The information required in the application scoring is the one at the moment of the loan is acquired, so next payment date, issue date, last credit pull d and last payment d are not necessary in the model because they are future information. "
      ]
    },
    {
      "cell_type": "code",
      "metadata": {
        "id": "bSuqVshNxiX0",
        "colab_type": "code",
        "colab": {}
      },
      "source": [
        "lending_data2 = lending_data2.drop(['Unnamed: 0', 'id', 'url', 'issue_d', 'next_pymnt_d', 'last_credit_pull_d', 'last_pymnt_d', \"earliest_cr_line\"], axis=1)"
      ],
      "execution_count": 0,
      "outputs": []
    },
    {
      "cell_type": "markdown",
      "metadata": {
        "id": "TeSpi9Y2zKfS",
        "colab_type": "text"
      },
      "source": [
        "Dropping rows where loan_status is equal to \"Does not meet the credit policy\", the company will never give these people a loan."
      ]
    },
    {
      "cell_type": "code",
      "metadata": {
        "id": "FiKx4iG2zGdI",
        "colab_type": "code",
        "colab": {}
      },
      "source": [
        "no_meeting_policy = lending_data2[lending_data2.loan_status.str.contains('Status:')].index\n",
        "lending_data2.drop(no_meeting_policy, inplace=True)"
      ],
      "execution_count": 0,
      "outputs": []
    },
    {
      "cell_type": "markdown",
      "metadata": {
        "id": "BoQg7CAgzcXN",
        "colab_type": "text"
      },
      "source": [
        "Modifying some values of the database"
      ]
    },
    {
      "cell_type": "code",
      "metadata": {
        "id": "to166MS3NTnQ",
        "colab_type": "code",
        "colab": {}
      },
      "source": [
        "#Extracting the first 3 values of the zip code. \n",
        "\n",
        "lending_data2['zip_code'] = lending_data2['zip_code'].str.extract(r'([\\d\\.]+)')\n"
      ],
      "execution_count": 0,
      "outputs": []
    },
    {
      "cell_type": "markdown",
      "metadata": {
        "id": "74s3s1SS6JKF",
        "colab_type": "text"
      },
      "source": [
        "Employment title had more than 200 categories and contained invalid values, and even if new categories were made, they couldn’t reach statistical significance"
      ]
    },
    {
      "cell_type": "code",
      "metadata": {
        "id": "MpxL_9Zw6AyH",
        "colab_type": "code",
        "colab": {}
      },
      "source": [
        "lending_data2.drop(['emp_title'], inplace=True, axis=1)"
      ],
      "execution_count": 0,
      "outputs": []
    },
    {
      "cell_type": "code",
      "metadata": {
        "id": "JOK_695YPhJ7",
        "colab_type": "code",
        "colab": {}
      },
      "source": [
        "# extracting the numeric values of term\n",
        "lending_data2['term'] = lending_data2['term'].str.extract(r'([\\d\\.]+)')"
      ],
      "execution_count": 0,
      "outputs": []
    },
    {
      "cell_type": "markdown",
      "metadata": {
        "id": "JaktrAw_2C1p",
        "colab_type": "text"
      },
      "source": [
        "## **Creating objective variable for Application Scoring**"
      ]
    },
    {
      "cell_type": "code",
      "metadata": {
        "id": "nZQSi98b2H-V",
        "colab_type": "code",
        "outputId": "760a72f6-56ba-471b-85ec-7202dcb3d98e",
        "colab": {
          "base_uri": "https://localhost:8080/",
          "height": 383
        }
      },
      "source": [
        "g = sns.countplot(x=\"loan_status\", data=lending_data2, \n",
        "                  color='blue')\n",
        "plt.xticks(rotation=90)"
      ],
      "execution_count": 0,
      "outputs": [
        {
          "output_type": "execute_result",
          "data": {
            "text/plain": [
              "(array([0, 1, 2, 3, 4, 5, 6]), <a list of 7 Text xticklabel objects>)"
            ]
          },
          "metadata": {
            "tags": []
          },
          "execution_count": 15
        },
        {
          "output_type": "display_data",
          "data": {
            "image/png": "[encoded data removed]",
            "text/plain": [
              "<Figure size 432x288 with 1 Axes>"
            ]
          },
          "metadata": {
            "tags": []
          }
        }
      ]
    },
    {
      "cell_type": "code",
      "metadata": {
        "id": "S_9ZUmqc263W",
        "colab_type": "code",
        "colab": {}
      },
      "source": [
        "lending_data2['default'] = np.nan\n",
        "bad_loan = [\"Charged Off\", \"Default\"]\n",
        "\n",
        "def loan_status(status):\n",
        "  if status in bad_loan:\n",
        "    return  1\n",
        "  else:\n",
        "    return 0\n",
        "  \n",
        "lending_data2['default'] = lending_data2['loan_status'].apply(loan_status)"
      ],
      "execution_count": 0,
      "outputs": []
    },
    {
      "cell_type": "markdown",
      "metadata": {
        "id": "z8K4uXG43I-F",
        "colab_type": "text"
      },
      "source": [
        "## **Correlation**"
      ]
    },
    {
      "cell_type": "code",
      "metadata": {
        "id": "eGk7bP1r3IXO",
        "colab_type": "code",
        "colab": {}
      },
      "source": [
        "corr_as = lending_data2.corr()"
      ],
      "execution_count": 0,
      "outputs": []
    },
    {
      "cell_type": "code",
      "metadata": {
        "id": "7hQ-B7nc3Fxq",
        "colab_type": "code",
        "outputId": "6f1399a3-b3d6-4196-d0ac-e126ea91cbb3",
        "colab": {
          "base_uri": "https://localhost:8080/",
          "height": 411
        }
      },
      "source": [
        "#plt.figure(figsize=(22,15))\n",
        "sns.heatmap(corr_as, cmap= 'coolwarm',linecolor='black')\n",
        "plt.title(\"Application Scoring Correlation Heat Map\")"
      ],
      "execution_count": 0,
      "outputs": [
        {
          "output_type": "execute_result",
          "data": {
            "text/plain": [
              "Text(0.5, 1, 'Application Scoring Correlation Heat Map')"
            ]
          },
          "metadata": {
            "tags": []
          },
          "execution_count": 16
        },
        {
          "output_type": "display_data",
          "data": {
            "image/png": "[encoded data removed]",
            "text/plain": [
              "<Figure size 432x288 with 2 Axes>"
            ]
          },
          "metadata": {
            "tags": []
          }
        }
      ]
    },
    {
      "cell_type": "code",
      "metadata": {
        "id": "sHYry54j336B",
        "colab_type": "code",
        "colab": {}
      },
      "source": [
        "as_data = lending_data2.copy()"
      ],
      "execution_count": 0,
      "outputs": []
    },
    {
      "cell_type": "markdown",
      "metadata": {
        "id": "QGvIDxn9R1kI",
        "colab_type": "text"
      },
      "source": [
        "I will be dropping some variables that are not related to the pd model, because they contain future information. "
      ]
    },
    {
      "cell_type": "code",
      "metadata": {
        "colab_type": "code",
        "id": "nqiLHtbpSVTh",
        "colab": {}
      },
      "source": [
        "amount_col = [\"out_prncp\", \"total_rec_prncp\", \"total_rec_int\",\n",
        "          \"total_rec_late_fee\", \"recoveries\", \"last_pymnt_amnt\"\n",
        "]"
      ],
      "execution_count": 0,
      "outputs": []
    },
    {
      "cell_type": "code",
      "metadata": {
        "colab_type": "code",
        "id": "_d_-rYu9SVTu",
        "colab": {}
      },
      "source": [
        "as_data.drop(amount_col, axis=1, inplace=True)"
      ],
      "execution_count": 0,
      "outputs": []
    },
    {
      "cell_type": "markdown",
      "metadata": {
        "id": "0eaEa8SOh2OF",
        "colab_type": "text"
      },
      "source": [
        "Dropping correlated variables"
      ]
    },
    {
      "cell_type": "code",
      "metadata": {
        "id": "eybadUpf361n",
        "colab_type": "code",
        "colab": {}
      },
      "source": [
        "corr_col = ['loan_amnt', 'funded_amnt', 'funded_amnt_inv','installment', \"fico_range_low\",\n",
        "'fico_range_high','mths_since_last_delinq','open_acc',\n",
        "'revol_bal','revol_util','total_acc',\n",
        "'out_prncp_inv','total_pymnt',\t'total_pymnt_inv',\n",
        "'collection_recovery_fee','last_fico_range_low'\n",
        ",'tot_cur_bal', 'last_fico_range_high',\n",
        "'open_acc_6m','open_il_24m','total_bal_il',\n",
        "'open_rv_12m','open_rv_24m','total_rev_hi_lim',\n",
        "'avg_cur_bal','bc_util','mths_since_recent_bc_dlq',\n",
        "'mths_since_recent_revol_delinq','num_actv_bc_tl','num_bc_sats',\n",
        "'num_bc_tl','num_op_rev_tl','num_rev_tl_bal_gt_0',\n",
        "'num_sats','num_tl_30dpd','num_tl_op_past_12m',\n",
        "'tax_liens','total_bal_ex_mort','total_bc_limit',\n",
        "]"
      ],
      "execution_count": 0,
      "outputs": []
    },
    {
      "cell_type": "code",
      "metadata": {
        "id": "z-guaJBHwdSA",
        "colab_type": "code",
        "colab": {}
      },
      "source": [
        "as_data.drop(corr_col, axis=1, inplace=True)"
      ],
      "execution_count": 0,
      "outputs": []
    },
    {
      "cell_type": "markdown",
      "metadata": {
        "id": "sQDVUtc7KGNr",
        "colab_type": "text"
      },
      "source": [
        "Zip Code and Address State will remain in the db"
      ]
    },
    {
      "cell_type": "code",
      "metadata": {
        "id": "OhR0Em9d5TWO",
        "colab_type": "code",
        "colab": {}
      },
      "source": [
        "w = as_data[['zip_code', 'addr_state']]"
      ],
      "execution_count": 0,
      "outputs": []
    },
    {
      "cell_type": "code",
      "metadata": {
        "id": "z-B3oi6MIq92",
        "colab_type": "code",
        "colab": {}
      },
      "source": [
        "w = w.apply(lambda x: pd.factorize(x)[0]) + 1"
      ],
      "execution_count": 0,
      "outputs": []
    },
    {
      "cell_type": "code",
      "metadata": {
        "id": "qm40kCzzJKD_",
        "colab_type": "code",
        "colab": {}
      },
      "source": [
        "w['default'] = as_data.loan_status2"
      ],
      "execution_count": 0,
      "outputs": []
    },
    {
      "cell_type": "code",
      "metadata": {
        "id": "B-YmrRbIJZXR",
        "colab_type": "code",
        "outputId": "62bbdfbc-92af-4b60-bcb6-bacd5693ce5f",
        "colab": {
          "base_uri": "https://localhost:8080/",
          "height": 143
        }
      },
      "source": [
        "w.corr(method=\"spearman\")"
      ],
      "execution_count": 0,
      "outputs": [
        {
          "output_type": "execute_result",
          "data": {
            "text/html": [
              "<div>\n",
              "<style scoped>\n",
              "    .dataframe tbody tr th:only-of-type {\n",
              "        vertical-align: middle;\n",
              "    }\n",
              "\n",
              "    .dataframe tbody tr th {\n",
              "        vertical-align: top;\n",
              "    }\n",
              "\n",
              "    .dataframe thead th {\n",
              "        text-align: right;\n",
              "    }\n",
              "</style>\n",
              "<table border=\"1\" class=\"dataframe\">\n",
              "  <thead>\n",
              "    <tr style=\"text-align: right;\">\n",
              "      <th></th>\n",
              "      <th>zip_code</th>\n",
              "      <th>addr_state</th>\n",
              "      <th>default</th>\n",
              "    </tr>\n",
              "  </thead>\n",
              "  <tbody>\n",
              "    <tr>\n",
              "      <th>zip_code</th>\n",
              "      <td>1.000000</td>\n",
              "      <td>0.154716</td>\n",
              "      <td>0.003487</td>\n",
              "    </tr>\n",
              "    <tr>\n",
              "      <th>addr_state</th>\n",
              "      <td>0.154716</td>\n",
              "      <td>1.000000</td>\n",
              "      <td>0.000713</td>\n",
              "    </tr>\n",
              "    <tr>\n",
              "      <th>default</th>\n",
              "      <td>0.003487</td>\n",
              "      <td>0.000713</td>\n",
              "      <td>1.000000</td>\n",
              "    </tr>\n",
              "  </tbody>\n",
              "</table>\n",
              "</div>"
            ],
            "text/plain": [
              "            zip_code  addr_state   default\n",
              "zip_code    1.000000    0.154716  0.003487\n",
              "addr_state  0.154716    1.000000  0.000713\n",
              "default     0.003487    0.000713  1.000000"
            ]
          },
          "metadata": {
            "tags": []
          },
          "execution_count": 27
        }
      ]
    },
    {
      "cell_type": "markdown",
      "metadata": {
        "id": "ex-RxmSY4L0b",
        "colab_type": "text"
      },
      "source": [
        "Title will be removed from the dataframe because the column purpose group them in a more efficient way\n"
      ]
    },
    {
      "cell_type": "code",
      "metadata": {
        "id": "fdII1fCE4F2I",
        "colab_type": "code",
        "colab": {}
      },
      "source": [
        "as_data.drop(['title'], inplace=True, axis=1)"
      ],
      "execution_count": 0,
      "outputs": []
    },
    {
      "cell_type": "markdown",
      "metadata": {
        "id": "QuSTC1hkGTX3",
        "colab_type": "text"
      },
      "source": [
        "### **Categorical Variables**\n",
        "\n",
        "The categorical variables that contained only one unique value were eliminated, because they would not add any information to the model as they were. Even though, hardship flag is an essential variable for the LGD model this was removed."
      ]
    },
    {
      "cell_type": "code",
      "metadata": {
        "id": "2Dpdlnf8GVJu",
        "colab_type": "code",
        "colab": {}
      },
      "source": [
        "pd.set_option('display.max_rows', 1000)\n",
        "pd.set_option('display.max_columns', 4000)\n",
        "pd.set_option('display.width', 4000)\n",
        "null_counts = as_data.isnull().sum()\n",
        "print(\"Number of null values in each column:\\n{}\".format(null_counts))"
      ],
      "execution_count": 0,
      "outputs": []
    },
    {
      "cell_type": "code",
      "metadata": {
        "id": "EDGQhAgCEppg",
        "colab_type": "code",
        "colab": {}
      },
      "source": [
        "loans = as_data.loc[:,as_data.apply(pd.Series.nunique) != 1]"
      ],
      "execution_count": 0,
      "outputs": []
    },
    {
      "cell_type": "code",
      "metadata": {
        "id": "wzuBqxP4FHPG",
        "colab_type": "code",
        "outputId": "ac0d2c69-e808-446e-fa71-acb3800e4da0",
        "colab": {
          "base_uri": "https://localhost:8080/",
          "height": 554
        }
      },
      "source": [
        "drop_c = []\n",
        "for col in loans.columns:\n",
        "    if (len(loans[col].unique()) < 4):\n",
        "      print(loans[col].value_counts())\n",
        "      print()\n",
        "      drop_c.append(col)\n"
      ],
      "execution_count": 0,
      "outputs": [
        {
          "output_type": "stream",
          "text": [
            "36    1460450\n",
            "60     584562\n",
            "Name: term, dtype: int64\n",
            "\n",
            "n    2044393\n",
            "y        619\n",
            "Name: pymnt_plan, dtype: int64\n",
            "\n",
            "w    1347634\n",
            "f     697378\n",
            "Name: initial_list_status, dtype: int64\n",
            "\n",
            "Individual    1952979\n",
            "Joint App       92033\n",
            "Name: application_type, dtype: int64\n",
            "\n",
            "N    2044181\n",
            "Y        831\n",
            "Name: hardship_flag, dtype: int64\n",
            "\n",
            "Cash         2009290\n",
            "DirectPay      35722\n",
            "Name: disbursement_method, dtype: int64\n",
            "\n",
            "N    2010785\n",
            "Y      34227\n",
            "Name: debt_settlement_flag, dtype: int64\n",
            "\n",
            "0    1776413\n",
            "1     268599\n",
            "Name: default, dtype: int64\n",
            "\n"
          ],
          "name": "stdout"
        }
      ]
    },
    {
      "cell_type": "code",
      "metadata": {
        "id": "Gt-6RuxhMIbI",
        "colab_type": "code",
        "colab": {}
      },
      "source": [
        "drop_col = [\"pymnt_plan\", \"application_type\", \"hardship_flag\", \"disbursement_method\", \"debt_settlement_flag\"]"
      ],
      "execution_count": 0,
      "outputs": []
    },
    {
      "cell_type": "markdown",
      "metadata": {
        "id": "u6NNmEtGHE4x",
        "colab_type": "text"
      },
      "source": [
        "pymnt_plan, application_type, hardship_flag, disbursement_method, debt_settlement_flag will be drop from the data because all of the have two categories and the one with less value has less than 5% of the total cases hence they wont be significant"
      ]
    },
    {
      "cell_type": "code",
      "metadata": {
        "id": "KEgohgVTH2Z_",
        "colab_type": "code",
        "colab": {}
      },
      "source": [
        "as_data.drop(drop_col, axis=1, inplace=True)"
      ],
      "execution_count": 0,
      "outputs": []
    },
    {
      "cell_type": "markdown",
      "metadata": {
        "id": "tR5MieRpNr_8",
        "colab_type": "text"
      },
      "source": [
        "## **Handling Missing Values**"
      ]
    },
    {
      "cell_type": "code",
      "metadata": {
        "id": "vvIw6HqbIdhD",
        "colab_type": "code",
        "outputId": "2266ce0d-3833-4bd0-b0e2-d11ddd54f510",
        "colab": {
          "base_uri": "https://localhost:8080/",
          "height": 890
        }
      },
      "source": [
        "pd.set_option('display.max_rows', 100)\n",
        "pd.set_option('display.max_columns', 4000)\n",
        "pd.set_option('display.width', 4000)\n",
        "null_counts = as_data.isnull().mean()\n",
        "print(\"Number of null values in each column:\\n{}\".format(100*(null_counts)))"
      ],
      "execution_count": 0,
      "outputs": [
        {
          "output_type": "stream",
          "text": [
            "Number of null values in each column:\n",
            "term                            0.000000\n",
            "int_rate                        0.000000\n",
            "emp_length                      6.261332\n",
            "home_ownership                  0.000000\n",
            "annual_inc                      0.000000\n",
            "loan_status                     0.000000\n",
            "purpose                         0.000000\n",
            "zip_code                        0.000049\n",
            "addr_state                      0.000000\n",
            "dti                             0.062640\n",
            "delinq_2yrs                     0.000000\n",
            "inq_last_6mths                  0.000049\n",
            "pub_rec                         0.000000\n",
            "initial_list_status             0.000000\n",
            "collections_12_mths_ex_med      0.002738\n",
            "mths_since_last_major_derog    73.973942\n",
            "acc_now_delinq                  0.000000\n",
            "tot_coll_amt                    3.302034\n",
            "open_act_il                    42.218823\n",
            "open_il_12m                    42.218823\n",
            "mths_since_rcnt_il             43.991429\n",
            "il_util                        50.479997\n",
            "max_bal_bc                     42.218823\n",
            "all_util                       42.226647\n",
            "inq_fi                         42.218823\n",
            "total_cu_tl                    42.218872\n",
            "inq_last_12m                   42.218872\n",
            "acc_open_past_24mths            2.312016\n",
            "bc_open_to_buy                  3.393672\n",
            "chargeoff_within_12_mths        0.002738\n",
            "delinq_amnt                     0.000000\n",
            "mo_sin_old_il_acct              6.297127\n",
            "mo_sin_old_rev_tl_op            3.302083\n",
            "mo_sin_rcnt_rev_tl_op           3.302083\n",
            "mo_sin_rcnt_tl                  3.302034\n",
            "mort_acc                        2.312016\n",
            "mths_since_recent_bc            3.326924\n",
            "mths_since_recent_inq          13.004960\n",
            "num_accts_ever_120_pd           3.302034\n",
            "num_actv_rev_tl                 3.302034\n",
            "num_il_tl                       3.302034\n",
            "num_rev_accts                   3.302083\n",
            "num_tl_120dpd_2m                7.136437\n",
            "num_tl_90g_dpd_24m              3.302034\n",
            "pct_tl_nvr_dlq                  3.309614\n",
            "percent_bc_gt_75                3.415334\n",
            "pub_rec_bankruptcies            0.034083\n",
            "tot_hi_cred_lim                 3.302034\n",
            "total_il_high_credit_limit      3.302034\n",
            "default                         0.000000\n",
            "dtype: float64\n"
          ],
          "name": "stdout"
        }
      ]
    },
    {
      "cell_type": "markdown",
      "metadata": {
        "id": "uMlAZG2UUMz_",
        "colab_type": "text"
      },
      "source": [
        "The numeric variables with less than 4% of missing values will be filled with the median of that variable"
      ]
    },
    {
      "cell_type": "code",
      "metadata": {
        "id": "M487tjgtRIdb",
        "colab_type": "code",
        "colab": {}
      },
      "source": [
        "num_var = as_data.drop(['loan_status', 'default'], axis=1).select_dtypes(include = [np.number])\n",
        "null_nv = num_var.isnull().mean()*100"
      ],
      "execution_count": 0,
      "outputs": []
    },
    {
      "cell_type": "code",
      "metadata": {
        "id": "aKt2K9W7R0C6",
        "colab_type": "code",
        "colab": {}
      },
      "source": [
        "for i in num_var:\n",
        "  if (null_nv[i] < 6) & (null_nv[i]> 0.000045):\n",
        "    as_data[i].fillna(as_data[i].median(), inplace=True)\n",
        "    "
      ],
      "execution_count": 0,
      "outputs": []
    },
    {
      "cell_type": "markdown",
      "metadata": {
        "id": "n3R2JPXrUX0S",
        "colab_type": "text"
      },
      "source": [
        "The other numeric variables with significant missing values after analyzing them they will be filled with 0 because it made references to products that the client does not have."
      ]
    },
    {
      "cell_type": "code",
      "metadata": {
        "id": "-pCID2o8TZSB",
        "colab_type": "code",
        "colab": {}
      },
      "source": [
        "for i in num_var:\n",
        "  if (null_nv[i] > 6):\n",
        "    as_data[i].fillna(0, inplace=True)"
      ],
      "execution_count": 0,
      "outputs": []
    },
    {
      "cell_type": "markdown",
      "metadata": {
        "id": "9WUkMyeAVfnf",
        "colab_type": "text"
      },
      "source": [
        "The only missing value in zip code is where the state is AL, so it will be replaced with the mode when the addr_state is AL."
      ]
    },
    {
      "cell_type": "code",
      "metadata": {
        "id": "CySxvzz-WwM4",
        "colab_type": "code",
        "colab": {}
      },
      "source": [
        "zip_al = as_data[as_data.addr_state == \"AL\"].zip_code.mode().values[0]"
      ],
      "execution_count": 0,
      "outputs": []
    },
    {
      "cell_type": "code",
      "metadata": {
        "id": "4BVtd9iTV9P1",
        "colab_type": "code",
        "colab": {}
      },
      "source": [
        "as_data.zip_code.fillna(zip_al, inplace=True)"
      ],
      "execution_count": 0,
      "outputs": []
    },
    {
      "cell_type": "markdown",
      "metadata": {
        "id": "f4K7WHjT8Awz",
        "colab_type": "text"
      },
      "source": [
        "I will replace employment date with the mode eventhough there are 6% of null cases value but it will be worst if we dropped this values"
      ]
    },
    {
      "cell_type": "code",
      "metadata": {
        "colab_type": "code",
        "id": "3yhCBxSb7fUC",
        "colab": {}
      },
      "source": [
        "emp = as_data.emp_length.mode().values[0]"
      ],
      "execution_count": 0,
      "outputs": []
    },
    {
      "cell_type": "code",
      "metadata": {
        "colab_type": "code",
        "id": "7hpd5ebK7fUQ",
        "colab": {}
      },
      "source": [
        "as_data.emp_length.fillna(emp, inplace=True)"
      ],
      "execution_count": 0,
      "outputs": []
    },
    {
      "cell_type": "markdown",
      "metadata": {
        "id": "zb5iLg8odJ7K",
        "colab_type": "text"
      },
      "source": [
        "## Outliers\n",
        "\n",
        "Subsequently, for each remaining variable, a boxplot and a histogram were used to spot the outliers. For example, for income, the users with income greater than $300,000 were removed because our sample will not represent them"
      ]
    },
    {
      "cell_type": "code",
      "metadata": {
        "id": "Kxl5evS6BPKI",
        "colab_type": "code",
        "outputId": "30a1b9a6-5730-4cbc-d84b-ba19476599cf",
        "colab": {
          "base_uri": "https://localhost:8080/",
          "height": 338
        }
      },
      "source": [
        "import seaborn as sns\n",
        "plt.hist(as_data.term)"
      ],
      "execution_count": 0,
      "outputs": [
        {
          "output_type": "execute_result",
          "data": {
            "text/plain": [
              "(array([1460450.,       0.,       0.,       0.,       0.,       0.,\n",
              "              0.,       0.,       0.,  584562.]),\n",
              " array([0. , 0.1, 0.2, 0.3, 0.4, 0.5, 0.6, 0.7, 0.8, 0.9, 1. ]),\n",
              " <a list of 10 Patch objects>)"
            ]
          },
          "metadata": {
            "tags": []
          },
          "execution_count": 81
        },
        {
          "output_type": "display_data",
          "data": {
            "image/png": "[encoded data removed]",
            "text/plain": [
              "<Figure size 432x288 with 1 Axes>"
            ]
          },
          "metadata": {
            "tags": []
          }
        }
      ]
    },
    {
      "cell_type": "code",
      "metadata": {
        "id": "n9sBIjfqgdmw",
        "colab_type": "code",
        "outputId": "4dbe0586-ecb8-4a3f-b251-2b523092dc29",
        "colab": {
          "base_uri": "https://localhost:8080/",
          "height": 297
        }
      },
      "source": [
        "fig, ax = plt.subplots(1,2)\n",
        "sns.boxplot(as_data.annual_inc, orient=\"v\", ax=ax[0])\n",
        "sns.distplot(as_data.annual_inc, ax=ax[1])"
      ],
      "execution_count": 0,
      "outputs": [
        {
          "output_type": "execute_result",
          "data": {
            "text/plain": [
              "<matplotlib.axes._subplots.AxesSubplot at 0x7f222e855b38>"
            ]
          },
          "metadata": {
            "tags": []
          },
          "execution_count": 36
        },
        {
          "output_type": "display_data",
          "data": {
            "image/png": "[encoded data removed]",
            "text/plain": [
              "<Figure size 432x288 with 2 Axes>"
            ]
          },
          "metadata": {
            "tags": []
          }
        }
      ]
    },
    {
      "cell_type": "markdown",
      "metadata": {
        "id": "IbMEM8LMkN8O",
        "colab_type": "text"
      },
      "source": [
        "People with income higher than 300,000 will be removed because they are not representative in the sample"
      ]
    },
    {
      "cell_type": "code",
      "metadata": {
        "id": "fHUAuhhKyHsd",
        "colab_type": "code",
        "colab": {}
      },
      "source": [
        "as_data = as_data.loc[(as_data.annual_inc < 300000)]"
      ],
      "execution_count": 0,
      "outputs": []
    },
    {
      "cell_type": "markdown",
      "metadata": {
        "id": "msJQvRmxsXPd",
        "colab_type": "text"
      },
      "source": [
        "## DTI \n"
      ]
    },
    {
      "cell_type": "code",
      "metadata": {
        "id": "k2BlxUktoto3",
        "colab_type": "code",
        "outputId": "b04f3dcf-cbf5-4e2a-dd48-b5705a370988",
        "colab": {
          "base_uri": "https://localhost:8080/",
          "height": 296
        }
      },
      "source": [
        "\n",
        "fig, ax = plt.subplots(1,2)\n",
        "sns.boxplot(as_data.dti, orient=\"v\", ax=ax[0])\n",
        "sns.distplot(as_data.dti,ax=ax[1])"
      ],
      "execution_count": 0,
      "outputs": [
        {
          "output_type": "execute_result",
          "data": {
            "text/plain": [
              "<matplotlib.axes._subplots.AxesSubplot at 0x7f2230bfdb00>"
            ]
          },
          "metadata": {
            "tags": []
          },
          "execution_count": 38
        },
        {
          "output_type": "display_data",
          "data": {
            "image/png": "[encoded data removed]",
            "text/plain": [
              "<Figure size 432x288 with 2 Axes>"
            ]
          },
          "metadata": {
            "tags": []
          }
        }
      ]
    },
    {
      "cell_type": "markdown",
      "metadata": {
        "id": "NYY1wxi2-POK",
        "colab_type": "text"
      },
      "source": [
        "Dti should be cut off to less than 80"
      ]
    },
    {
      "cell_type": "code",
      "metadata": {
        "id": "YSLDdLAY0dzp",
        "colab_type": "code",
        "colab": {}
      },
      "source": [
        "as_data = as_data.loc[(as_data.dti < 80)]"
      ],
      "execution_count": 0,
      "outputs": []
    },
    {
      "cell_type": "markdown",
      "metadata": {
        "id": "sxOBs2pxJ_Cg",
        "colab_type": "text"
      },
      "source": [
        "## Delinq 2years"
      ]
    },
    {
      "cell_type": "code",
      "metadata": {
        "id": "MRibtUJ2J-Sk",
        "colab_type": "code",
        "outputId": "ebaa0f88-04a6-4c0d-bb58-f3a8cb915f94",
        "colab": {
          "base_uri": "https://localhost:8080/",
          "height": 297
        }
      },
      "source": [
        "fig, ax = plt.subplots(1,2)\n",
        "sns.boxplot(as_data.delinq_2yrs, orient=\"v\", ax=ax[0])\n",
        "sns.distplot(as_data.delinq_2yrs,ax=ax[1])"
      ],
      "execution_count": 0,
      "outputs": [
        {
          "output_type": "execute_result",
          "data": {
            "text/plain": [
              "<matplotlib.axes._subplots.AxesSubplot at 0x7f2232e01d30>"
            ]
          },
          "metadata": {
            "tags": []
          },
          "execution_count": 41
        },
        {
          "output_type": "display_data",
          "data": {
            "image/png": "[encoded data removed]",
            "text/plain": [
              "<Figure size 432x288 with 2 Axes>"
            ]
          },
          "metadata": {
            "tags": []
          }
        }
      ]
    },
    {
      "cell_type": "markdown",
      "metadata": {
        "id": "CnuuWeTFKxbJ",
        "colab_type": "text"
      },
      "source": [
        "We will remove the outliers delinq 2 years > 30 and make a binary variable 0 and 1 which will mean more than 1 delinq in 2 year"
      ]
    },
    {
      "cell_type": "code",
      "metadata": {
        "id": "l81eloAZKjYb",
        "colab_type": "code",
        "colab": {}
      },
      "source": [
        "as_data = as_data.loc[(as_data.delinq_2yrs < 21)]"
      ],
      "execution_count": 0,
      "outputs": []
    },
    {
      "cell_type": "code",
      "metadata": {
        "id": "g2G8b0gaMQv4",
        "colab_type": "code",
        "colab": {}
      },
      "source": [
        "d2y = np.array(as_data[as_data.delinq_2yrs>0].delinq_2yrs.index)\n",
        "as_data.loc[d2y.transpose(), \"delinq_2yrs\"] = 1"
      ],
      "execution_count": 0,
      "outputs": []
    },
    {
      "cell_type": "markdown",
      "metadata": {
        "id": "ftgWU-2IM6Ju",
        "colab_type": "text"
      },
      "source": [
        "## Inquiries last 6 months"
      ]
    },
    {
      "cell_type": "code",
      "metadata": {
        "id": "rwLM6x4HM9yl",
        "colab_type": "code",
        "outputId": "620d8caa-2ae6-40b6-ab38-c184ffea1cec",
        "colab": {
          "base_uri": "https://localhost:8080/",
          "height": 297
        }
      },
      "source": [
        "fig, ax = plt.subplots(1,2)\n",
        "sns.boxplot(as_data.inq_last_6mths, orient=\"v\", ax=ax[0])\n",
        "sns.distplot(as_data.inq_last_6mths,ax=ax[1])"
      ],
      "execution_count": 0,
      "outputs": [
        {
          "output_type": "execute_result",
          "data": {
            "text/plain": [
              "<matplotlib.axes._subplots.AxesSubplot at 0x7f22371a32b0>"
            ]
          },
          "metadata": {
            "tags": []
          },
          "execution_count": 44
        },
        {
          "output_type": "display_data",
          "data": {
            "image/png": "[encoded data removed]",
            "text/plain": [
              "<Figure size 432x288 with 2 Axes>"
            ]
          },
          "metadata": {
            "tags": []
          }
        }
      ]
    },
    {
      "cell_type": "markdown",
      "metadata": {
        "id": "YD9qIcarNnvA",
        "colab_type": "text"
      },
      "source": [
        "I will re group them from 0, 1 and greater than 2 "
      ]
    },
    {
      "cell_type": "code",
      "metadata": {
        "id": "Ug3kk3KbN8oq",
        "colab_type": "code",
        "colab": {}
      },
      "source": [
        "il6m = np.array(as_data[as_data.inq_last_6mths>=2].inq_last_6mths.index)\n",
        "as_data.loc[il6m.transpose(), \"inq_last_6mths\"] = 2"
      ],
      "execution_count": 0,
      "outputs": []
    },
    {
      "cell_type": "markdown",
      "metadata": {
        "id": "cmXI4ocpNnFE",
        "colab_type": "text"
      },
      "source": [
        "## Pub Rec"
      ]
    },
    {
      "cell_type": "code",
      "metadata": {
        "id": "Iso59Y3NO9GN",
        "colab_type": "code",
        "outputId": "0c15334a-c933-4e0b-aefd-24b53a8d7d6f",
        "colab": {
          "base_uri": "https://localhost:8080/",
          "height": 297
        }
      },
      "source": [
        "fig, ax = plt.subplots(1,2)\n",
        "sns.boxplot(as_data.pub_rec, orient=\"v\", ax=ax[0])\n",
        "sns.distplot(as_data.pub_rec,ax=ax[1])"
      ],
      "execution_count": 0,
      "outputs": [
        {
          "output_type": "execute_result",
          "data": {
            "text/plain": [
              "<matplotlib.axes._subplots.AxesSubplot at 0x7f2239358400>"
            ]
          },
          "metadata": {
            "tags": []
          },
          "execution_count": 47
        },
        {
          "output_type": "display_data",
          "data": {
            "image/png": "[encoded data removed]",
            "text/plain": [
              "<Figure size 432x288 with 2 Axes>"
            ]
          },
          "metadata": {
            "tags": []
          }
        }
      ]
    },
    {
      "cell_type": "markdown",
      "metadata": {
        "id": "Y8y6yta6PYk8",
        "colab_type": "text"
      },
      "source": [
        "The variable has many outliers we will keep only the ones less than 5 and convert this as a binary variable 0 and 1 one will be the pub records greater than one 0 (1 to 5)"
      ]
    },
    {
      "cell_type": "code",
      "metadata": {
        "id": "HlejaBFuPYRo",
        "colab_type": "code",
        "colab": {}
      },
      "source": [
        "as_data = as_data.loc[(as_data.pub_rec < 6)]"
      ],
      "execution_count": 0,
      "outputs": []
    },
    {
      "cell_type": "code",
      "metadata": {
        "id": "z12s65wZRS3o",
        "colab_type": "code",
        "colab": {}
      },
      "source": [
        "pubrec = np.array(as_data[as_data.pub_rec>=1].inq_last_6mths.index)\n",
        "as_data.loc[pubrec.transpose(), \"pub_rec\"] = 1"
      ],
      "execution_count": 0,
      "outputs": []
    },
    {
      "cell_type": "markdown",
      "metadata": {
        "id": "3srrnHFNSLjq",
        "colab_type": "text"
      },
      "source": [
        "## Collections 12 months ex med"
      ]
    },
    {
      "cell_type": "code",
      "metadata": {
        "id": "XdJPVRuvTtK6",
        "colab_type": "code",
        "colab": {}
      },
      "source": [
        "fig, ax = plt.subplots(1,2)\n",
        "sns.boxplot(as_data.collections_12_mths_ex_med, orient=\"v\", ax=ax[0])\n",
        "sns.distplot(as_data.collections_12_mths_ex_med,ax=ax[1])"
      ],
      "execution_count": 0,
      "outputs": []
    },
    {
      "cell_type": "markdown",
      "metadata": {
        "id": "ixXYnQDDUzYX",
        "colab_type": "text"
      },
      "source": [
        "I will be removing this column because even if we convert it to binary the second case wont have 5% of the cases, meaning that this wont be a significant variable  for modelling"
      ]
    },
    {
      "cell_type": "code",
      "metadata": {
        "id": "6z5GiTXOTta_",
        "colab_type": "code",
        "colab": {}
      },
      "source": [
        "as_data.drop([\"collections_12_mths_ex_med\"], axis=1, inplace=True)"
      ],
      "execution_count": 0,
      "outputs": []
    },
    {
      "cell_type": "markdown",
      "metadata": {
        "id": "7_OQhAKMVNKr",
        "colab_type": "text"
      },
      "source": [
        "##Mths since last major derog"
      ]
    },
    {
      "cell_type": "code",
      "metadata": {
        "id": "suNagXhXVNbP",
        "colab_type": "code",
        "outputId": "27549e77-24b8-49fa-e681-e8ba1316f9a6",
        "colab": {
          "base_uri": "https://localhost:8080/",
          "height": 297
        }
      },
      "source": [
        "fig, ax = plt.subplots(1,2)\n",
        "sns.boxplot(as_data.mths_since_last_major_derog, orient=\"v\", ax=ax[0])\n",
        "sns.distplot(as_data.mths_since_last_major_derog,ax=ax[1])"
      ],
      "execution_count": 0,
      "outputs": [
        {
          "output_type": "execute_result",
          "data": {
            "text/plain": [
              "<matplotlib.axes._subplots.AxesSubplot at 0x7f222e186b70>"
            ]
          },
          "metadata": {
            "tags": []
          },
          "execution_count": 51
        },
        {
          "output_type": "display_data",
          "data": {
            "image/png": "[encoded data removed]",
            "text/plain": [
              "<Figure size 432x288 with 2 Axes>"
            ]
          },
          "metadata": {
            "tags": []
          }
        }
      ]
    },
    {
      "cell_type": "markdown",
      "metadata": {
        "id": "-Wu4pcs-XeL3",
        "colab_type": "text"
      },
      "source": [
        "Outliers greater or equal than 86 will be removed"
      ]
    },
    {
      "cell_type": "code",
      "metadata": {
        "id": "M5jMXUu3VNun",
        "colab_type": "code",
        "colab": {}
      },
      "source": [
        "as_data = as_data.loc[(as_data.mths_since_last_major_derog < 86)]"
      ],
      "execution_count": 0,
      "outputs": []
    },
    {
      "cell_type": "markdown",
      "metadata": {
        "id": "mXbS8XbRX05W",
        "colab_type": "text"
      },
      "source": [
        "## Acc Now Delinq"
      ]
    },
    {
      "cell_type": "code",
      "metadata": {
        "id": "7Ny2dSpoWThQ",
        "colab_type": "code",
        "colab": {}
      },
      "source": [
        "fig, ax = plt.subplots(1,2)\n",
        "sns.boxplot(as_data.acc_now_delinq, orient=\"v\", ax=ax[0])\n",
        "sns.distplot(as_data.acc_now_delinq,ax=ax[1])"
      ],
      "execution_count": 0,
      "outputs": []
    },
    {
      "cell_type": "markdown",
      "metadata": {
        "id": "fyabraA9YKa6",
        "colab_type": "text"
      },
      "source": [
        "We will remove the outliers and make this a binary variable however this does not seem significant, lets wait until the VIF"
      ]
    },
    {
      "cell_type": "code",
      "metadata": {
        "id": "1JAKy7frj2-8",
        "colab_type": "code",
        "colab": {}
      },
      "source": [
        "as_data.drop([\"acc_now_delinq\"], axis=1, inplace=True)"
      ],
      "execution_count": 0,
      "outputs": []
    },
    {
      "cell_type": "markdown",
      "metadata": {
        "id": "8bsS75S2Y7JA",
        "colab_type": "text"
      },
      "source": [
        "##Total Collection amount"
      ]
    },
    {
      "cell_type": "code",
      "metadata": {
        "id": "XK50dk1uYmHO",
        "colab_type": "code",
        "outputId": "c7559d49-604a-4e78-d8b3-b419c564387c",
        "colab": {
          "base_uri": "https://localhost:8080/",
          "height": 297
        }
      },
      "source": [
        "fig, ax = plt.subplots(1,2)\n",
        "sns.boxplot(as_data.tot_coll_amt, orient=\"v\", ax=ax[0])\n",
        "sns.distplot(as_data.tot_coll_amt,ax=ax[1])"
      ],
      "execution_count": 0,
      "outputs": [
        {
          "output_type": "execute_result",
          "data": {
            "text/plain": [
              "<matplotlib.axes._subplots.AxesSubplot at 0x7f222ec6b4a8>"
            ]
          },
          "metadata": {
            "tags": []
          },
          "execution_count": 55
        },
        {
          "output_type": "display_data",
          "data": {
            "image/png": "[encoded data removed]",
            "text/plain": [
              "<Figure size 432x288 with 2 Axes>"
            ]
          },
          "metadata": {
            "tags": []
          }
        }
      ]
    },
    {
      "cell_type": "markdown",
      "metadata": {
        "id": "LABiLAKHbjuq",
        "colab_type": "text"
      },
      "source": [
        "I will remove the outliers greater than 10000\n",
        "\n",
        "\n"
      ]
    },
    {
      "cell_type": "code",
      "metadata": {
        "id": "INU-M7S7ZImY",
        "colab_type": "code",
        "colab": {}
      },
      "source": [
        "as_data = as_data.loc[(as_data.tot_coll_amt < 10000)]"
      ],
      "execution_count": 0,
      "outputs": []
    },
    {
      "cell_type": "markdown",
      "metadata": {
        "id": "UgjARkq5b0r1",
        "colab_type": "text"
      },
      "source": [
        "## Open Account Il"
      ]
    },
    {
      "cell_type": "code",
      "metadata": {
        "id": "eJpnZ5KxaHYA",
        "colab_type": "code",
        "outputId": "823ef24e-a2a1-4660-a7bb-0b9fd73b861f",
        "colab": {
          "base_uri": "https://localhost:8080/",
          "height": 297
        }
      },
      "source": [
        "fig, ax = plt.subplots(1,2 )\n",
        "sns.boxplot(as_data.open_act_il, orient=\"v\", ax=ax[0])\n",
        "sns.distplot(as_data.open_act_il,ax=ax[1])"
      ],
      "execution_count": 0,
      "outputs": [
        {
          "output_type": "execute_result",
          "data": {
            "text/plain": [
              "<matplotlib.axes._subplots.AxesSubplot at 0x7f222f2aa748>"
            ]
          },
          "metadata": {
            "tags": []
          },
          "execution_count": 59
        },
        {
          "output_type": "display_data",
          "data": {
            "image/png": "[encoded data removed]",
            "text/plain": [
              "<Figure size 432x288 with 2 Axes>"
            ]
          },
          "metadata": {
            "tags": []
          }
        }
      ]
    },
    {
      "cell_type": "markdown",
      "metadata": {
        "id": "ZGBajyZIegE5",
        "colab_type": "text"
      },
      "source": [
        "we will remove the outliers greater than 20 and will regroup  4 to 5 and  6 to 20."
      ]
    },
    {
      "cell_type": "code",
      "metadata": {
        "id": "W9kLIfVDb82x",
        "colab_type": "code",
        "colab": {}
      },
      "source": [
        "as_data = as_data.loc[(as_data.open_act_il < 20)]"
      ],
      "execution_count": 0,
      "outputs": []
    },
    {
      "cell_type": "code",
      "metadata": {
        "id": "nu2binnOcqot",
        "colab_type": "code",
        "colab": {}
      },
      "source": [
        "oai = np.array(as_data[as_data.open_act_il>=6].open_act_il.index)\n",
        "as_data.loc[oai.transpose(), \"open_act_il\"] = 6"
      ],
      "execution_count": 0,
      "outputs": []
    },
    {
      "cell_type": "code",
      "metadata": {
        "id": "P8vqb8oHe7Xo",
        "colab_type": "code",
        "colab": {}
      },
      "source": [
        "oai45 = np.array(as_data[(as_data.open_act_il>=4) & (as_data.open_act_il<=5)].open_act_il.index)\n",
        "as_data.loc[oai45.transpose(), \"open_act_il\"] = 4"
      ],
      "execution_count": 0,
      "outputs": []
    },
    {
      "cell_type": "markdown",
      "metadata": {
        "id": "GCXaT3DYfnYl",
        "colab_type": "text"
      },
      "source": [
        "## Open il 12 mths"
      ]
    },
    {
      "cell_type": "code",
      "metadata": {
        "id": "4WErpcavenQq",
        "colab_type": "code",
        "outputId": "e9fc75a0-672a-46dd-ce0f-b376c30f03b9",
        "colab": {
          "base_uri": "https://localhost:8080/",
          "height": 297
        }
      },
      "source": [
        "fig, ax = plt.subplots(1,2)\n",
        "sns.boxplot(as_data.open_il_12m, orient=\"v\", ax=ax[0])\n",
        "sns.distplot(as_data.open_il_12m,ax=ax[1])"
      ],
      "execution_count": 0,
      "outputs": [
        {
          "output_type": "execute_result",
          "data": {
            "text/plain": [
              "<matplotlib.axes._subplots.AxesSubplot at 0x7f222f9f0ba8>"
            ]
          },
          "metadata": {
            "tags": []
          },
          "execution_count": 62
        },
        {
          "output_type": "display_data",
          "data": {
            "image/png": "[encoded data removed]",
            "text/plain": [
              "<Figure size 432x288 with 2 Axes>"
            ]
          },
          "metadata": {
            "tags": []
          }
        }
      ]
    },
    {
      "cell_type": "markdown",
      "metadata": {
        "id": "cirkHK__gJtb",
        "colab_type": "text"
      },
      "source": [
        "We will remove the outliers greater than 5 and regroup to 0 1 and greater than 2 "
      ]
    },
    {
      "cell_type": "code",
      "metadata": {
        "id": "fdw75ZKLfwV6",
        "colab_type": "code",
        "colab": {}
      },
      "source": [
        "as_data = as_data.loc[(as_data.open_il_12m <=5)]"
      ],
      "execution_count": 0,
      "outputs": []
    },
    {
      "cell_type": "code",
      "metadata": {
        "id": "2_ydxNS2gC_h",
        "colab_type": "code",
        "colab": {}
      },
      "source": [
        "oil12 = np.array(as_data[as_data.open_il_12m>=2].open_il_12m.index)\n",
        "as_data.loc[oil12.transpose(), \"open_il_12m\"] = 2"
      ],
      "execution_count": 0,
      "outputs": []
    },
    {
      "cell_type": "markdown",
      "metadata": {
        "id": "ggCkx_O7hYCG",
        "colab_type": "text"
      },
      "source": [
        "## mths since recent il"
      ]
    },
    {
      "cell_type": "code",
      "metadata": {
        "id": "vQNOBD4agm9m",
        "colab_type": "code",
        "outputId": "10533b79-385b-4303-b007-ef56231756b9",
        "colab": {
          "base_uri": "https://localhost:8080/",
          "height": 297
        }
      },
      "source": [
        "fig, ax = plt.subplots(1,2)\n",
        "sns.boxplot(as_data.mths_since_rcnt_il, orient=\"v\", ax=ax[0])\n",
        "sns.distplot(as_data.mths_since_rcnt_il,ax=ax[1])"
      ],
      "execution_count": 0,
      "outputs": [
        {
          "output_type": "execute_result",
          "data": {
            "text/plain": [
              "<matplotlib.axes._subplots.AxesSubplot at 0x7f223019dd68>"
            ]
          },
          "metadata": {
            "tags": []
          },
          "execution_count": 64
        },
        {
          "output_type": "display_data",
          "data": {
            "image/png": "[encoded data removed]",
            "text/plain": [
              "<Figure size 432x288 with 2 Axes>"
            ]
          },
          "metadata": {
            "tags": []
          }
        }
      ]
    },
    {
      "cell_type": "markdown",
      "metadata": {
        "id": "v5uNLxQbmpv4",
        "colab_type": "text"
      },
      "source": [
        "Outliers greater than 150 will be removed"
      ]
    },
    {
      "cell_type": "code",
      "metadata": {
        "id": "jgO_w0lWhinu",
        "colab_type": "code",
        "colab": {}
      },
      "source": [
        "as_data = as_data.loc[(as_data.mths_since_rcnt_il <=150)]"
      ],
      "execution_count": 0,
      "outputs": []
    },
    {
      "cell_type": "markdown",
      "metadata": {
        "id": "qkc8049Jlz-a",
        "colab_type": "text"
      },
      "source": [
        "##Il util"
      ]
    },
    {
      "cell_type": "code",
      "metadata": {
        "id": "bHKa476Ahupp",
        "colab_type": "code",
        "outputId": "881eaf6d-3330-4b23-a772-89186916b262",
        "colab": {
          "base_uri": "https://localhost:8080/",
          "height": 297
        }
      },
      "source": [
        "fig, ax = plt.subplots(1,2)\n",
        "sns.boxplot(as_data.il_util, orient=\"v\", ax=ax[0])\n",
        "sns.distplot(as_data.il_util,ax=ax[1])"
      ],
      "execution_count": 0,
      "outputs": [
        {
          "output_type": "execute_result",
          "data": {
            "text/plain": [
              "<matplotlib.axes._subplots.AxesSubplot at 0x7f22309559b0>"
            ]
          },
          "metadata": {
            "tags": []
          },
          "execution_count": 66
        },
        {
          "output_type": "display_data",
          "data": {
            "image/png": "[encoded data removed]",
            "text/plain": [
              "<Figure size 432x288 with 2 Axes>"
            ]
          },
          "metadata": {
            "tags": []
          }
        }
      ]
    },
    {
      "cell_type": "markdown",
      "metadata": {
        "id": "YuBAWa1smkN1",
        "colab_type": "text"
      },
      "source": [
        "Outliers greater than 200 will be removed"
      ]
    },
    {
      "cell_type": "code",
      "metadata": {
        "id": "g2RNuXGrmASw",
        "colab_type": "code",
        "colab": {}
      },
      "source": [
        "as_data = as_data.loc[(as_data.il_util <=200)]"
      ],
      "execution_count": 0,
      "outputs": []
    },
    {
      "cell_type": "markdown",
      "metadata": {
        "id": "EzSzvKcqnNl7",
        "colab_type": "text"
      },
      "source": [
        "## Max bal bc"
      ]
    },
    {
      "cell_type": "code",
      "metadata": {
        "id": "4dm_2i7dnMJ5",
        "colab_type": "code",
        "outputId": "b3365d21-5e5a-4971-95a1-f4abd092c361",
        "colab": {
          "base_uri": "https://localhost:8080/",
          "height": 297
        }
      },
      "source": [
        "fig, ax = plt.subplots(1,2)\n",
        "sns.boxplot(as_data.max_bal_bc, orient=\"v\", ax=ax[0])\n",
        "sns.distplot(as_data.max_bal_bc,ax=ax[1], kde=False)"
      ],
      "execution_count": 0,
      "outputs": [
        {
          "output_type": "execute_result",
          "data": {
            "text/plain": [
              "<matplotlib.axes._subplots.AxesSubplot at 0x7f22311c85f8>"
            ]
          },
          "metadata": {
            "tags": []
          },
          "execution_count": 68
        },
        {
          "output_type": "display_data",
          "data": {
            "image/png": "[encoded data removed]",
            "text/plain": [
              "<Figure size 432x288 with 2 Axes>"
            ]
          },
          "metadata": {
            "tags": []
          }
        }
      ]
    },
    {
      "cell_type": "markdown",
      "metadata": {
        "id": "Yh4qMD0-oQz0",
        "colab_type": "text"
      },
      "source": [
        "Outliers greater than 40000 will be removed because my model will not be representing them "
      ]
    },
    {
      "cell_type": "code",
      "metadata": {
        "id": "fVSovJRImLzV",
        "colab_type": "code",
        "colab": {}
      },
      "source": [
        "as_data = as_data.loc[(as_data.max_bal_bc <=40000)]"
      ],
      "execution_count": 0,
      "outputs": []
    },
    {
      "cell_type": "markdown",
      "metadata": {
        "id": "PD8eddU6oXeJ",
        "colab_type": "text"
      },
      "source": [
        "## All util\n",
        "\n",
        "This one is fine\n",
        "\n"
      ]
    },
    {
      "cell_type": "code",
      "metadata": {
        "id": "HDeJtXpEn1HA",
        "colab_type": "code",
        "outputId": "4558046a-93d5-42c4-c196-5221b52d4d42",
        "colab": {
          "base_uri": "https://localhost:8080/",
          "height": 297
        }
      },
      "source": [
        "fig, ax = plt.subplots(1,2)\n",
        "sns.boxplot(as_data.all_util, orient=\"v\", ax=ax[0])\n",
        "sns.distplot(as_data.all_util,ax=ax[1])"
      ],
      "execution_count": 0,
      "outputs": [
        {
          "output_type": "execute_result",
          "data": {
            "text/plain": [
              "<matplotlib.axes._subplots.AxesSubplot at 0x7f2231a5b630>"
            ]
          },
          "metadata": {
            "tags": []
          },
          "execution_count": 69
        },
        {
          "output_type": "display_data",
          "data": {
            "image/png": "[encoded data removed]",
            "text/plain": [
              "<Figure size 432x288 with 2 Axes>"
            ]
          },
          "metadata": {
            "tags": []
          }
        }
      ]
    },
    {
      "cell_type": "markdown",
      "metadata": {
        "id": "eyq8GxvHpK-5",
        "colab_type": "text"
      },
      "source": [
        "## Inq fi"
      ]
    },
    {
      "cell_type": "code",
      "metadata": {
        "id": "ZeJw5ulDo317",
        "colab_type": "code",
        "outputId": "98f98910-d26d-42db-bea7-5fc83864011a",
        "colab": {
          "base_uri": "https://localhost:8080/",
          "height": 297
        }
      },
      "source": [
        "fig, ax = plt.subplots(1,2)\n",
        "sns.boxplot(as_data.inq_fi, orient=\"v\", ax=ax[0])\n",
        "sns.distplot(as_data.inq_fi,ax=ax[1], kde=False)"
      ],
      "execution_count": 0,
      "outputs": [
        {
          "output_type": "execute_result",
          "data": {
            "text/plain": [
              "<matplotlib.axes._subplots.AxesSubplot at 0x7f2232225898>"
            ]
          },
          "metadata": {
            "tags": []
          },
          "execution_count": 72
        },
        {
          "output_type": "display_data",
          "data": {
            "image/png": "[encoded data removed]",
            "text/plain": [
              "<Figure size 432x288 with 2 Axes>"
            ]
          },
          "metadata": {
            "tags": []
          }
        }
      ]
    },
    {
      "cell_type": "markdown",
      "metadata": {
        "id": "9SNE6rmUrH1_",
        "colab_type": "text"
      },
      "source": [
        "Remove outliers greater than 10 and regrouped them 0,1,2 angreater or equal to 3"
      ]
    },
    {
      "cell_type": "code",
      "metadata": {
        "id": "wnGBQ6mzpR1F",
        "colab_type": "code",
        "colab": {}
      },
      "source": [
        "as_data = as_data.loc[(as_data.inq_fi <=10)]"
      ],
      "execution_count": 0,
      "outputs": []
    },
    {
      "cell_type": "code",
      "metadata": {
        "id": "j-W57UygrXGK",
        "colab_type": "code",
        "colab": {}
      },
      "source": [
        "inqfi = np.array(as_data[as_data.inq_fi>=3].inq_fi.index)\n",
        "as_data.loc[inqfi.transpose(), \"inq_fi\"] = 3"
      ],
      "execution_count": 0,
      "outputs": []
    },
    {
      "cell_type": "markdown",
      "metadata": {
        "id": "xCH2g9qTrxrC",
        "colab_type": "text"
      },
      "source": [
        "##Total Cu Tl"
      ]
    },
    {
      "cell_type": "code",
      "metadata": {
        "id": "JJEH2ehhrxHJ",
        "colab_type": "code",
        "outputId": "7a9d24fe-42d4-4621-a5c6-39fefade8dfe",
        "colab": {
          "base_uri": "https://localhost:8080/",
          "height": 297
        }
      },
      "source": [
        "fig, ax = plt.subplots(1,2)\n",
        "sns.boxplot(as_data.total_cu_tl, orient=\"v\", ax=ax[0])\n",
        "sns.distplot(as_data.total_cu_tl,ax=ax[1], kde=False)"
      ],
      "execution_count": 0,
      "outputs": [
        {
          "output_type": "execute_result",
          "data": {
            "text/plain": [
              "<matplotlib.axes._subplots.AxesSubplot at 0x7f22329756d8>"
            ]
          },
          "metadata": {
            "tags": []
          },
          "execution_count": 75
        },
        {
          "output_type": "display_data",
          "data": {
            "image/png": "[encoded data removed]",
            "text/plain": [
              "<Figure size 432x288 with 2 Axes>"
            ]
          },
          "metadata": {
            "tags": []
          }
        }
      ]
    },
    {
      "cell_type": "markdown",
      "metadata": {
        "id": "SMgBDAUgk_gz",
        "colab_type": "text"
      },
      "source": [
        "The outliers greater than 20 will be removed and the variables will be regroup "
      ]
    },
    {
      "cell_type": "code",
      "metadata": {
        "id": "AEShf0LPqwQv",
        "colab_type": "code",
        "colab": {}
      },
      "source": [
        "as_data = as_data.loc[(as_data.total_cu_tl <=20)]"
      ],
      "execution_count": 0,
      "outputs": []
    },
    {
      "cell_type": "code",
      "metadata": {
        "id": "v4guifrtsnqw",
        "colab_type": "code",
        "colab": {}
      },
      "source": [
        "tct23 = np.array(as_data[(as_data.total_cu_tl>=2) & (as_data.total_cu_tl<=3)].total_cu_tl.index)\n",
        "as_data.loc[tct23.transpose(), \"total_cu_tl\"] = 2\n",
        "\n",
        "tct4 = np.array(as_data[(as_data.total_cu_tl>=4)].total_cu_tl.index)\n",
        "as_data.loc[tct4.transpose(), \"total_cu_tl\"] = 3"
      ],
      "execution_count": 0,
      "outputs": []
    },
    {
      "cell_type": "markdown",
      "metadata": {
        "id": "CxTJZhv2uQ-4",
        "colab_type": "text"
      },
      "source": [
        "## Inq last 12m"
      ]
    },
    {
      "cell_type": "code",
      "metadata": {
        "id": "5KN_l83QvnhL",
        "colab_type": "code",
        "outputId": "cd002990-119e-47ae-fbdc-fede99f8f987",
        "colab": {
          "base_uri": "https://localhost:8080/",
          "height": 297
        }
      },
      "source": [
        "fig, ax = plt.subplots(1,2)\n",
        "sns.boxplot(as_data.inq_last_12m, orient=\"v\", ax=ax[0])\n",
        "sns.distplot(as_data.inq_last_12m,ax=ax[1], kde=False)"
      ],
      "execution_count": 0,
      "outputs": [
        {
          "output_type": "execute_result",
          "data": {
            "text/plain": [
              "<matplotlib.axes._subplots.AxesSubplot at 0x7f223313f470>"
            ]
          },
          "metadata": {
            "tags": []
          },
          "execution_count": 77
        },
        {
          "output_type": "display_data",
          "data": {
            "image/png": "[encoded data removed]",
            "text/plain": [
              "<Figure size 432x288 with 2 Axes>"
            ]
          },
          "metadata": {
            "tags": []
          }
        }
      ]
    },
    {
      "cell_type": "markdown",
      "metadata": {
        "id": "UGOqLZc-vXHT",
        "colab_type": "text"
      },
      "source": [
        "Outliers greater than 15 will be removed"
      ]
    },
    {
      "cell_type": "code",
      "metadata": {
        "id": "Wd3EaCZPufH4",
        "colab_type": "code",
        "colab": {}
      },
      "source": [
        "as_data = as_data.loc[(as_data.inq_last_12m <=15)]"
      ],
      "execution_count": 0,
      "outputs": []
    },
    {
      "cell_type": "markdown",
      "metadata": {
        "id": "jEGTChqQvcxs",
        "colab_type": "text"
      },
      "source": [
        "## Accounts open past 24 mnths"
      ]
    },
    {
      "cell_type": "code",
      "metadata": {
        "id": "bQ7V3XwYvZh8",
        "colab_type": "code",
        "outputId": "a1f8ea95-b2c8-480d-84f6-4f5328571a2f",
        "colab": {
          "base_uri": "https://localhost:8080/",
          "height": 297
        }
      },
      "source": [
        "fig, ax = plt.subplots(1,2)\n",
        "sns.boxplot(as_data.acc_open_past_24mths, orient=\"v\", ax=ax[0])\n",
        "sns.distplot(as_data.acc_open_past_24mths,ax=ax[1], kde=False)"
      ],
      "execution_count": 0,
      "outputs": [
        {
          "output_type": "execute_result",
          "data": {
            "text/plain": [
              "<matplotlib.axes._subplots.AxesSubplot at 0x7f223388a0f0>"
            ]
          },
          "metadata": {
            "tags": []
          },
          "execution_count": 79
        },
        {
          "output_type": "display_data",
          "data": {
            "image/png": "[encoded data removed]",
            "text/plain": [
              "<Figure size 432x288 with 2 Axes>"
            ]
          },
          "metadata": {
            "tags": []
          }
        }
      ]
    },
    {
      "cell_type": "markdown",
      "metadata": {
        "id": "w6tZ3c_nwPD5",
        "colab_type": "text"
      },
      "source": [
        "Outilers greater than 25 will be removed\n",
        "\n"
      ]
    },
    {
      "cell_type": "code",
      "metadata": {
        "id": "6v07hLhFvs94",
        "colab_type": "code",
        "colab": {}
      },
      "source": [
        "as_data = as_data.loc[(as_data.acc_open_past_24mths <=25)]"
      ],
      "execution_count": 0,
      "outputs": []
    },
    {
      "cell_type": "markdown",
      "metadata": {
        "id": "sqcCgJvFwPNf",
        "colab_type": "text"
      },
      "source": [
        "#Bc open to buy"
      ]
    },
    {
      "cell_type": "code",
      "metadata": {
        "id": "fiZtJZcDwAxY",
        "colab_type": "code",
        "outputId": "a8f31f89-0a83-4bff-af65-45966135c834",
        "colab": {
          "base_uri": "https://localhost:8080/",
          "height": 297
        }
      },
      "source": [
        "fig, ax = plt.subplots(1,2)\n",
        "sns.boxplot(as_data.bc_open_to_buy, orient=\"v\", ax=ax[0])\n",
        "sns.distplot(as_data.bc_open_to_buy,ax=ax[1])"
      ],
      "execution_count": 0,
      "outputs": [
        {
          "output_type": "execute_result",
          "data": {
            "text/plain": [
              "<matplotlib.axes._subplots.AxesSubplot at 0x7f2233f4fe80>"
            ]
          },
          "metadata": {
            "tags": []
          },
          "execution_count": 81
        },
        {
          "output_type": "display_data",
          "data": {
            "image/png": "[encoded data removed]",
            "text/plain": [
              "<Figure size 432x288 with 2 Axes>"
            ]
          },
          "metadata": {
            "tags": []
          }
        }
      ]
    },
    {
      "cell_type": "markdown",
      "metadata": {
        "id": "kiWv8raZxTMK",
        "colab_type": "text"
      },
      "source": [
        "Outliers greater than 250000 will be removed"
      ]
    },
    {
      "cell_type": "code",
      "metadata": {
        "id": "6ZIxOtkiwge8",
        "colab_type": "code",
        "colab": {}
      },
      "source": [
        "as_data = as_data.loc[(as_data.bc_open_to_buy <=250000)]"
      ],
      "execution_count": 0,
      "outputs": []
    },
    {
      "cell_type": "markdown",
      "metadata": {
        "id": "gtIv0pLBxXfL",
        "colab_type": "text"
      },
      "source": [
        "## Charged off within 12 mths"
      ]
    },
    {
      "cell_type": "code",
      "metadata": {
        "id": "6cS_vzOVwyPn",
        "colab_type": "code",
        "outputId": "5a91c1e2-f1e0-462e-f773-00a3b48ed2e8",
        "colab": {
          "base_uri": "https://localhost:8080/",
          "height": 297
        }
      },
      "source": [
        "fig, ax = plt.subplots(1,2)\n",
        "sns.boxplot(as_data.chargeoff_within_12_mths, orient=\"v\", ax=ax[0])\n",
        "sns.distplot(as_data.chargeoff_within_12_mths,ax=ax[1], kde=False)"
      ],
      "execution_count": 0,
      "outputs": [
        {
          "output_type": "execute_result",
          "data": {
            "text/plain": [
              "<matplotlib.axes._subplots.AxesSubplot at 0x7f22346ad6a0>"
            ]
          },
          "metadata": {
            "tags": []
          },
          "execution_count": 82
        },
        {
          "output_type": "display_data",
          "data": {
            "image/png": "[encoded data removed]",
            "text/plain": [
              "<Figure size 432x288 with 2 Axes>"
            ]
          },
          "metadata": {
            "tags": []
          }
        }
      ]
    },
    {
      "cell_type": "markdown",
      "metadata": {
        "id": "qv4l7EpHx_DL",
        "colab_type": "text"
      },
      "source": [
        "This variable will be eliminated because even though we converted in binary the second case wont have 5% of the cases, hence it wont be significant"
      ]
    },
    {
      "cell_type": "code",
      "metadata": {
        "id": "VtOYoBgZxv9x",
        "colab_type": "code",
        "colab": {}
      },
      "source": [
        "as_data.drop([\"chargeoff_within_12_mths\"], inplace=True, axis=1)"
      ],
      "execution_count": 0,
      "outputs": []
    },
    {
      "cell_type": "markdown",
      "metadata": {
        "id": "4X28BbfDyZEJ",
        "colab_type": "text"
      },
      "source": [
        "## Delinq Amount"
      ]
    },
    {
      "cell_type": "code",
      "metadata": {
        "id": "pkWyBmOGyWDy",
        "colab_type": "code",
        "outputId": "03602a45-5b3e-4c97-b472-c84d40a030b0",
        "colab": {
          "base_uri": "https://localhost:8080/",
          "height": 297
        }
      },
      "source": [
        "fig, ax = plt.subplots(1,2)\n",
        "sns.boxplot(as_data.delinq_amnt, orient=\"v\", ax=ax[0])\n",
        "sns.distplot(as_data.delinq_amnt,ax=ax[1], kde=False)"
      ],
      "execution_count": 0,
      "outputs": [
        {
          "output_type": "execute_result",
          "data": {
            "text/plain": [
              "<matplotlib.axes._subplots.AxesSubplot at 0x7f2234e3bbe0>"
            ]
          },
          "metadata": {
            "tags": []
          },
          "execution_count": 84
        },
        {
          "output_type": "display_data",
          "data": {
            "image/png": "[encoded data removed]",
            "text/plain": [
              "<Figure size 432x288 with 2 Axes>"
            ]
          },
          "metadata": {
            "tags": []
          }
        }
      ]
    },
    {
      "cell_type": "markdown",
      "metadata": {
        "id": "2yNto4MezRL5",
        "colab_type": "text"
      },
      "source": [
        "This variable will be eliminated it will be also a insignificant variable"
      ]
    },
    {
      "cell_type": "code",
      "metadata": {
        "id": "udpwieVjyjQG",
        "colab_type": "code",
        "colab": {}
      },
      "source": [
        "as_data = as_data.loc[(as_data.delinq_amnt <80000)]"
      ],
      "execution_count": 0,
      "outputs": []
    },
    {
      "cell_type": "code",
      "metadata": {
        "id": "MNoEFohb7yrS",
        "colab_type": "code",
        "colab": {}
      },
      "source": [
        "as_data.drop([\"delinq_amnt\"], axis=1, inplace=True)"
      ],
      "execution_count": 0,
      "outputs": []
    },
    {
      "cell_type": "markdown",
      "metadata": {
        "id": "df0ifn6bzZO_",
        "colab_type": "text"
      },
      "source": [
        "##Months since old il amount"
      ]
    },
    {
      "cell_type": "code",
      "metadata": {
        "id": "zdLsmR82zNAy",
        "colab_type": "code",
        "outputId": "c36a1932-235e-40b3-dcec-25018f830961",
        "colab": {
          "base_uri": "https://localhost:8080/",
          "height": 297
        }
      },
      "source": [
        "fig, ax = plt.subplots(1,2)\n",
        "sns.boxplot(as_data.mo_sin_old_il_acct, orient=\"v\", ax=ax[0])\n",
        "sns.distplot(as_data.mo_sin_old_il_acct,ax=ax[1])"
      ],
      "execution_count": 0,
      "outputs": [
        {
          "output_type": "execute_result",
          "data": {
            "text/plain": [
              "<matplotlib.axes._subplots.AxesSubplot at 0x7f22355f0160>"
            ]
          },
          "metadata": {
            "tags": []
          },
          "execution_count": 87
        },
        {
          "output_type": "display_data",
          "data": {
            "image/png": "[encoded data removed]",
            "text/plain": [
              "<Figure size 432x288 with 2 Axes>"
            ]
          },
          "metadata": {
            "tags": []
          }
        }
      ]
    },
    {
      "cell_type": "markdown",
      "metadata": {
        "id": "eTMeMrHD0P0-",
        "colab_type": "text"
      },
      "source": [
        "Outliers greater than 400 will be removed"
      ]
    },
    {
      "cell_type": "code",
      "metadata": {
        "id": "dqKtXMXAzI9Y",
        "colab_type": "code",
        "colab": {}
      },
      "source": [
        "as_data = as_data.loc[(as_data.mo_sin_old_il_acct <=400)]"
      ],
      "execution_count": 0,
      "outputs": []
    },
    {
      "cell_type": "markdown",
      "metadata": {
        "id": "oa9bKK4M0WF3",
        "colab_type": "text"
      },
      "source": [
        "## Months since old revolving"
      ]
    },
    {
      "cell_type": "code",
      "metadata": {
        "id": "rX8YhupO0TWk",
        "colab_type": "code",
        "outputId": "568cdb3b-8bda-4ea4-bd50-04a7d0708ffe",
        "colab": {
          "base_uri": "https://localhost:8080/",
          "height": 297
        }
      },
      "source": [
        "fig, ax = plt.subplots(1,2)\n",
        "sns.boxplot(as_data.mo_sin_old_rev_tl_op, orient=\"v\", ax=ax[0])\n",
        "sns.distplot(as_data.mo_sin_old_rev_tl_op,ax=ax[1])"
      ],
      "execution_count": 0,
      "outputs": [
        {
          "output_type": "execute_result",
          "data": {
            "text/plain": [
              "<matplotlib.axes._subplots.AxesSubplot at 0x7f2235d0f908>"
            ]
          },
          "metadata": {
            "tags": []
          },
          "execution_count": 89
        },
        {
          "output_type": "display_data",
          "data": {
            "image/png": "[encoded data removed]",
            "text/plain": [
              "<Figure size 432x288 with 2 Axes>"
            ]
          },
          "metadata": {
            "tags": []
          }
        }
      ]
    },
    {
      "cell_type": "markdown",
      "metadata": {
        "id": "CL3MGQiA0ttl",
        "colab_type": "text"
      },
      "source": [
        "outliers greater than 800 will be removed"
      ]
    },
    {
      "cell_type": "code",
      "metadata": {
        "id": "p3UtmUvS0hZC",
        "colab_type": "code",
        "colab": {}
      },
      "source": [
        "as_data = as_data.loc[(as_data.mo_sin_old_rev_tl_op <=800)]"
      ],
      "execution_count": 0,
      "outputs": []
    },
    {
      "cell_type": "markdown",
      "metadata": {
        "id": "q8GTMYd10582",
        "colab_type": "text"
      },
      "source": [
        "## Months since rcnt rev tl op"
      ]
    },
    {
      "cell_type": "code",
      "metadata": {
        "id": "gGjPTLvc0s5x",
        "colab_type": "code",
        "outputId": "dec16f9d-665e-42ee-ef78-ce26e593f129",
        "colab": {
          "base_uri": "https://localhost:8080/",
          "height": 297
        }
      },
      "source": [
        "fig, ax = plt.subplots(1,2)\n",
        "sns.boxplot(as_data.mo_sin_rcnt_rev_tl_op, orient=\"v\", ax=ax[0])\n",
        "sns.distplot(as_data.mo_sin_rcnt_rev_tl_op,ax=ax[1], kde=False)"
      ],
      "execution_count": 0,
      "outputs": [
        {
          "output_type": "execute_result",
          "data": {
            "text/plain": [
              "<matplotlib.axes._subplots.AxesSubplot at 0x7f223657dbe0>"
            ]
          },
          "metadata": {
            "tags": []
          },
          "execution_count": 91
        },
        {
          "output_type": "display_data",
          "data": {
            "image/png": "[encoded data removed]",
            "text/plain": [
              "<Figure size 432x288 with 2 Axes>"
            ]
          },
          "metadata": {
            "tags": []
          }
        }
      ]
    },
    {
      "cell_type": "markdown",
      "metadata": {
        "id": "ofdx6x2q1fSI",
        "colab_type": "text"
      },
      "source": [
        "Outliers greater than 140 will be removed"
      ]
    },
    {
      "cell_type": "code",
      "metadata": {
        "id": "Otw0OVel1IRS",
        "colab_type": "code",
        "colab": {}
      },
      "source": [
        "as_data = as_data.loc[(as_data.mo_sin_rcnt_rev_tl_op <=140)]"
      ],
      "execution_count": 0,
      "outputs": []
    },
    {
      "cell_type": "markdown",
      "metadata": {
        "id": "BozOsk-V1l9B",
        "colab_type": "text"
      },
      "source": [
        "## Mths since recent tl"
      ]
    },
    {
      "cell_type": "code",
      "metadata": {
        "id": "fTM1jI6Z1YTD",
        "colab_type": "code",
        "outputId": "2bc19022-2fdf-4591-ce34-e0a9524886f3",
        "colab": {
          "base_uri": "https://localhost:8080/",
          "height": 297
        }
      },
      "source": [
        "fig, ax = plt.subplots(1,2)\n",
        "sns.boxplot(as_data.mo_sin_rcnt_tl, orient=\"v\", ax=ax[0])\n",
        "sns.distplot(as_data.mo_sin_rcnt_tl,ax=ax[1], kde=False)"
      ],
      "execution_count": 0,
      "outputs": [
        {
          "output_type": "execute_result",
          "data": {
            "text/plain": [
              "<matplotlib.axes._subplots.AxesSubplot at 0x7f2236c0feb8>"
            ]
          },
          "metadata": {
            "tags": []
          },
          "execution_count": 93
        },
        {
          "output_type": "display_data",
          "data": {
            "image/png": "[encoded data removed]",
            "text/plain": [
              "<Figure size 432x288 with 2 Axes>"
            ]
          },
          "metadata": {
            "tags": []
          }
        }
      ]
    },
    {
      "cell_type": "markdown",
      "metadata": {
        "id": "a3vhhqJ92GI3",
        "colab_type": "text"
      },
      "source": [
        "outliers greater than 75 will be removed"
      ]
    },
    {
      "cell_type": "code",
      "metadata": {
        "id": "NQBWXbVF10bf",
        "colab_type": "code",
        "colab": {}
      },
      "source": [
        "as_data = as_data.loc[(as_data.mo_sin_rcnt_tl <=75)]"
      ],
      "execution_count": 0,
      "outputs": []
    },
    {
      "cell_type": "markdown",
      "metadata": {
        "id": "Zql090lU2KAA",
        "colab_type": "text"
      },
      "source": [
        "## Mort acc"
      ]
    },
    {
      "cell_type": "code",
      "metadata": {
        "id": "EtZN5CHE18iH",
        "colab_type": "code",
        "outputId": "cbe6e062-995c-445d-9b32-aa1282fc42dc",
        "colab": {
          "base_uri": "https://localhost:8080/",
          "height": 297
        }
      },
      "source": [
        "fig, ax = plt.subplots(1,2)\n",
        "sns.boxplot(as_data.mort_acc, orient=\"v\", ax=ax[0])\n",
        "sns.distplot(as_data.mort_acc,ax=ax[1], kde=False)"
      ],
      "execution_count": 0,
      "outputs": [
        {
          "output_type": "execute_result",
          "data": {
            "text/plain": [
              "<matplotlib.axes._subplots.AxesSubplot at 0x7f22374be198>"
            ]
          },
          "metadata": {
            "tags": []
          },
          "execution_count": 95
        },
        {
          "output_type": "display_data",
          "data": {
            "image/png": "[encoded data removed]",
            "text/plain": [
              "<Figure size 432x288 with 2 Axes>"
            ]
          },
          "metadata": {
            "tags": []
          }
        }
      ]
    },
    {
      "cell_type": "markdown",
      "metadata": {
        "id": "xPHBjinF2utt",
        "colab_type": "text"
      },
      "source": [
        "Outliers greater than 10 accounts will be removed"
      ]
    },
    {
      "cell_type": "code",
      "metadata": {
        "id": "v7dPyXSr2RyX",
        "colab_type": "code",
        "colab": {}
      },
      "source": [
        "as_data = as_data.loc[(as_data.mort_acc <=10)]"
      ],
      "execution_count": 0,
      "outputs": []
    },
    {
      "cell_type": "markdown",
      "metadata": {
        "id": "zQsKXcBZ21eF",
        "colab_type": "text"
      },
      "source": [
        "## Months since recent bc"
      ]
    },
    {
      "cell_type": "code",
      "metadata": {
        "id": "DUwR5EDe2pGe",
        "colab_type": "code",
        "outputId": "d518fd85-0642-4339-a9df-86a2628a2ef0",
        "colab": {
          "base_uri": "https://localhost:8080/",
          "height": 297
        }
      },
      "source": [
        "fig, ax = plt.subplots(1,2)\n",
        "sns.boxplot(as_data.mths_since_recent_bc, orient=\"v\", ax=ax[0])\n",
        "sns.distplot(as_data.mths_since_recent_bc,ax=ax[1], kde=False)"
      ],
      "execution_count": 0,
      "outputs": [
        {
          "output_type": "execute_result",
          "data": {
            "text/plain": [
              "<matplotlib.axes._subplots.AxesSubplot at 0x7f2237b4c4a8>"
            ]
          },
          "metadata": {
            "tags": []
          },
          "execution_count": 97
        },
        {
          "output_type": "display_data",
          "data": {
            "image/png": "[encoded data removed]",
            "text/plain": [
              "<Figure size 432x288 with 2 Axes>"
            ]
          },
          "metadata": {
            "tags": []
          }
        }
      ]
    },
    {
      "cell_type": "markdown",
      "metadata": {
        "id": "azMmy0xm3XP3",
        "colab_type": "text"
      },
      "source": [
        "Outliers greater than 175 will be removed"
      ]
    },
    {
      "cell_type": "code",
      "metadata": {
        "id": "ZyGVKUlF3BGh",
        "colab_type": "code",
        "colab": {}
      },
      "source": [
        "as_data = as_data.loc[(as_data.mths_since_recent_bc <=175)]"
      ],
      "execution_count": 0,
      "outputs": []
    },
    {
      "cell_type": "markdown",
      "metadata": {
        "id": "hNSR8aj_URUp",
        "colab_type": "text"
      },
      "source": [
        "## Num of accounts ever 120"
      ]
    },
    {
      "cell_type": "code",
      "metadata": {
        "id": "25oiCqnz3I-5",
        "colab_type": "code",
        "outputId": "19a1bae7-2151-4b93-bcd4-663c71b3782b",
        "colab": {
          "base_uri": "https://localhost:8080/",
          "height": 297
        }
      },
      "source": [
        "fig, ax = plt.subplots(1,2)\n",
        "sns.boxplot(as_data.num_accts_ever_120_pd, orient=\"v\", ax=ax[0])\n",
        "sns.distplot(as_data.num_accts_ever_120_pd,ax=ax[1], kde=True)"
      ],
      "execution_count": 0,
      "outputs": [
        {
          "output_type": "execute_result",
          "data": {
            "text/plain": [
              "<matplotlib.axes._subplots.AxesSubplot at 0x7f223833fc88>"
            ]
          },
          "metadata": {
            "tags": []
          },
          "execution_count": 99
        },
        {
          "output_type": "display_data",
          "data": {
            "image/png": "[encoded data removed]",
            "text/plain": [
              "<Figure size 432x288 with 2 Axes>"
            ]
          },
          "metadata": {
            "tags": []
          }
        }
      ]
    },
    {
      "cell_type": "markdown",
      "metadata": {
        "id": "QIRJtcGnASsw",
        "colab_type": "text"
      },
      "source": [
        "Outliers greater than 10 will be removed"
      ]
    },
    {
      "cell_type": "code",
      "metadata": {
        "id": "efvHW-cHUfv0",
        "colab_type": "code",
        "colab": {}
      },
      "source": [
        "as_data = as_data.loc[(as_data.num_accts_ever_120_pd <=10)]"
      ],
      "execution_count": 0,
      "outputs": []
    },
    {
      "cell_type": "markdown",
      "metadata": {
        "id": "c_x56wYBIZRO",
        "colab_type": "text"
      },
      "source": [
        "## Num actv rev tl \n"
      ]
    },
    {
      "cell_type": "code",
      "metadata": {
        "id": "zeLk0c4IVXGJ",
        "colab_type": "code",
        "outputId": "3ff648ed-3e69-490b-d5e2-cacaf4b33c43",
        "colab": {
          "base_uri": "https://localhost:8080/",
          "height": 297
        }
      },
      "source": [
        "fig, ax = plt.subplots(1,2)\n",
        "sns.boxplot(as_data.num_actv_rev_tl, orient=\"v\", ax=ax[0])\n",
        "sns.distplot(as_data.num_actv_rev_tl,ax=ax[1], kde=True)"
      ],
      "execution_count": 0,
      "outputs": [
        {
          "output_type": "execute_result",
          "data": {
            "text/plain": [
              "<matplotlib.axes._subplots.AxesSubplot at 0x7f2238aab3c8>"
            ]
          },
          "metadata": {
            "tags": []
          },
          "execution_count": 101
        },
        {
          "output_type": "display_data",
          "data": {
            "image/png": "[encoded data removed]",
            "text/plain": [
              "<Figure size 432x288 with 2 Axes>"
            ]
          },
          "metadata": {
            "tags": []
          }
        }
      ]
    },
    {
      "cell_type": "markdown",
      "metadata": {
        "id": "xX7yxJs4JMXH",
        "colab_type": "text"
      },
      "source": [
        "The outliers above 20 will be removed"
      ]
    },
    {
      "cell_type": "code",
      "metadata": {
        "id": "4SxD4ZZfI2hW",
        "colab_type": "code",
        "colab": {}
      },
      "source": [
        "as_data = as_data.loc[(as_data.num_actv_rev_tl <=20)]"
      ],
      "execution_count": 0,
      "outputs": []
    },
    {
      "cell_type": "markdown",
      "metadata": {
        "id": "isLgFE5pJlDd",
        "colab_type": "text"
      },
      "source": [
        "## Num il tl"
      ]
    },
    {
      "cell_type": "code",
      "metadata": {
        "id": "ZBbiUpRcJeUY",
        "colab_type": "code",
        "outputId": "93b0f2a2-5e8b-4a07-9847-4843ba58881d",
        "colab": {
          "base_uri": "https://localhost:8080/",
          "height": 297
        }
      },
      "source": [
        "fig, ax = plt.subplots(1,2)\n",
        "sns.boxplot(as_data.num_il_tl, orient=\"v\", ax=ax[0])\n",
        "sns.distplot(as_data.num_il_tl,ax=ax[1], kde=False)"
      ],
      "execution_count": 0,
      "outputs": [
        {
          "output_type": "execute_result",
          "data": {
            "text/plain": [
              "<matplotlib.axes._subplots.AxesSubplot at 0x7f223922fa90>"
            ]
          },
          "metadata": {
            "tags": []
          },
          "execution_count": 103
        },
        {
          "output_type": "display_data",
          "data": {
            "image/png": "[encoded data removed]",
            "text/plain": [
              "<Figure size 432x288 with 2 Axes>"
            ]
          },
          "metadata": {
            "tags": []
          }
        }
      ]
    },
    {
      "cell_type": "markdown",
      "metadata": {
        "id": "y78tf2DAKPNU",
        "colab_type": "text"
      },
      "source": [
        "The outliers above 45 will be removed"
      ]
    },
    {
      "cell_type": "code",
      "metadata": {
        "id": "FuEEtU8VJuFf",
        "colab_type": "code",
        "colab": {}
      },
      "source": [
        "as_data = as_data.loc[(as_data.num_il_tl <=45)]"
      ],
      "execution_count": 0,
      "outputs": []
    },
    {
      "cell_type": "markdown",
      "metadata": {
        "id": "-CAVlyvON-M1",
        "colab_type": "text"
      },
      "source": [
        "## num rev accnt"
      ]
    },
    {
      "cell_type": "code",
      "metadata": {
        "id": "qcYJ2YsAKaqA",
        "colab_type": "code",
        "outputId": "072dde97-0d8f-4a9f-8ebc-e676c84da6f4",
        "colab": {
          "base_uri": "https://localhost:8080/",
          "height": 297
        }
      },
      "source": [
        "fig, ax = plt.subplots(1,2)\n",
        "sns.boxplot(as_data.num_rev_accts, orient=\"v\", ax=ax[0])\n",
        "sns.distplot(as_data.num_rev_accts,ax=ax[1], kde=False)"
      ],
      "execution_count": 0,
      "outputs": [
        {
          "output_type": "execute_result",
          "data": {
            "text/plain": [
              "<matplotlib.axes._subplots.AxesSubplot at 0x7f22399b8940>"
            ]
          },
          "metadata": {
            "tags": []
          },
          "execution_count": 105
        },
        {
          "output_type": "display_data",
          "data": {
            "image/png": "[encoded data removed]",
            "text/plain": [
              "<Figure size 432x288 with 2 Axes>"
            ]
          },
          "metadata": {
            "tags": []
          }
        }
      ]
    },
    {
      "cell_type": "markdown",
      "metadata": {
        "id": "xcMmumEgPBLp",
        "colab_type": "text"
      },
      "source": [
        "Outliers above 50 will be removed"
      ]
    },
    {
      "cell_type": "code",
      "metadata": {
        "id": "aJtNyyCCOMHa",
        "colab_type": "code",
        "colab": {}
      },
      "source": [
        "as_data = as_data.loc[(as_data.num_rev_accts <=50)]"
      ],
      "execution_count": 0,
      "outputs": []
    },
    {
      "cell_type": "markdown",
      "metadata": {
        "id": "KNo3OhEgPFEv",
        "colab_type": "text"
      },
      "source": [
        "## Num tl 120dpd 2m"
      ]
    },
    {
      "cell_type": "code",
      "metadata": {
        "id": "SCuLWi_FPDdT",
        "colab_type": "code",
        "outputId": "e5da68f0-497b-4dc6-eb09-f48ba5d476b8",
        "colab": {
          "base_uri": "https://localhost:8080/",
          "height": 297
        }
      },
      "source": [
        "fig, ax = plt.subplots(1,2)\n",
        "sns.boxplot(as_data.num_tl_120dpd_2m, orient=\"v\", ax=ax[0])\n",
        "sns.distplot(as_data.num_tl_120dpd_2m,ax=ax[1], kde=False)"
      ],
      "execution_count": 0,
      "outputs": [
        {
          "output_type": "execute_result",
          "data": {
            "text/plain": [
              "<matplotlib.axes._subplots.AxesSubplot at 0x7f223a17e320>"
            ]
          },
          "metadata": {
            "tags": []
          },
          "execution_count": 106
        },
        {
          "output_type": "display_data",
          "data": {
            "image/png": "[encoded data removed]",
            "text/plain": [
              "<Figure size 432x288 with 2 Axes>"
            ]
          },
          "metadata": {
            "tags": []
          }
        }
      ]
    },
    {
      "cell_type": "markdown",
      "metadata": {
        "id": "6yUsXjFkQFwW",
        "colab_type": "text"
      },
      "source": [
        "this variable will not be significant to the model even if we make it binary, so we will remove it "
      ]
    },
    {
      "cell_type": "code",
      "metadata": {
        "id": "DYgTifE-QEjA",
        "colab_type": "code",
        "colab": {}
      },
      "source": [
        "as_data.drop([\"num_tl_120dpd_2m\"],inplace=True,  axis=1)"
      ],
      "execution_count": 0,
      "outputs": []
    },
    {
      "cell_type": "markdown",
      "metadata": {
        "id": "Z7vPnID8RvYd",
        "colab_type": "text"
      },
      "source": [
        "## Num tl 90g dpd 24m"
      ]
    },
    {
      "cell_type": "code",
      "metadata": {
        "id": "Bs5VISfrRup-",
        "colab_type": "code",
        "outputId": "bc970654-bd52-478f-f929-4c43085177e6",
        "colab": {
          "base_uri": "https://localhost:8080/",
          "height": 297
        }
      },
      "source": [
        "fig, ax = plt.subplots(1,2)\n",
        "sns.boxplot(as_data.num_tl_90g_dpd_24m, orient=\"v\", ax=ax[0])\n",
        "sns.distplot(as_data.num_tl_90g_dpd_24m, ax=ax[1], kde=True)"
      ],
      "execution_count": 0,
      "outputs": [
        {
          "output_type": "execute_result",
          "data": {
            "text/plain": [
              "<matplotlib.axes._subplots.AxesSubplot at 0x7f223a855550>"
            ]
          },
          "metadata": {
            "tags": []
          },
          "execution_count": 110
        },
        {
          "output_type": "display_data",
          "data": {
            "image/png": "[encoded data removed]",
            "text/plain": [
              "<Figure size 432x288 with 2 Axes>"
            ]
          },
          "metadata": {
            "tags": []
          }
        }
      ]
    },
    {
      "cell_type": "markdown",
      "metadata": {
        "id": "OJeA2DilS5ZE",
        "colab_type": "text"
      },
      "source": [
        "We will remove the outliers greater than 8 and convert this variable to binary. "
      ]
    },
    {
      "cell_type": "code",
      "metadata": {
        "id": "_dDQiDhRSCwt",
        "colab_type": "code",
        "colab": {}
      },
      "source": [
        "as_data = as_data.loc[(as_data.num_tl_90g_dpd_24m <8)]"
      ],
      "execution_count": 0,
      "outputs": []
    },
    {
      "cell_type": "code",
      "metadata": {
        "id": "wDgVuNPVSTQf",
        "colab_type": "code",
        "colab": {}
      },
      "source": [
        "ntd90 = np.array(as_data[(as_data.num_tl_90g_dpd_24m>0)].num_tl_90g_dpd_24m.index)\n",
        "as_data.loc[ntd90.transpose(), \"num_tl_90g_dpd_24m\"] = 1"
      ],
      "execution_count": 0,
      "outputs": []
    },
    {
      "cell_type": "markdown",
      "metadata": {
        "id": "ZVUFzBPbS--7",
        "colab_type": "text"
      },
      "source": [
        "## Percent of trades never delinquent"
      ]
    },
    {
      "cell_type": "code",
      "metadata": {
        "id": "aPemXObKS2o6",
        "colab_type": "code",
        "outputId": "fe21f33a-47cb-48e7-cf13-dbaa058268e7",
        "colab": {
          "base_uri": "https://localhost:8080/",
          "height": 301
        }
      },
      "source": [
        "fig, ax = plt.subplots(1,2)\n",
        "sns.boxplot(as_data.pct_tl_nvr_dlq, orient=\"v\", ax=ax[0])\n",
        "sns.distplot(as_data.pct_tl_nvr_dlq, ax=ax[1], kde=False)"
      ],
      "execution_count": 0,
      "outputs": [
        {
          "output_type": "execute_result",
          "data": {
            "text/plain": [
              "<matplotlib.axes._subplots.AxesSubplot at 0x7f223b034780>"
            ]
          },
          "metadata": {
            "tags": []
          },
          "execution_count": 112
        },
        {
          "output_type": "display_data",
          "data": {
            "image/png": "[encoded data removed]",
            "text/plain": [
              "<Figure size 432x288 with 2 Axes>"
            ]
          },
          "metadata": {
            "tags": []
          }
        }
      ]
    },
    {
      "cell_type": "markdown",
      "metadata": {
        "id": "mQMorM4KVeLR",
        "colab_type": "text"
      },
      "source": [
        "outliers less than 60 will be removed"
      ]
    },
    {
      "cell_type": "code",
      "metadata": {
        "id": "AL0icx2ITZO4",
        "colab_type": "code",
        "colab": {}
      },
      "source": [
        "as_data = as_data.loc[(as_data.pct_tl_nvr_dlq >=60)]"
      ],
      "execution_count": 0,
      "outputs": []
    },
    {
      "cell_type": "markdown",
      "metadata": {
        "id": "qiCdGufyVjoR",
        "colab_type": "text"
      },
      "source": [
        "##Percent bc gt 75\n",
        "this one is fine"
      ]
    },
    {
      "cell_type": "code",
      "metadata": {
        "id": "yKz_Js3KTqod",
        "colab_type": "code",
        "outputId": "458663cc-2bb3-4bc0-c3de-a336b86a5d8c",
        "colab": {
          "base_uri": "https://localhost:8080/",
          "height": 297
        }
      },
      "source": [
        "fig, ax = plt.subplots(1,2)\n",
        "sns.boxplot(as_data.percent_bc_gt_75, orient=\"v\", ax=ax[0])\n",
        "sns.distplot(as_data.percent_bc_gt_75, ax=ax[1], kde=False)"
      ],
      "execution_count": 0,
      "outputs": [
        {
          "output_type": "execute_result",
          "data": {
            "text/plain": [
              "<matplotlib.axes._subplots.AxesSubplot at 0x7f223b806c88>"
            ]
          },
          "metadata": {
            "tags": []
          },
          "execution_count": 113
        },
        {
          "output_type": "display_data",
          "data": {
            "image/png": "[encoded data removed]",
            "text/plain": [
              "<Figure size 432x288 with 2 Axes>"
            ]
          },
          "metadata": {
            "tags": []
          }
        }
      ]
    },
    {
      "cell_type": "markdown",
      "metadata": {
        "id": "O8IDArE_WL45",
        "colab_type": "text"
      },
      "source": [
        "## Pub rec bankuptcies"
      ]
    },
    {
      "cell_type": "code",
      "metadata": {
        "id": "0zO_QbQGVziA",
        "colab_type": "code",
        "outputId": "f724dc93-6180-494f-a43c-5c8b97181435",
        "colab": {
          "base_uri": "https://localhost:8080/",
          "height": 297
        }
      },
      "source": [
        "fig, ax = plt.subplots(1,2)\n",
        "sns.boxplot(as_data.pub_rec_bankruptcies, orient=\"v\", ax=ax[0])\n",
        "sns.distplot(as_data.pub_rec_bankruptcies, ax=ax[1], kde=False)"
      ],
      "execution_count": 0,
      "outputs": [
        {
          "output_type": "execute_result",
          "data": {
            "text/plain": [
              "<matplotlib.axes._subplots.AxesSubplot at 0x7f223bf89048>"
            ]
          },
          "metadata": {
            "tags": []
          },
          "execution_count": 115
        },
        {
          "output_type": "display_data",
          "data": {
            "image/png": "[encoded data removed]",
            "text/plain": [
              "<Figure size 432x288 with 2 Axes>"
            ]
          },
          "metadata": {
            "tags": []
          }
        }
      ]
    },
    {
      "cell_type": "markdown",
      "metadata": {
        "id": "L8QuZfe_lz-8",
        "colab_type": "text"
      },
      "source": [
        "This variable will be transdorm into a binary variable"
      ]
    },
    {
      "cell_type": "code",
      "metadata": {
        "id": "x06qnPTYWZxB",
        "colab_type": "code",
        "colab": {}
      },
      "source": [
        "pubrecbank = np.array(as_data[(as_data.pub_rec_bankruptcies>0)].pub_rec_bankruptcies.index)\n",
        "as_data.loc[pubrecbank.transpose(), \"pub_rec_bankruptcies\"] = 1"
      ],
      "execution_count": 0,
      "outputs": []
    },
    {
      "cell_type": "markdown",
      "metadata": {
        "id": "4el2GHLOXl1d",
        "colab_type": "text"
      },
      "source": [
        "## Tot hi cred limit"
      ]
    },
    {
      "cell_type": "code",
      "metadata": {
        "id": "spnyw_9AXjJR",
        "colab_type": "code",
        "outputId": "6c0d4c34-c33a-40e8-f28b-733e00fa1cf7",
        "colab": {
          "base_uri": "https://localhost:8080/",
          "height": 297
        }
      },
      "source": [
        "fig, ax = plt.subplots(1,2)\n",
        "sns.boxplot(as_data.tot_hi_cred_lim, orient=\"v\", ax=ax[0])\n",
        "sns.distplot(as_data.tot_hi_cred_lim, ax=ax[1], kde=False)"
      ],
      "execution_count": 0,
      "outputs": [
        {
          "output_type": "execute_result",
          "data": {
            "text/plain": [
              "<matplotlib.axes._subplots.AxesSubplot at 0x7f223c662470>"
            ]
          },
          "metadata": {
            "tags": []
          },
          "execution_count": 117
        },
        {
          "output_type": "display_data",
          "data": {
            "image/png": "[encoded data removed]",
            "text/plain": [
              "<Figure size 432x288 with 2 Axes>"
            ]
          },
          "metadata": {
            "tags": []
          }
        }
      ]
    },
    {
      "cell_type": "markdown",
      "metadata": {
        "id": "sQU1mjv5eFCl",
        "colab_type": "text"
      },
      "source": [
        "outliers greater than 1.2 million will be removed"
      ]
    },
    {
      "cell_type": "code",
      "metadata": {
        "id": "EpWd7aGiXyU6",
        "colab_type": "code",
        "colab": {}
      },
      "source": [
        "as_data = as_data.loc[(as_data.tot_hi_cred_lim <=1200000)]"
      ],
      "execution_count": 0,
      "outputs": []
    },
    {
      "cell_type": "markdown",
      "metadata": {
        "id": "xdFBmdgJYoez",
        "colab_type": "text"
      },
      "source": [
        "## Tot il hi cred limit"
      ]
    },
    {
      "cell_type": "code",
      "metadata": {
        "id": "fwHTSkOTYQy7",
        "colab_type": "code",
        "outputId": "475f9002-fac3-49cf-8661-e37d4fba9c0d",
        "colab": {
          "base_uri": "https://localhost:8080/",
          "height": 297
        }
      },
      "source": [
        "fig, ax = plt.subplots(1,2)\n",
        "sns.boxplot(as_data.total_il_high_credit_limit, orient=\"v\", ax=ax[0])\n",
        "sns.distplot(as_data.total_il_high_credit_limit, ax=ax[1], kde=False)"
      ],
      "execution_count": 0,
      "outputs": [
        {
          "output_type": "execute_result",
          "data": {
            "text/plain": [
              "<matplotlib.axes._subplots.AxesSubplot at 0x7f223cd8ba20>"
            ]
          },
          "metadata": {
            "tags": []
          },
          "execution_count": 119
        },
        {
          "output_type": "display_data",
          "data": {
            "image/png": "[encoded data removed]",
            "text/plain": [
              "<Figure size 432x288 with 2 Axes>"
            ]
          },
          "metadata": {
            "tags": []
          }
        }
      ]
    },
    {
      "cell_type": "markdown",
      "metadata": {
        "id": "K2XQySCKebat",
        "colab_type": "text"
      },
      "source": [
        "outliers greater than 300000 will be removed"
      ]
    },
    {
      "cell_type": "code",
      "metadata": {
        "id": "wiSCErhSYuaj",
        "colab_type": "code",
        "colab": {}
      },
      "source": [
        "as_data = as_data.loc[(as_data.total_il_high_credit_limit <=300000)]"
      ],
      "execution_count": 0,
      "outputs": []
    },
    {
      "cell_type": "markdown",
      "metadata": {
        "id": "rpQJpFwVqRqM",
        "colab_type": "text"
      },
      "source": [
        "Last Step of Data Preprocessing, I will group the states into regions, so they will be significant."
      ]
    },
    {
      "cell_type": "code",
      "metadata": {
        "id": "prkGT2n0qU1x",
        "colab_type": "code",
        "colab": {}
      },
      "source": [
        "reg_dic = {\"CT\":\"1\", \"ME\":\"1\", \"MA\":\"1\", \"NH\":\"1\", \"RI\":\"1\", \"VT\":\"1\",\n",
        "           \"NY\":\"2\", \"NJ\":\"2\", \"PA\":\"2\",\n",
        "           \"WI\":\"3\", \"MI\":\"3\", \"IL\":\"3\", \"IN\":\"3\", \"OH\":\"3\",\n",
        "           \"ND\":\"4\", \"MN\":\"4\", \"SD\":\"4\", \"NE\":\"4\", \"IA\":\"4\", \"KS\":\"4\", \"MO\":\"4\",\n",
        "           \"MD\":\"5\", \"DE\":\"5\", \"WV\":\"5\", \"DC\":\"5\", \"VA\":\"5\", \"NC\":\"5\", \"SC\":\"5\", \"GA\":\"5\", \"FL\":\"5\",\n",
        "           \"KY\":\"6\", \"TN\":\"6\", \"AL\":\"6\", \"MS\":\"6\", \n",
        "           \"AR\":\"7\", \"OK\":\"7\", \"LA\":\"7\", \"TX\":\"7\",\n",
        "           \"MT\":\"8\", \"ID\":\"8\", \"WY\":\"8\", \"NV\":\"8\", \"UT\":\"8\", \"CO\":\"8\", \"AZ\":\"8\", \"NM\":\"8\",\n",
        "           \"WA\":\"9\", \"OR\":\"9\", \"CA\":\"9\", \"AK\":\"9\", \"HI\":\"9\"\n",
        "           }"
      ],
      "execution_count": 0,
      "outputs": []
    },
    {
      "cell_type": "code",
      "metadata": {
        "id": "af5Y_AWvsin9",
        "colab_type": "code",
        "colab": {}
      },
      "source": [
        "as_data[\"addr_region\"] = as_data.addr_state.map(reg_dic) \n"
      ],
      "execution_count": 0,
      "outputs": []
    },
    {
      "cell_type": "code",
      "metadata": {
        "id": "xx9jqmiHtTR9",
        "colab_type": "code",
        "colab": {}
      },
      "source": [
        "as_data.drop([\"addr_state\"], axis=1, inplace=True)"
      ],
      "execution_count": 0,
      "outputs": []
    },
    {
      "cell_type": "markdown",
      "metadata": {
        "id": "nRwrDE9O1U7i",
        "colab_type": "text"
      },
      "source": [
        "Making homeownership significant"
      ]
    },
    {
      "cell_type": "code",
      "metadata": {
        "id": "q1DYbMvD4yVA",
        "colab_type": "code",
        "colab": {}
      },
      "source": [
        "# We will add any other and none to the rent category\n",
        "rent = np.array(as_data[(as_data.home_ownership == \"ANY\") | (as_data.home_ownership == \"OTHER\") | (as_data.home_ownership == \"NONE\")].home_ownership.index)\n",
        "as_data.loc[rent.transpose(), \"home_ownership\"] = \"RENT\""
      ],
      "execution_count": 0,
      "outputs": []
    },
    {
      "cell_type": "code",
      "metadata": {
        "id": "CKI8Hfl75FAA",
        "colab_type": "code",
        "outputId": "f9e8e950-1fa1-486c-9c46-7b920bddea0a",
        "colab": {
          "base_uri": "https://localhost:8080/",
          "height": 90
        }
      },
      "source": [
        "as_data.home_ownership.value_counts()"
      ],
      "execution_count": 0,
      "outputs": [
        {
          "output_type": "execute_result",
          "data": {
            "text/plain": [
              "MORTGAGE    947616\n",
              "RENT        773874\n",
              "OWN         215269\n",
              "Name: home_ownership, dtype: int64"
            ]
          },
          "metadata": {
            "tags": []
          },
          "execution_count": 89
        }
      ]
    },
    {
      "cell_type": "markdown",
      "metadata": {
        "id": "fWP4jo495siD",
        "colab_type": "text"
      },
      "source": [
        "Making the purpose columns significant"
      ]
    },
    {
      "cell_type": "markdown",
      "metadata": {
        "id": "3boN7vcR8C_W",
        "colab_type": "text"
      },
      "source": [
        "Medical, car, vacation, moving, house, wedding, education will be put in a category call living_leasure_expenses \n",
        "\n",
        "major_purchase, small_business and renewable_energy will be include in others"
      ]
    },
    {
      "cell_type": "code",
      "metadata": {
        "id": "DrLFNfSm8e3F",
        "colab_type": "code",
        "colab": {}
      },
      "source": [
        "purpose1 = np.array(as_data[(as_data.purpose == \"medical\") | (as_data.purpose == \"car\") | (as_data.purpose == \"vacation\") |\n",
        "                        (as_data.purpose == \"moving\") | (as_data.purpose == \"house\") | (as_data.purpose == \"wedding\") |\n",
        "                        (as_data.purpose == \"educational\")].purpose.index)\n",
        "as_data.loc[purpose1.transpose(), \"purpose\"] = \"liv_leisure_exp\" "
      ],
      "execution_count": 0,
      "outputs": []
    },
    {
      "cell_type": "code",
      "metadata": {
        "id": "c8eYqT1H9nrP",
        "colab_type": "code",
        "colab": {}
      },
      "source": [
        "purpose2 = np.array(as_data[(as_data.purpose == \"small_business\") | (as_data.purpose == \"renewable_energy\") | (as_data.purpose == \"major_purchase\")].purpose.index)\n",
        "as_data.loc[purpose2.transpose(), \"purpose\"] = \"other\""
      ],
      "execution_count": 0,
      "outputs": []
    },
    {
      "cell_type": "markdown",
      "metadata": {
        "id": "awROlE7QeiPp",
        "colab_type": "text"
      },
      "source": [
        "Checking the columns"
      ]
    },
    {
      "cell_type": "code",
      "metadata": {
        "id": "jvyoSeahY_RS",
        "colab_type": "code",
        "outputId": "620f7e3e-a075-4976-c6b8-bbbcd984f55d",
        "colab": {
          "base_uri": "https://localhost:8080/",
          "height": 35
        }
      },
      "source": [
        "len(as_data.columns)"
      ],
      "execution_count": 0,
      "outputs": [
        {
          "output_type": "execute_result",
          "data": {
            "text/plain": [
              "45"
            ]
          },
          "metadata": {
            "tags": []
          },
          "execution_count": 92
        }
      ]
    },
    {
      "cell_type": "code",
      "metadata": {
        "id": "PsjeS_jSep_b",
        "colab_type": "code",
        "outputId": "1be27f62-6bde-456e-9422-954e1e1448a3",
        "colab": {
          "base_uri": "https://localhost:8080/",
          "height": 35
        }
      },
      "source": [
        "len(as_data)"
      ],
      "execution_count": 0,
      "outputs": [
        {
          "output_type": "execute_result",
          "data": {
            "text/plain": [
              "1936759"
            ]
          },
          "metadata": {
            "tags": []
          },
          "execution_count": 93
        }
      ]
    },
    {
      "cell_type": "markdown",
      "metadata": {
        "id": "oQAM4asIYZpE",
        "colab_type": "text"
      },
      "source": [
        "Saving the variables"
      ]
    },
    {
      "cell_type": "code",
      "metadata": {
        "id": "x24AwBWymViZ",
        "colab_type": "code",
        "colab": {}
      },
      "source": [
        "from google.colab import files\n"
      ],
      "execution_count": 0,
      "outputs": []
    },
    {
      "cell_type": "code",
      "metadata": {
        "id": "rmbuv9agnGEc",
        "colab_type": "code",
        "colab": {}
      },
      "source": [
        "as_data.to_csv(\"as_data.csv\", index=False)"
      ],
      "execution_count": 0,
      "outputs": []
    }
  ]
}