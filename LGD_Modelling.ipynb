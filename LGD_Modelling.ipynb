{
  "nbformat": 4,
  "nbformat_minor": 0,
  "metadata": {
    "colab": {
      "name": "LGD Modelling.ipynb",
      "provenance": [],
      "collapsed_sections": [],
      "include_colab_link": true
    },
    "kernelspec": {
      "name": "python3",
      "display_name": "Python 3"
    }
  },
  "cells": [
    {
      "cell_type": "markdown",
      "metadata": {
        "id": "view-in-github",
        "colab_type": "text"
      },
      "source": [
        "<a href=\"https://colab.research.google.com/github/dborgesm/Banking-Analytics/blob/master/LGD_Modelling.ipynb\" target=\"_parent\"><img src=\"https://colab.research.google.com/assets/colab-badge.svg\" alt=\"Open In Colab\"/></a>"
      ]
    },
    {
      "cell_type": "markdown",
      "metadata": {
        "id": "PHZwHeuV_4k4",
        "colab_type": "text"
      },
      "source": [
        "# LGD Modelling"
      ]
    },
    {
      "cell_type": "code",
      "metadata": {
        "id": "xMlOhkBk_-0x",
        "colab_type": "code",
        "colab": {}
      },
      "source": [
        "#Installing packages\n",
        "import pandas as pd\n",
        "import numpy as np\n",
        "import seaborn as sns\n",
        "import matplotlib.pyplot as plt\n",
        "%matplotlib inline\n",
        "from sklearn.ensemble import RandomForestRegressor, GradientBoostingRegressor\n",
        "from sklearn.model_selection import train_test_split\n",
        "from sklearn.model_selection import cross_val_score\n"
      ],
      "execution_count": 0,
      "outputs": []
    },
    {
      "cell_type": "markdown",
      "metadata": {
        "id": "Xh70sQzaBXEZ",
        "colab_type": "text"
      },
      "source": [
        "Loading the data"
      ]
    },
    {
      "cell_type": "code",
      "metadata": {
        "id": "BdPn5p1g_Anh",
        "colab_type": "code",
        "outputId": "837e03ca-15f4-4fe8-bc1d-99dbda98d119",
        "colab": {
          "base_uri": "https://localhost:8080/",
          "height": 84
        }
      },
      "source": [
        "!gdown https://drive.google.com/uc?id=1w__RrmMJtfdwDH7cMjRpi9IE84po8L0d\n"
      ],
      "execution_count": 0,
      "outputs": [
        {
          "output_type": "stream",
          "text": [
            "Downloading...\n",
            "From: https://drive.google.com/uc?id=1w__RrmMJtfdwDH7cMjRpi9IE84po8L0d\n",
            "To: /content/lgd_data.csv\n",
            "60.5MB [00:00, 166MB/s] \n"
          ],
          "name": "stdout"
        }
      ]
    },
    {
      "cell_type": "code",
      "metadata": {
        "id": "B0CRYp7KBbIQ",
        "colab_type": "code",
        "colab": {}
      },
      "source": [
        "lgd_data = pd.read_csv('/content/lgd_data.csv')"
      ],
      "execution_count": 0,
      "outputs": []
    },
    {
      "cell_type": "code",
      "metadata": {
        "id": "F_n7CxVdBsH6",
        "colab_type": "code",
        "outputId": "744e6860-98cc-4229-e824-4f50a17d209e",
        "colab": {
          "base_uri": "https://localhost:8080/",
          "height": 403
        }
      },
      "source": [
        "!pip install scorecardpy"
      ],
      "execution_count": 0,
      "outputs": [
        {
          "output_type": "stream",
          "text": [
            "Collecting scorecardpy\n",
            "\u001b[?25l  Downloading https://files.pythonhosted.org/packages/b3/fd/be6c15335e537d2360f85823cbb0b1c02cdd2ed9ff52539db78545db7115/scorecardpy-0.1.9.1.1.tar.gz (55kB)\n",
            "\r\u001b[K     |██████                          | 10kB 21.6MB/s eta 0:00:01\r\u001b[K     |███████████▉                    | 20kB 6.5MB/s eta 0:00:01\r\u001b[K     |█████████████████▉              | 30kB 9.1MB/s eta 0:00:01\r\u001b[K     |███████████████████████▊        | 40kB 5.9MB/s eta 0:00:01\r\u001b[K     |█████████████████████████████▋  | 51kB 7.1MB/s eta 0:00:01\r\u001b[K     |████████████████████████████████| 61kB 4.5MB/s \n",
            "\u001b[?25hRequirement already satisfied: numpy in /usr/local/lib/python3.6/dist-packages (from scorecardpy) (1.17.4)\n",
            "Requirement already satisfied: pandas>=0.25.0 in /usr/local/lib/python3.6/dist-packages (from scorecardpy) (0.25.3)\n",
            "Requirement already satisfied: matplotlib in /usr/local/lib/python3.6/dist-packages (from scorecardpy) (3.1.1)\n",
            "Requirement already satisfied: scikit-learn>=0.19.1 in /usr/local/lib/python3.6/dist-packages (from scorecardpy) (0.21.3)\n",
            "Requirement already satisfied: python-dateutil>=2.6.1 in /usr/local/lib/python3.6/dist-packages (from pandas>=0.25.0->scorecardpy) (2.6.1)\n",
            "Requirement already satisfied: pytz>=2017.2 in /usr/local/lib/python3.6/dist-packages (from pandas>=0.25.0->scorecardpy) (2018.9)\n",
            "Requirement already satisfied: kiwisolver>=1.0.1 in /usr/local/lib/python3.6/dist-packages (from matplotlib->scorecardpy) (1.1.0)\n",
            "Requirement already satisfied: cycler>=0.10 in /usr/local/lib/python3.6/dist-packages (from matplotlib->scorecardpy) (0.10.0)\n",
            "Requirement already satisfied: pyparsing!=2.0.4,!=2.1.2,!=2.1.6,>=2.0.1 in /usr/local/lib/python3.6/dist-packages (from matplotlib->scorecardpy) (2.4.5)\n",
            "Requirement already satisfied: scipy>=0.17.0 in /usr/local/lib/python3.6/dist-packages (from scikit-learn>=0.19.1->scorecardpy) (1.3.2)\n",
            "Requirement already satisfied: joblib>=0.11 in /usr/local/lib/python3.6/dist-packages (from scikit-learn>=0.19.1->scorecardpy) (0.14.0)\n",
            "Requirement already satisfied: six>=1.5 in /usr/local/lib/python3.6/dist-packages (from python-dateutil>=2.6.1->pandas>=0.25.0->scorecardpy) (1.12.0)\n",
            "Requirement already satisfied: setuptools in /usr/local/lib/python3.6/dist-packages (from kiwisolver>=1.0.1->matplotlib->scorecardpy) (41.4.0)\n",
            "Building wheels for collected packages: scorecardpy\n",
            "  Building wheel for scorecardpy (setup.py) ... \u001b[?25l\u001b[?25hdone\n",
            "  Created wheel for scorecardpy: filename=scorecardpy-0.1.9.1.1-cp36-none-any.whl size=58169 sha256=4db86138fec87851d8c995dc04e93224d854221c5a0d66302b097dfa33aaa09d\n",
            "  Stored in directory: /root/.cache/pip/wheels/8f/4c/98/567ff70984acd88ffae211d8fc209e34b98fb43ff27f09fdd3\n",
            "Successfully built scorecardpy\n",
            "Installing collected packages: scorecardpy\n",
            "Successfully installed scorecardpy-0.1.9.1.1\n"
          ],
          "name": "stdout"
        }
      ]
    },
    {
      "cell_type": "code",
      "metadata": {
        "id": "Ll7JMVQeBvLZ",
        "colab_type": "code",
        "colab": {}
      },
      "source": [
        "import scorecardpy as sc"
      ],
      "execution_count": 0,
      "outputs": []
    },
    {
      "cell_type": "markdown",
      "metadata": {
        "id": "FTWLYQdvnSzo",
        "colab_type": "text"
      },
      "source": [
        "Converting some variables in categorical because LogisticRegressor does not accept string values\n"
      ]
    },
    {
      "cell_type": "code",
      "metadata": {
        "id": "RszIimB0VS_O",
        "colab_type": "code",
        "colab": {}
      },
      "source": [
        "lgd_data.term = lgd_data.term.astype(\"category\")"
      ],
      "execution_count": 0,
      "outputs": []
    },
    {
      "cell_type": "code",
      "metadata": {
        "id": "kj3YH04mYde2",
        "colab_type": "code",
        "colab": {}
      },
      "source": [
        "empl_dic = {\"< 1 year\":\"0\", \"1 year\":\"1\", \"2 years\":\"2\", \"3 years\":\"3\",\n",
        "            \"4 years\":\"4\", \"5 years\":\"5\", \"6 years\":\"6\", \"7 years\":\"7\",\n",
        "            \"8 years\":\"8\", \"9 years\":\"9\", \"10+ years\":\"10\" \n",
        "            }\n",
        "lgd_data[\"emp_length1\"] = lgd_data.emp_length.map(empl_dic)"
      ],
      "execution_count": 0,
      "outputs": []
    },
    {
      "cell_type": "code",
      "metadata": {
        "id": "UffwPAh0ZXQk",
        "colab_type": "code",
        "colab": {}
      },
      "source": [
        "lgd_data.emp_length1 =lgd_data.emp_length1.astype(\"category\")"
      ],
      "execution_count": 0,
      "outputs": []
    },
    {
      "cell_type": "code",
      "metadata": {
        "id": "pkTwENDKZJcu",
        "colab_type": "code",
        "colab": {}
      },
      "source": [
        "lgd_data.drop([\"emp_length\"], axis=1, inplace=True)"
      ],
      "execution_count": 0,
      "outputs": []
    },
    {
      "cell_type": "code",
      "metadata": {
        "id": "MFTFUcwVZs5K",
        "colab_type": "code",
        "colab": {}
      },
      "source": [
        "home_dic = {\"RENT\":\"1\", \"MORTGAGE\":\"2\", \"OWN\":\"3\"}\n",
        "lgd_data[\"home_status\"] = lgd_data.home_ownership.map(home_dic)\n",
        "lgd_data.home_status = lgd_data.home_status.astype(\"category\")\n",
        "lgd_data.drop([\"home_ownership\"], axis=1, inplace=True)"
      ],
      "execution_count": 0,
      "outputs": []
    },
    {
      "cell_type": "code",
      "metadata": {
        "colab_type": "code",
        "id": "td7O4lS9JX3E",
        "colab": {}
      },
      "source": [
        "pp_dic = {\"n\":\"0\", \"y\":\"1\"}\n",
        "lgd_data[\"pymnt_plan_cat\"] = lgd_data.pymnt_plan.map(pp_dic)\n",
        "lgd_data.pymnt_plan_cat = lgd_data.pymnt_plan_cat.astype(\"category\")\n",
        "lgd_data.drop([\"pymnt_plan\"], axis=1, inplace=True)"
      ],
      "execution_count": 0,
      "outputs": []
    },
    {
      "cell_type": "code",
      "metadata": {
        "id": "esYgedfYRSqP",
        "colab_type": "code",
        "colab": {}
      },
      "source": [
        "purp_dic = {\"debt_consolidation\":\"1\", \"credit_card\":\"2\", \"other\":\"3\", \"home_improvement\":\"4\", \"liv_leisure_exp\":\"5\"}\n",
        "lgd_data[\"purpose_cat\"] = lgd_data.purpose.map(purp_dic)\n",
        "lgd_data.purpose_cat = lgd_data.purpose_cat.astype(\"category\")\n",
        "lgd_data.drop([\"purpose\"], axis=1, inplace=True)"
      ],
      "execution_count": 0,
      "outputs": []
    },
    {
      "cell_type": "code",
      "metadata": {
        "id": "XdjB5Iqzc2Kc",
        "colab_type": "code",
        "colab": {}
      },
      "source": [
        "ds_dic = {\"N\":\"0\", \"Y\":\"1\"}\n",
        "lgd_data[\"debt_set_plan\"] = lgd_data.debt_settlement_flag.map(ds_dic)\n",
        "lgd_data.debt_set_plan = lgd_data.debt_set_plan.astype(\"category\")\n",
        "lgd_data.drop([\"debt_settlement_flag\"], axis=1, inplace=True)"
      ],
      "execution_count": 0,
      "outputs": []
    },
    {
      "cell_type": "code",
      "metadata": {
        "id": "OCizHbRedfn6",
        "colab_type": "code",
        "colab": {}
      },
      "source": [
        "il_dic = {\"w\":\"0\", \"f\":\"1\"}\n",
        "lgd_data[\"init_list_st\"] = lgd_data.initial_list_status.map(il_dic)\n",
        "lgd_data.init_list_st = lgd_data.init_list_st.astype(\"category\")\n",
        "lgd_data.drop([\"initial_list_status\"], axis=1, inplace=True)"
      ],
      "execution_count": 0,
      "outputs": []
    },
    {
      "cell_type": "markdown",
      "metadata": {
        "id": "ffw2uoMxCLyI",
        "colab_type": "text"
      },
      "source": [
        "## Random Forest Regressor\n"
      ]
    },
    {
      "cell_type": "code",
      "metadata": {
        "id": "gTGmvIiQ-Aav",
        "colab_type": "code",
        "colab": {}
      },
      "source": [
        "new_index = [\"lgd\",'term', 'annual_inc', 'zip_code', 'dti', 'delinq_2yrs',\n",
        "       'fico_range_high', 'inq_last_6mths', 'mths_since_last_delinq',\n",
        "       'pub_rec', 'revol_bal', 'total_acc', 'tot_coll_amt', 'tot_cur_bal',\n",
        "       'open_acc_6m', 'open_act_il', 'open_il_12m', 'mths_since_rcnt_il',\n",
        "       'il_util', 'open_rv_12m', 'inq_fi', \"max_bal_bc\", \"all_util\",\n",
        "       'total_cu_tl', 'inq_last_12m', 'bc_open_to_buy', 'mo_sin_old_il_acct',\n",
        "       'mo_sin_old_rev_tl_op', 'mo_sin_rcnt_rev_tl_op', 'mo_sin_rcnt_tl',\n",
        "       'mort_acc', 'mths_since_recent_bc', 'mths_since_recent_inq',\n",
        "       'num_accts_ever_120_pd', 'num_il_tl', 'num_tl_90g_dpd_24m',\n",
        "       'pct_tl_nvr_dlq', 'percent_bc_gt_75', 'pub_rec_bankruptcies',\n",
        "       'addr_region', 'emp_length1', 'home_status', 'purpose_cat',\n",
        "       'pymnt_plan_cat', \"debt_set_plan\"]\n",
        "len(new_index)\n",
        "lgd_data = lgd_data[new_index]\n"
      ],
      "execution_count": 0,
      "outputs": []
    },
    {
      "cell_type": "code",
      "metadata": {
        "id": "uBxD5f4APPsB",
        "colab_type": "code",
        "outputId": "f37853a0-5036-4906-94ad-340911ff673f",
        "colab": {
          "base_uri": "https://localhost:8080/",
          "height": 296
        }
      },
      "source": [
        "sns.distplot(lgd_data.lgd)"
      ],
      "execution_count": 0,
      "outputs": [
        {
          "output_type": "execute_result",
          "data": {
            "text/plain": [
              "<matplotlib.axes._subplots.AxesSubplot at 0x7f93cf95cb70>"
            ]
          },
          "metadata": {
            "tags": []
          },
          "execution_count": 16
        },
        {
          "output_type": "display_data",
          "data": {
            "image/png": "[encoded data removed]",
            "text/plain": [
              "<Figure size 432x288 with 1 Axes>"
            ]
          },
          "metadata": {
            "tags": []
          }
        }
      ]
    },
    {
      "cell_type": "code",
      "metadata": {
        "id": "vNpB0nA-ikCd",
        "colab_type": "code",
        "colab": {}
      },
      "source": [
        "# Same train-test split as before (because of seed!)\n",
        "lgd_train, lgd_test = sc.split_df(lgd_data, y = \"lgd\", ratio = 0.7, seed = 251082976).values()"
      ],
      "execution_count": 0,
      "outputs": []
    },
    {
      "cell_type": "code",
      "metadata": {
        "id": "ev86DGs-CHbz",
        "colab_type": "code",
        "colab": {}
      },
      "source": [
        "lgd_rf = RandomForestRegressor(n_estimators=1000, # Number of trees to train\n",
        "                       criterion='mse', # How to train the trees. Also supports entropy.\n",
        "                       max_depth=None, # Max depth of the trees. Not necessary to change. # Wee let it gro as big as it can\n",
        "                       min_samples_split=2, # Minimum samples to create a split.\n",
        "                       min_samples_leaf=0.001, # Minimum samples in a leaf. Accepts fractions for %. This is 0.1% of sample.\n",
        "                       min_weight_fraction_leaf=0.0, # Same as above, but uses the class weights.\n",
        "                       max_features=\"auto\", # Maximum number of features per split (not tree!) by default is sqrt(vars)\n",
        "                       max_leaf_nodes=None, # Maximum number of nodes.\n",
        "                       min_impurity_decrease=0.0001, # Minimum impurity decrease. This is 10^-3.\n",
        "                       bootstrap=False, # If sample with repetition. For large samples (>100.000) set to false.\n",
        "                       oob_score=False,  # If report accuracy with non-selected cases.\n",
        "                       n_jobs=-1, # Parallel processing. Set to -1 for all cores. Watch your RAM!!\n",
        "                       random_state=251082976, # Seed\n",
        "                       verbose=1, # If to give info during training. Set to 0 for silent training.\n",
        "                       warm_start=False, # If train over previously trained tree.\n",
        "                       )"
      ],
      "execution_count": 0,
      "outputs": []
    },
    {
      "cell_type": "code",
      "metadata": {
        "id": "OibiPKvDEv25",
        "colab_type": "code",
        "outputId": "8a3848b5-5f6d-49ad-97bf-36dd1d042f11",
        "colab": {
          "base_uri": "https://localhost:8080/",
          "height": 118
        }
      },
      "source": [
        "#Default model \n",
        "rf_model = lgd_rf.fit(lgd_train.iloc[:, 1:], lgd_train['lgd'])"
      ],
      "execution_count": 0,
      "outputs": [
        {
          "output_type": "stream",
          "text": [
            "[Parallel(n_jobs=-1)]: Using backend ThreadingBackend with 2 concurrent workers.\n",
            "[Parallel(n_jobs=-1)]: Done  46 tasks      | elapsed:   27.9s\n",
            "[Parallel(n_jobs=-1)]: Done 196 tasks      | elapsed:  2.0min\n",
            "[Parallel(n_jobs=-1)]: Done 446 tasks      | elapsed:  4.5min\n",
            "[Parallel(n_jobs=-1)]: Done 796 tasks      | elapsed:  8.0min\n",
            "[Parallel(n_jobs=-1)]: Done 1000 out of 1000 | elapsed: 10.0min finished\n"
          ],
          "name": "stderr"
        }
      ]
    },
    {
      "cell_type": "code",
      "metadata": {
        "id": "ew8nMnLTyfKT",
        "colab_type": "code",
        "colab": {}
      },
      "source": [
        "# Model 2, max_features = 10\n",
        "lgd_rf2 = RandomForestRegressor(n_estimators=1000, # Number of trees to train\n",
        "                       criterion='mse', # How to train the trees. Also supports entropy.\n",
        "                       max_depth=None, # Max depth of the trees. Not necessary to change. # Wee let it gro as big as it can\n",
        "                       min_samples_split=2, # Minimum samples to create a split.\n",
        "                       min_samples_leaf=0.001, # Minimum samples in a leaf. Accepts fractions for %. This is 0.1% of sample.\n",
        "                       min_weight_fraction_leaf=0.0, # Same as above, but uses the class weights.\n",
        "                       max_features=10, # Maximum number of features per split (not tree!) by default is sqrt(vars)\n",
        "                       max_leaf_nodes=None, # Maximum number of nodes.\n",
        "                       min_impurity_decrease=0.0001, # Minimum impurity decrease. This is 10^-3.\n",
        "                       bootstrap=False, # If sample with repetition. For large samples (>100.000) set to false.\n",
        "                       oob_score=False,  # If report accuracy with non-selected cases.\n",
        "                       n_jobs=-1, # Parallel processing. Set to -1 for all cores. Watch your RAM!!\n",
        "                       random_state=251082976, # Seed\n",
        "                       verbose=1, # If to give info during training. Set to 0 for silent training.\n",
        "                       warm_start=False, # If train over previously trained tree.\n",
        "                       )"
      ],
      "execution_count": 0,
      "outputs": []
    },
    {
      "cell_type": "code",
      "metadata": {
        "id": "HDoY59Wny2sE",
        "colab_type": "code",
        "outputId": "e9da8661-a017-4598-d353-12a342647a41",
        "colab": {
          "base_uri": "https://localhost:8080/",
          "height": 118
        }
      },
      "source": [
        "#Model 2\n",
        "rf_model2 = lgd_rf2.fit(lgd_train.iloc[:, 1:], lgd_train['lgd'])"
      ],
      "execution_count": 0,
      "outputs": [
        {
          "output_type": "stream",
          "text": [
            "[Parallel(n_jobs=-1)]: Using backend ThreadingBackend with 2 concurrent workers.\n",
            "[Parallel(n_jobs=-1)]: Done  46 tasks      | elapsed:    6.0s\n",
            "[Parallel(n_jobs=-1)]: Done 196 tasks      | elapsed:   25.4s\n",
            "[Parallel(n_jobs=-1)]: Done 446 tasks      | elapsed:   57.9s\n",
            "[Parallel(n_jobs=-1)]: Done 796 tasks      | elapsed:  1.7min\n",
            "[Parallel(n_jobs=-1)]: Done 1000 out of 1000 | elapsed:  2.1min finished\n"
          ],
          "name": "stderr"
        }
      ]
    },
    {
      "cell_type": "code",
      "metadata": {
        "id": "qY5iMy4AMZxP",
        "colab_type": "code",
        "outputId": "d85d4e6e-955c-4d53-ef68-d63b2c5a755c",
        "colab": {
          "base_uri": "https://localhost:8080/",
          "height": 382
        }
      },
      "source": [
        "sns.distplot(rf_model2.predict(lgd_test.iloc[:,1:]), kde=False)"
      ],
      "execution_count": 0,
      "outputs": [
        {
          "output_type": "stream",
          "text": [
            "[Parallel(n_jobs=2)]: Using backend ThreadingBackend with 2 concurrent workers.\n",
            "[Parallel(n_jobs=2)]: Done  46 tasks      | elapsed:    0.0s\n",
            "[Parallel(n_jobs=2)]: Done 196 tasks      | elapsed:    0.1s\n",
            "[Parallel(n_jobs=2)]: Done 446 tasks      | elapsed:    0.2s\n",
            "[Parallel(n_jobs=2)]: Done 796 tasks      | elapsed:    0.3s\n",
            "[Parallel(n_jobs=2)]: Done 1000 out of 1000 | elapsed:    0.4s finished\n"
          ],
          "name": "stderr"
        },
        {
          "output_type": "execute_result",
          "data": {
            "text/plain": [
              "<matplotlib.axes._subplots.AxesSubplot at 0x7f93ce3be940>"
            ]
          },
          "metadata": {
            "tags": []
          },
          "execution_count": 20
        },
        {
          "output_type": "display_data",
          "data": {
            "image/png": "[encoded data removed]",
            "text/plain": [
              "<Figure size 432x288 with 1 Axes>"
            ]
          },
          "metadata": {
            "tags": []
          }
        }
      ]
    },
    {
      "cell_type": "code",
      "metadata": {
        "id": "aUnE5juN2L6L",
        "colab_type": "code",
        "colab": {}
      },
      "source": [
        "# Model 3, max_features = 15\n",
        "lgd_rf3 = RandomForestRegressor(n_estimators=1000, # Number of trees to train\n",
        "                       criterion='mse', # How to train the trees. Also supports entropy.\n",
        "                       max_depth=None, # Max depth of the trees. Not necessary to change. # Wee let it gro as big as it can\n",
        "                       min_samples_split=2, # Minimum samples to create a split.\n",
        "                       min_samples_leaf=0.001, # Minimum samples in a leaf. Accepts fractions for %. This is 0.1% of sample.\n",
        "                       min_weight_fraction_leaf=0.0, # Same as above, but uses the class weights.\n",
        "                       max_features=15, # Maximum number of features per split (not tree!) by default is sqrt(vars)\n",
        "                       max_leaf_nodes=None, # Maximum number of nodes.\n",
        "                       min_impurity_decrease=0.0001, # Minimum impurity decrease. This is 10^-3.\n",
        "                       bootstrap=False, # If sample with repetition. For large samples (>100.000) set to false.\n",
        "                       oob_score=False,  # If report accuracy with non-selected cases.\n",
        "                       n_jobs=-1, # Parallel processing. Set to -1 for all cores. Watch your RAM!!\n",
        "                       random_state=251082976, # Seed\n",
        "                       verbose=1, # If to give info during training. Set to 0 for silent training.\n",
        "                       warm_start=False, # If train over previously trained tree.\n",
        "                       )"
      ],
      "execution_count": 0,
      "outputs": []
    },
    {
      "cell_type": "code",
      "metadata": {
        "id": "ted5xRmP2XNM",
        "colab_type": "code",
        "outputId": "8d05024d-51d3-4834-f01a-7895fd586ee3",
        "colab": {
          "base_uri": "https://localhost:8080/",
          "height": 118
        }
      },
      "source": [
        "#Model 3\n",
        "rf_model3 = lgd_rf3.fit(lgd_train.iloc[:, 1:], lgd_train['lgd'])"
      ],
      "execution_count": 0,
      "outputs": [
        {
          "output_type": "stream",
          "text": [
            "[Parallel(n_jobs=-1)]: Using backend ThreadingBackend with 2 concurrent workers.\n",
            "[Parallel(n_jobs=-1)]: Done  46 tasks      | elapsed:    9.8s\n",
            "[Parallel(n_jobs=-1)]: Done 196 tasks      | elapsed:   42.1s\n",
            "[Parallel(n_jobs=-1)]: Done 446 tasks      | elapsed:  1.6min\n",
            "[Parallel(n_jobs=-1)]: Done 796 tasks      | elapsed:  2.9min\n",
            "[Parallel(n_jobs=-1)]: Done 1000 out of 1000 | elapsed:  3.6min finished\n"
          ],
          "name": "stderr"
        }
      ]
    },
    {
      "cell_type": "code",
      "metadata": {
        "id": "C0OBNHp84CAf",
        "colab_type": "code",
        "outputId": "c950cac3-3752-4dd2-e75f-1d31bf00b078",
        "colab": {
          "base_uri": "https://localhost:8080/",
          "height": 382
        }
      },
      "source": [
        "sns.distplot(rf_model3.predict(lgd_test.iloc[:,1:]), kde=False)"
      ],
      "execution_count": 0,
      "outputs": [
        {
          "output_type": "stream",
          "text": [
            "[Parallel(n_jobs=2)]: Using backend ThreadingBackend with 2 concurrent workers.\n",
            "[Parallel(n_jobs=2)]: Done  46 tasks      | elapsed:    0.0s\n",
            "[Parallel(n_jobs=2)]: Done 196 tasks      | elapsed:    0.1s\n",
            "[Parallel(n_jobs=2)]: Done 446 tasks      | elapsed:    0.1s\n",
            "[Parallel(n_jobs=2)]: Done 796 tasks      | elapsed:    0.3s\n",
            "[Parallel(n_jobs=2)]: Done 1000 out of 1000 | elapsed:    0.3s finished\n"
          ],
          "name": "stderr"
        },
        {
          "output_type": "execute_result",
          "data": {
            "text/plain": [
              "<matplotlib.axes._subplots.AxesSubplot at 0x7f926d9e0dd8>"
            ]
          },
          "metadata": {
            "tags": []
          },
          "execution_count": 50
        },
        {
          "output_type": "display_data",
          "data": {
            "image/png": "[encoded data removed]",
            "text/plain": [
              "<Figure size 432x288 with 1 Axes>"
            ]
          },
          "metadata": {
            "tags": []
          }
        }
      ]
    },
    {
      "cell_type": "code",
      "metadata": {
        "id": "DFAZRi1M4mry",
        "colab_type": "code",
        "colab": {}
      },
      "source": [
        "# Model 4 max_features = 5\n",
        "lgd_rf4 = RandomForestRegressor(n_estimators=1000, # Number of trees to train\n",
        "                       criterion='mse', # How to train the trees. Also supports entropy.\n",
        "                       max_depth=None, # Max depth of the trees. Not necessary to change. # Wee let it gro as big as it can\n",
        "                       min_samples_split=2, # Minimum samples to create a split.\n",
        "                       min_samples_leaf=0.001, # Minimum samples in a leaf. Accepts fractions for %. This is 0.1% of sample.\n",
        "                       min_weight_fraction_leaf=0.0, # Same as above, but uses the class weights.\n",
        "                       max_features=5, # Maximum number of features per split (not tree!) by default is sqrt(vars)\n",
        "                       max_leaf_nodes=None, # Maximum number of nodes.\n",
        "                       min_impurity_decrease=0.0001, # Minimum impurity decrease. This is 10^-3.\n",
        "                       bootstrap=False, # If sample with repetition. For large samples (>100.000) set to false.\n",
        "                       oob_score=False,  # If report accuracy with non-selected cases.\n",
        "                       n_jobs=-1, # Parallel processing. Set to -1 for all cores. Watch your RAM!!\n",
        "                       random_state=251082976, # Seed\n",
        "                       verbose=1, # If to give info during training. Set to 0 for silent training.\n",
        "                       warm_start=False, # If train over previously trained tree.\n",
        "                       )"
      ],
      "execution_count": 0,
      "outputs": []
    },
    {
      "cell_type": "code",
      "metadata": {
        "id": "mnJQZQxH4sjS",
        "colab_type": "code",
        "outputId": "a2b09db7-25b8-417c-c657-6d80adfab401",
        "colab": {
          "base_uri": "https://localhost:8080/",
          "height": 118
        }
      },
      "source": [
        "#Model 4\n",
        "rf_model4 = lgd_rf4.fit(lgd_train.iloc[:, 1:], lgd_train['lgd'])"
      ],
      "execution_count": 0,
      "outputs": [
        {
          "output_type": "stream",
          "text": [
            "[Parallel(n_jobs=-1)]: Using backend ThreadingBackend with 2 concurrent workers.\n",
            "[Parallel(n_jobs=-1)]: Done  46 tasks      | elapsed:    2.5s\n",
            "[Parallel(n_jobs=-1)]: Done 196 tasks      | elapsed:   11.3s\n",
            "[Parallel(n_jobs=-1)]: Done 446 tasks      | elapsed:   26.0s\n",
            "[Parallel(n_jobs=-1)]: Done 796 tasks      | elapsed:   45.7s\n",
            "[Parallel(n_jobs=-1)]: Done 1000 out of 1000 | elapsed:   57.5s finished\n"
          ],
          "name": "stderr"
        }
      ]
    },
    {
      "cell_type": "code",
      "metadata": {
        "id": "crddatJU6mT2",
        "colab_type": "code",
        "outputId": "6ddd9a05-516e-4439-c133-eddc395f1d4b",
        "colab": {
          "base_uri": "https://localhost:8080/",
          "height": 382
        }
      },
      "source": [
        "sns.distplot(rf_model4.predict(lgd_test.iloc[:,1:]), kde=False)"
      ],
      "execution_count": 0,
      "outputs": [
        {
          "output_type": "stream",
          "text": [
            "[Parallel(n_jobs=2)]: Using backend ThreadingBackend with 2 concurrent workers.\n",
            "[Parallel(n_jobs=2)]: Done  46 tasks      | elapsed:    0.0s\n",
            "[Parallel(n_jobs=2)]: Done 196 tasks      | elapsed:    0.1s\n",
            "[Parallel(n_jobs=2)]: Done 446 tasks      | elapsed:    0.1s\n",
            "[Parallel(n_jobs=2)]: Done 796 tasks      | elapsed:    0.2s\n",
            "[Parallel(n_jobs=2)]: Done 1000 out of 1000 | elapsed:    0.3s finished\n"
          ],
          "name": "stderr"
        },
        {
          "output_type": "execute_result",
          "data": {
            "text/plain": [
              "<matplotlib.axes._subplots.AxesSubplot at 0x7f7ebc49d2b0>"
            ]
          },
          "metadata": {
            "tags": []
          },
          "execution_count": 61
        },
        {
          "output_type": "display_data",
          "data": {
            "image/png": "[encoded data removed]",
            "text/plain": [
              "<Figure size 432x288 with 1 Axes>"
            ]
          },
          "metadata": {
            "tags": []
          }
        }
      ]
    },
    {
      "cell_type": "code",
      "metadata": {
        "id": "eUN2OQcwr5E5",
        "colab_type": "code",
        "colab": {}
      },
      "source": [
        "import pickle"
      ],
      "execution_count": 0,
      "outputs": []
    },
    {
      "cell_type": "code",
      "metadata": {
        "id": "BkjZBfPku4ZF",
        "colab_type": "code",
        "colab": {}
      },
      "source": [
        "# save the model to disk\n",
        "filename = 'finalized_model.sav'\n",
        "pickle.dump(rf_model, open(filename, 'wb'))\n",
        " \n",
        "# some time later..."
      ],
      "execution_count": 0,
      "outputs": []
    },
    {
      "cell_type": "code",
      "metadata": {
        "id": "odRRSHWru-hX",
        "colab_type": "code",
        "colab": {}
      },
      "source": [
        "# load the model from disk\n",
        "filename = 'finalized_model.sav'\n",
        "loaded_model = pickle.load(open(filename, 'rb'))\n"
      ],
      "execution_count": 0,
      "outputs": []
    },
    {
      "cell_type": "code",
      "metadata": {
        "id": "-tuAz-AsgYeC",
        "colab_type": "code",
        "colab": {}
      },
      "source": [
        "from sklearn.metrics import mean_squared_error, mean_absolute_error, make_scorer"
      ],
      "execution_count": 0,
      "outputs": []
    },
    {
      "cell_type": "code",
      "metadata": {
        "id": "hGgfzqpQcgoi",
        "colab_type": "code",
        "outputId": "b29a14b6-58cf-4492-e0fc-098a599a747e",
        "colab": {
          "base_uri": "https://localhost:8080/",
          "height": 370
        }
      },
      "source": [
        "#print('Mean Squared Error Testing Model 1:', mean_squared_error(lgd_test.lgd, rf_model.predict(lgd_test.iloc[:,1:])))\n",
        "print('Mean Squared Error Testing Model 2:', mean_squared_error(lgd_test.lgd, rf_model2.predict(lgd_test.iloc[:,1:])))\n",
        "print('Mean Squared Error Testing Model 3:', mean_squared_error(lgd_test.lgd, rf_model3.predict(lgd_test.iloc[:,1:])))\n",
        "print('Mean Squared Error Testing Model 4:', mean_squared_error(lgd_test.lgd, rf_model4.predict(lgd_test.iloc[:,1:])))"
      ],
      "execution_count": 0,
      "outputs": [
        {
          "output_type": "stream",
          "text": [
            "[Parallel(n_jobs=2)]: Using backend ThreadingBackend with 2 concurrent workers.\n",
            "[Parallel(n_jobs=2)]: Done  46 tasks      | elapsed:    0.0s\n",
            "[Parallel(n_jobs=2)]: Done 196 tasks      | elapsed:    0.1s\n",
            "[Parallel(n_jobs=2)]: Done 446 tasks      | elapsed:    0.1s\n",
            "[Parallel(n_jobs=2)]: Done 796 tasks      | elapsed:    0.3s\n",
            "[Parallel(n_jobs=2)]: Done 1000 out of 1000 | elapsed:    0.3s finished\n"
          ],
          "name": "stderr"
        },
        {
          "output_type": "stream",
          "text": [
            "Mean Squared Error Testing Model 2: 0.009850609150595779\n"
          ],
          "name": "stdout"
        },
        {
          "output_type": "stream",
          "text": [
            "[Parallel(n_jobs=2)]: Using backend ThreadingBackend with 2 concurrent workers.\n",
            "[Parallel(n_jobs=2)]: Done  46 tasks      | elapsed:    0.0s\n",
            "[Parallel(n_jobs=2)]: Done 196 tasks      | elapsed:    0.1s\n",
            "[Parallel(n_jobs=2)]: Done 446 tasks      | elapsed:    0.2s\n",
            "[Parallel(n_jobs=2)]: Done 796 tasks      | elapsed:    0.3s\n",
            "[Parallel(n_jobs=2)]: Done 1000 out of 1000 | elapsed:    0.3s finished\n",
            "[Parallel(n_jobs=2)]: Using backend ThreadingBackend with 2 concurrent workers.\n"
          ],
          "name": "stderr"
        },
        {
          "output_type": "stream",
          "text": [
            "Mean Squared Error Testing Model 3: 0.009490086168569337\n"
          ],
          "name": "stdout"
        },
        {
          "output_type": "stream",
          "text": [
            "[Parallel(n_jobs=2)]: Done  46 tasks      | elapsed:    0.0s\n",
            "[Parallel(n_jobs=2)]: Done 196 tasks      | elapsed:    0.1s\n",
            "[Parallel(n_jobs=2)]: Done 446 tasks      | elapsed:    0.1s\n"
          ],
          "name": "stderr"
        },
        {
          "output_type": "stream",
          "text": [
            "Mean Squared Error Testing Model 4: 0.010411853094687243\n"
          ],
          "name": "stdout"
        },
        {
          "output_type": "stream",
          "text": [
            "[Parallel(n_jobs=2)]: Done 796 tasks      | elapsed:    0.3s\n",
            "[Parallel(n_jobs=2)]: Done 1000 out of 1000 | elapsed:    0.3s finished\n"
          ],
          "name": "stderr"
        }
      ]
    },
    {
      "cell_type": "code",
      "metadata": {
        "id": "9hYddbB56eqI",
        "colab_type": "code",
        "colab": {}
      },
      "source": [
        "# Finding the best parameters\n",
        "from sklearn.model_selection import GridSearchCV\n",
        "from sklearn.preprocessing import StandardScaler\n",
        "from sklearn.pipeline import Pipeline\n",
        "from sklearn.model_selection import cross_val_score"
      ],
      "execution_count": 0,
      "outputs": []
    },
    {
      "cell_type": "code",
      "metadata": {
        "id": "1kEqhZOVMY7B",
        "colab_type": "code",
        "colab": {}
      },
      "source": [
        "rf_model = Pipeline([\n",
        "    ('Normalizer', StandardScaler()),\n",
        "    ('rf', RandomForestRegressor(n_estimators=1000, # Number of trees to train\n",
        "                       criterion='mse', # How to train the trees. Also supports entropy.\n",
        "                       max_depth=None, # Max depth of the trees. Not necessary to change. # Wee let it gro as big as it can\n",
        "                       min_samples_split=2, # Minimum samples to create a split.\n",
        "                       min_samples_leaf=0.001, # Minimum samples in a leaf. Accepts fractions for %. This is 0.1% of sample.\n",
        "                       min_weight_fraction_leaf=0.0, # Same as above, but uses the class weights.\n",
        "                       max_features='auto', # Maximum number of features per split (not tree!) by default is sqrt(vars)\n",
        "                       max_leaf_nodes=None, # Maximum number of nodes.\n",
        "                       min_impurity_decrease=0.0001, # Minimum impurity decrease. This is 10^-3.\n",
        "                       bootstrap=False, # If sample with repetition. For large samples (>100.000) set to false.\n",
        "                       oob_score=False,  # If report accuracy with non-selected cases.\n",
        "                       n_jobs=-1, # Parallel processing. Set to -1 for all cores. Watch your RAM!!\n",
        "                       random_state=251082976, # Seed\n",
        "                       verbose=1, # If to give info during training. Set to 0 for silent training.\n",
        "                       warm_start=False, # If train over previously trained tree.\n",
        "                       ))   \n",
        "])\n"
      ],
      "execution_count": 0,
      "outputs": []
    },
    {
      "cell_type": "code",
      "metadata": {
        "id": "b4WvYOlK6u8L",
        "colab_type": "code",
        "colab": {}
      },
      "source": [
        "param_grid = dict(\n",
        "                  rf__max_features=[5,10,15])\n",
        "\n",
        "grid = GridSearchCV(rf_model, param_grid, cv=5,\n",
        "                    scoring=make_scorer(mean_absolute_error), n_jobs=-1)"
      ],
      "execution_count": 0,
      "outputs": []
    },
    {
      "cell_type": "code",
      "metadata": {
        "id": "-QRYt5OeQRAO",
        "colab_type": "code",
        "colab": {}
      },
      "source": [
        "cv_grid = cross_val_score(grid, lgd_train.iloc[:,1:], lgd_train.lgd, \n",
        "                            cv = 5, n_jobs=-1)"
      ],
      "execution_count": 0,
      "outputs": []
    },
    {
      "cell_type": "markdown",
      "metadata": {
        "id": "FO93-LLZ1Fb0",
        "colab_type": "text"
      },
      "source": [
        "Looking at the performance using cross validation"
      ]
    },
    {
      "cell_type": "code",
      "metadata": {
        "id": "TFGqlmbhnsMh",
        "colab_type": "code",
        "colab": {}
      },
      "source": [
        "cv_rf = cross_val_score(lgd_rf, lgd_train.iloc[:,1:], lgd_train.lgd, \n",
        "                            cv = 5, n_jobs=-1)"
      ],
      "execution_count": 0,
      "outputs": []
    },
    {
      "cell_type": "code",
      "metadata": {
        "id": "3NxEkjmmyoCZ",
        "colab_type": "code",
        "outputId": "400675f1-17f6-48e9-c480-3992d44dfb1f",
        "colab": {
          "base_uri": "https://localhost:8080/",
          "height": 34
        }
      },
      "source": [
        "cv_rf.mean()"
      ],
      "execution_count": 0,
      "outputs": [
        {
          "output_type": "execute_result",
          "data": {
            "text/plain": [
              "0.18181119472819568"
            ]
          },
          "metadata": {
            "tags": []
          },
          "execution_count": 73
        }
      ]
    },
    {
      "cell_type": "code",
      "metadata": {
        "id": "NJ0LAmqfTHdb",
        "colab_type": "code",
        "colab": {}
      },
      "source": [
        "# CV using the second model \n",
        "cv_rf2 = cross_val_score(lgd_rf2, lgd_train.iloc[:,1:], lgd_train.lgd, \n",
        "                            cv = 5, n_jobs=-1)"
      ],
      "execution_count": 0,
      "outputs": []
    },
    {
      "cell_type": "code",
      "metadata": {
        "id": "KCimzmpWVtxY",
        "colab_type": "code",
        "outputId": "4275ab24-d5de-4060-8900-c70c1195d061",
        "colab": {
          "base_uri": "https://localhost:8080/",
          "height": 34
        }
      },
      "source": [
        "cv_rf2.mean()"
      ],
      "execution_count": 0,
      "outputs": [
        {
          "output_type": "execute_result",
          "data": {
            "text/plain": [
              "0.11679207492708717"
            ]
          },
          "metadata": {
            "tags": []
          },
          "execution_count": 65
        }
      ]
    },
    {
      "cell_type": "code",
      "metadata": {
        "id": "f5xEfGQHgIGx",
        "colab_type": "code",
        "colab": {}
      },
      "source": [
        "cv_rf3 = cross_val_score(lgd_rf3, lgd_train.iloc[:,1:], lgd_train.lgd, \n",
        "                            cv = 5, n_jobs=-1)"
      ],
      "execution_count": 0,
      "outputs": []
    },
    {
      "cell_type": "code",
      "metadata": {
        "id": "YYOSCxuVgK1j",
        "colab_type": "code",
        "outputId": "bfc9ce27-ecbf-49f3-e987-e0e2265f1617",
        "colab": {
          "base_uri": "https://localhost:8080/",
          "height": 34
        }
      },
      "source": [
        "cv_rf3.mean()"
      ],
      "execution_count": 0,
      "outputs": [
        {
          "output_type": "execute_result",
          "data": {
            "text/plain": [
              "0.14872665600091067"
            ]
          },
          "metadata": {
            "tags": []
          },
          "execution_count": 68
        }
      ]
    },
    {
      "cell_type": "code",
      "metadata": {
        "id": "1AumoGA5mlGl",
        "colab_type": "code",
        "colab": {}
      },
      "source": [
        "cv_rf4 = cross_val_score(lgd_rf4, lgd_train.iloc[:,1:], lgd_train.lgd, \n",
        "                            cv = 5, n_jobs=-1)"
      ],
      "execution_count": 0,
      "outputs": []
    },
    {
      "cell_type": "code",
      "metadata": {
        "id": "cXndnvMqnm3w",
        "colab_type": "code",
        "outputId": "845fd670-e4a1-4204-e9a6-daf9a3f6c959",
        "colab": {
          "base_uri": "https://localhost:8080/",
          "height": 34
        }
      },
      "source": [
        "cv_rf4.mean()"
      ],
      "execution_count": 0,
      "outputs": [
        {
          "output_type": "execute_result",
          "data": {
            "text/plain": [
              "0.06264121672227371"
            ]
          },
          "metadata": {
            "tags": []
          },
          "execution_count": 71
        }
      ]
    },
    {
      "cell_type": "markdown",
      "metadata": {
        "id": "925wGcJc0rKA",
        "colab_type": "text"
      },
      "source": [
        "The chosen model for RF will be model 2. \n"
      ]
    },
    {
      "cell_type": "code",
      "metadata": {
        "id": "CuKj8nO2J7wm",
        "colab_type": "code",
        "outputId": "8abae0de-dcd2-4add-ec14-31eb5241d906",
        "colab": {
          "base_uri": "https://localhost:8080/",
          "height": 118
        }
      },
      "source": [
        "rf_pred_regress = lgd_rf2.predict(lgd_test.iloc[:,1:])"
      ],
      "execution_count": 0,
      "outputs": [
        {
          "output_type": "stream",
          "text": [
            "[Parallel(n_jobs=2)]: Using backend ThreadingBackend with 2 concurrent workers.\n",
            "[Parallel(n_jobs=2)]: Done  46 tasks      | elapsed:    0.0s\n",
            "[Parallel(n_jobs=2)]: Done 196 tasks      | elapsed:    0.1s\n",
            "[Parallel(n_jobs=2)]: Done 446 tasks      | elapsed:    0.1s\n",
            "[Parallel(n_jobs=2)]: Done 796 tasks      | elapsed:    0.3s\n",
            "[Parallel(n_jobs=2)]: Done 1000 out of 1000 | elapsed:    0.3s finished\n"
          ],
          "name": "stderr"
        }
      ]
    },
    {
      "cell_type": "code",
      "metadata": {
        "id": "40cusudQ4Tun",
        "colab_type": "code",
        "outputId": "94ae740b-016f-41bc-df9b-6bd9162fdf76",
        "colab": {
          "base_uri": "https://localhost:8080/",
          "height": 1000
        }
      },
      "source": [
        "plt.figure(dpi=120, figsize=(8,10))\n",
        "plt.barh(lgd_train.columns[1:], lgd_rf2.feature_importances_,\n",
        "        align='center', alpha=0.5)\n",
        "plt.yticks(lgd_train.columns[1:])\n",
        "plt.xlabel('Importance')\n",
        "plt.title('RandomForest Variable Importance')\n",
        "plt.show()"
      ],
      "execution_count": 0,
      "outputs": [
        {
          "output_type": "display_data",
          "data": {
            "image/png": "[encoded data removed]",
            "text/plain": [
              "<Figure size 960x1200 with 1 Axes>"
            ]
          },
          "metadata": {
            "tags": []
          }
        }
      ]
    },
    {
      "cell_type": "markdown",
      "metadata": {
        "id": "11EwJlAj04M_",
        "colab_type": "text"
      },
      "source": [
        "## XGBoosting"
      ]
    },
    {
      "cell_type": "code",
      "metadata": {
        "id": "1z3-kj3m62iP",
        "colab_type": "code",
        "colab": {}
      },
      "source": [
        "lgd_xgb = GradientBoostingRegressor(loss='ls', # How to calculate losses. Deviance is for probabilistic outputs. Alternative exponential for AdaBoost. \n",
        "                           learning_rate=0.1, # How much to shrink error in each subsequent training. Trade-off with no. estimators.\n",
        "                           n_estimators=1000, # How many trees to use, the more the better, but decrease learning rate if many used.\n",
        "                           subsample=0.632, # Subsampling to use. 63.2% of data is standard for XGBoost.\n",
        "                           criterion='friedman_mse', # Error to use for each split. Good idea to leave it as is.\n",
        "                           min_samples_split=2, # Minimum samples for a split.\n",
        "                           min_samples_leaf=75, # Minimum samples in a leaf.\n",
        "                           min_weight_fraction_leaf=0.0, # Minimum fraction of samples in a leaf. Consider increasing if first few trees too good.\n",
        "                           max_depth=3, # Maximum depth. Keep it small!\n",
        "                           min_impurity_decrease=0.01, # Minimum impurity decrease. Might want to use 1% or so.\n",
        "                           init=None, # How to make first prediction (it needs one). Can give model that supports fit and predict.\n",
        "                           random_state=251082976, # Seed\n",
        "                           max_features='auto', # Same as RF. \n",
        "                           verbose=1,  # Same as RF.\n",
        "                           max_leaf_nodes=None,  # Same as RF.\n",
        "                           warm_start=False,  # Same as RF.\n",
        "                           presort='auto', # Whether to presort the data to speed up training.\n",
        "                           validation_fraction=0.3, # XGBoost CAN overfit, so control this just in case. Uses 30% validation in this case.\n",
        "                           n_iter_no_change=None, # Iters to stop training if no change occurs between one tree and the next.\n",
        "                           tol=0.0001 # Tolerance. Means maximum change of 10^-4\n",
        "                          )"
      ],
      "execution_count": 0,
      "outputs": []
    },
    {
      "cell_type": "code",
      "metadata": {
        "id": "L55IWgTbCbpd",
        "colab_type": "code",
        "outputId": "d3ccbd09-1c8f-4513-ac07-9fcd01c59ed2",
        "colab": {
          "base_uri": "https://localhost:8080/",
          "height": 504
        }
      },
      "source": [
        "model_xg = lgd_xg.fit(lgd_train.iloc[:, 1:], lgd_train['lgd'])"
      ],
      "execution_count": 0,
      "outputs": [
        {
          "output_type": "stream",
          "text": [
            "      Iter       Train Loss      OOB Improve   Remaining Time \n",
            "         1           0.0122           0.0005           11.78m\n",
            "         2           0.0117           0.0004           11.10m\n",
            "         3           0.0114           0.0003           10.53m\n",
            "         4           0.0113           0.0003           10.30m\n",
            "         5           0.0109           0.0002           10.12m\n",
            "         6           0.0107           0.0002           10.02m\n",
            "         7           0.0106           0.0001            9.97m\n",
            "         8           0.0105           0.0001            9.90m\n",
            "         9           0.0104           0.0001            9.99m\n",
            "        10           0.0103           0.0001           10.15m\n",
            "        20           0.0100           0.0000           10.14m\n",
            "        30           0.0100           0.0000           10.14m\n",
            "        40           0.0100           0.0000           10.15m\n",
            "        50           0.0099           0.0000           10.19m\n",
            "        60           0.0098           0.0000           10.29m\n",
            "        70           0.0100          -0.0000           10.25m\n",
            "        80           0.0100           0.0000           10.06m\n",
            "        90           0.0099          -0.0000            9.93m\n",
            "       100           0.0099          -0.0000            9.69m\n",
            "       200           0.0098          -0.0000            8.20m\n",
            "       300           0.0098          -0.0000            7.05m\n",
            "       400           0.0098           0.0000            6.13m\n",
            "       500           0.0097          -0.0000            5.12m\n",
            "       600           0.0097          -0.0000            4.11m\n",
            "       700           0.0098          -0.0000            3.09m\n",
            "       800           0.0098          -0.0000            2.06m\n",
            "       900           0.0097          -0.0000            1.03m\n",
            "      1000           0.0097          -0.0000            0.00s\n"
          ],
          "name": "stdout"
        }
      ]
    },
    {
      "cell_type": "code",
      "metadata": {
        "id": "C_VrZJPbNDqO",
        "colab_type": "code",
        "colab": {}
      },
      "source": [
        "lgd_xgb2 = GradientBoostingRegressor(loss='ls', # How to calculate losses. Deviance is for probabilistic outputs. Alternative exponential for AdaBoost. \n",
        "                           learning_rate=0.1, # How much to shrink error in each subsequent training. Trade-off with no. estimators.\n",
        "                           n_estimators=1000, # How many trees to use, the more the better, but decrease learning rate if many used.\n",
        "                           subsample=0.632, # Subsampling to use. 63.2% of data is standard for XGBoost.\n",
        "                           criterion='friedman_mse', # Error to use for each split. Good idea to leave it as is.\n",
        "                           min_samples_split=2, # Minimum samples for a split.\n",
        "                           min_samples_leaf=75, # Minimum samples in a leaf.\n",
        "                           min_weight_fraction_leaf=0.0, # Minimum fraction of samples in a leaf. Consider increasing if first few trees too good.\n",
        "                           max_depth=2, # Maximum depth. Keep it small!\n",
        "                           min_impurity_decrease=0.01, # Minimum impurity decrease. Might want to use 1% or so.\n",
        "                           init=None, # How to make first prediction (it needs one). Can give model that supports fit and predict.\n",
        "                           random_state=251082976, # Seed\n",
        "                           max_features='auto', # Same as RF. \n",
        "                           verbose=1,  # Same as RF.\n",
        "                           max_leaf_nodes=None,  # Same as RF.\n",
        "                           warm_start=False,  # Same as RF.\n",
        "                           presort='auto', # Whether to presort the data to speed up training.\n",
        "                           validation_fraction=0.3, # XGBoost CAN overfit, so control this just in case. Uses 30% validation in this case.\n",
        "                           n_iter_no_change=None, # Iters to stop training if no change occurs between one tree and the next.\n",
        "                           tol=0.0001 # Tolerance. Means maximum change of 10^-4\n",
        "                          )"
      ],
      "execution_count": 0,
      "outputs": []
    },
    {
      "cell_type": "code",
      "metadata": {
        "id": "bypoZy2zNLX1",
        "colab_type": "code",
        "outputId": "1b0df3d2-052a-4e1e-97f1-177c6ebb3c92",
        "colab": {
          "base_uri": "https://localhost:8080/",
          "height": 504
        }
      },
      "source": [
        "model_xg2 = lgd_xgb2.fit(lgd_train.iloc[:, 1:], lgd_train['lgd'])"
      ],
      "execution_count": 0,
      "outputs": [
        {
          "output_type": "stream",
          "text": [
            "      Iter       Train Loss      OOB Improve   Remaining Time \n",
            "         1           0.0122           0.0005            6.01m\n",
            "         2           0.0118           0.0004            6.04m\n",
            "         3           0.0115           0.0003            6.02m\n",
            "         4           0.0113           0.0003            6.01m\n",
            "         5           0.0109           0.0002            6.00m\n",
            "         6           0.0108           0.0002            5.98m\n",
            "         7           0.0107           0.0001            5.97m\n",
            "         8           0.0106           0.0001            5.94m\n",
            "         9           0.0105           0.0001            5.94m\n",
            "        10           0.0104           0.0001            5.94m\n",
            "        20           0.0100           0.0000            5.83m\n",
            "        30           0.0101           0.0000            5.69m\n",
            "        40           0.0101           0.0000            5.63m\n",
            "        50           0.0100           0.0000            5.59m\n",
            "        60           0.0099           0.0000            5.52m\n",
            "        70           0.0100           0.0000            5.44m\n",
            "        80           0.0100           0.0000            5.39m\n",
            "        90           0.0099           0.0000            5.35m\n",
            "       100           0.0099          -0.0000            5.29m\n",
            "       200           0.0099          -0.0000            4.60m\n",
            "       300           0.0099          -0.0000            3.99m\n",
            "       400           0.0098          -0.0000            3.40m\n",
            "       500           0.0098          -0.0000            2.83m\n",
            "       600           0.0098          -0.0000            2.25m\n",
            "       700           0.0099          -0.0000            1.67m\n",
            "       800           0.0099          -0.0000            1.10m\n",
            "       900           0.0098          -0.0000           32.88s\n",
            "      1000           0.0098          -0.0000            0.00s\n"
          ],
          "name": "stdout"
        }
      ]
    },
    {
      "cell_type": "code",
      "metadata": {
        "id": "4P_xEm9iOxug",
        "colab_type": "code",
        "outputId": "921ebefd-6053-4af2-8317-236de60e5af2",
        "colab": {
          "base_uri": "https://localhost:8080/",
          "height": 282
        }
      },
      "source": [
        "plt.plot(model_xg.oob_improvement_)"
      ],
      "execution_count": 0,
      "outputs": [
        {
          "output_type": "execute_result",
          "data": {
            "text/plain": [
              "[<matplotlib.lines.Line2D at 0x7fba66c984a8>]"
            ]
          },
          "metadata": {
            "tags": []
          },
          "execution_count": 206
        },
        {
          "output_type": "display_data",
          "data": {
            "image/png": "[encoded data removed]",
            "text/plain": [
              "<Figure size 432x288 with 1 Axes>"
            ]
          },
          "metadata": {
            "tags": []
          }
        }
      ]
    },
    {
      "cell_type": "code",
      "metadata": {
        "id": "vfeZWWwmDQH3",
        "colab_type": "code",
        "colab": {}
      },
      "source": [
        "xg_pred_regr_test = model_xg.predict(lgd_test.iloc[:, 1:])"
      ],
      "execution_count": 0,
      "outputs": []
    },
    {
      "cell_type": "code",
      "metadata": {
        "id": "Q7gTJ97YK3V4",
        "colab_type": "code",
        "outputId": "e9e4d339-069f-446c-9179-b74bc5e6bce9",
        "colab": {
          "base_uri": "https://localhost:8080/",
          "height": 282
        }
      },
      "source": [
        "sns.distplot(model_xg.predict(lgd_test.iloc[:, 1:]), kde=False)"
      ],
      "execution_count": 0,
      "outputs": [
        {
          "output_type": "execute_result",
          "data": {
            "text/plain": [
              "<matplotlib.axes._subplots.AxesSubplot at 0x7f7df984cda0>"
            ]
          },
          "metadata": {
            "tags": []
          },
          "execution_count": 103
        },
        {
          "output_type": "display_data",
          "data": {
            "image/png": "[encoded data removed]",
            "text/plain": [
              "<Figure size 432x288 with 1 Axes>"
            ]
          },
          "metadata": {
            "tags": []
          }
        }
      ]
    },
    {
      "cell_type": "code",
      "metadata": {
        "id": "KttGSNqCDrnJ",
        "colab_type": "code",
        "outputId": "b0b4b267-6463-48c4-bf5a-b7d252b6fd0a",
        "colab": {
          "base_uri": "https://localhost:8080/",
          "height": 50
        }
      },
      "source": [
        "xg_pred_regr_test"
      ],
      "execution_count": 0,
      "outputs": [
        {
          "output_type": "execute_result",
          "data": {
            "text/plain": [
              "array([0.91466103, 0.92376514, 0.93267266, ..., 0.91218   , 0.92897913,\n",
              "       0.933283  ])"
            ]
          },
          "metadata": {
            "tags": []
          },
          "execution_count": 97
        }
      ]
    },
    {
      "cell_type": "code",
      "metadata": {
        "id": "7xSCxYNwIApy",
        "colab_type": "code",
        "colab": {}
      },
      "source": [
        "pd.DataFrame(model_xg.feature_importances_, index = lgd_test.iloc[:,1:].columns)"
      ],
      "execution_count": 0,
      "outputs": []
    },
    {
      "cell_type": "code",
      "metadata": {
        "id": "O4tsDyc6DtEc",
        "colab_type": "code",
        "outputId": "78c03e46-8e08-4626-d2f0-40c330c48d8c",
        "colab": {
          "base_uri": "https://localhost:8080/",
          "height": 1000
        }
      },
      "source": [
        "plt.figure(dpi=120, figsize=(8,10))\n",
        "plt.barh(lgd_train.columns[1:], model_xg.feature_importances_,\n",
        "        align='center', alpha=0.5)\n",
        "plt.yticks(lgd_train.columns[1:])\n",
        "plt.xlabel('Importance')\n",
        "plt.title('XGBoosting Variable Importance')\n",
        "plt.show()"
      ],
      "execution_count": 0,
      "outputs": [
        {
          "output_type": "display_data",
          "data": {
            "image/png": "[encoded data removed]",
            "text/plain": [
              "<Figure size 960x1200 with 1 Axes>"
            ]
          },
          "metadata": {
            "tags": []
          }
        }
      ]
    },
    {
      "cell_type": "code",
      "metadata": {
        "id": "ma4C3LY5Sd7A",
        "colab_type": "code",
        "colab": {}
      },
      "source": [
        "plt.figure(dpi=120, figsize=(8,10))\n",
        "plt.barh(lgd_train.columns[1:], model_xg2.feature_importances_,\n",
        "        align='center', alpha=0.5)\n",
        "plt.yticks(lgd_train.columns[1:])\n",
        "plt.xlabel('Importance')\n",
        "plt.title('XGBoosting Variable Importance')\n",
        "plt.show()"
      ],
      "execution_count": 0,
      "outputs": []
    },
    {
      "cell_type": "markdown",
      "metadata": {
        "id": "1skfeAbxKISO",
        "colab_type": "text"
      },
      "source": [
        "MSE over the test set "
      ]
    },
    {
      "cell_type": "code",
      "metadata": {
        "id": "SCMfAUQKKIEl",
        "colab_type": "code",
        "outputId": "90ff9f37-1930-4819-b504-c6d9ebb86c66",
        "colab": {
          "base_uri": "https://localhost:8080/",
          "height": 34
        }
      },
      "source": [
        "print('Mean Squared Error XGB:', mean_squared_error(lgd_test.lgd,  model_xg.predict(lgd_test.iloc[:, 1:])))"
      ],
      "execution_count": 0,
      "outputs": [
        {
          "output_type": "stream",
          "text": [
            "Mean Squared Error XGB: 0.00833229361586412\n"
          ],
          "name": "stdout"
        }
      ]
    }
  ]
}